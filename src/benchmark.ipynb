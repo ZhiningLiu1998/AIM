{
 "cells": [
  {
   "cell_type": "code",
   "execution_count": 2,
   "metadata": {},
   "outputs": [
    {
     "name": "stderr",
     "output_type": "stream",
     "text": [
      "WARNING:root:No module named 'tensorflow': AdversarialDebiasing will be unavailable. To install, run:\n",
      "pip install 'aif360[AdversarialDebiasing]'\n"
     ]
    }
   ],
   "source": [
    "import numpy as np\n",
    "import pandas as pd\n",
    "import seaborn as sns\n",
    "import matplotlib.pyplot as plt\n",
    "\n",
    "import warnings\n",
    "warnings.filterwarnings('ignore')\n",
    "\n",
    "# Import base classifiers\n",
    "from sklearn.dummy import DummyClassifier\n",
    "from sklearn.linear_model import LogisticRegression\n",
    "from sklearn.neighbors import KNeighborsClassifier\n",
    "from sklearn.svm import SVC, LinearSVC\n",
    "from sklearn.tree import DecisionTreeClassifier\n",
    "from sklearn.naive_bayes import GaussianNB, BernoulliNB, MultinomialNB\n",
    "from sklearn.neural_network import MLPClassifier\n",
    "from sklearn.gaussian_process import GaussianProcessClassifier\n",
    "from sklearn.ensemble import AdaBoostClassifier, BaggingClassifier\n",
    "from baselines import AdaFairClassifier\n",
    "from imbens.ensemble import SMOTEBoostClassifier, SMOTEBaggingClassifier, RUSBoostClassifier, UnderBaggingClassifier, SelfPacedEnsembleClassifier\n",
    "from fairlearn.postprocessing import ThresholdOptimizer\n",
    "from fairens import FairAugEnsemble, FairEnsemble\n",
    "\n",
    "# Import utilities\n",
    "from data import FairDataset    # This is a custom class that we will use to load the datasets\n",
    "from eval import evaluate_multi_split, verbose_print\n",
    "from trainer import Trainer\n",
    "from utils import seed_generator, dict_info"
   ]
  },
  {
   "cell_type": "code",
   "execution_count": 3,
   "metadata": {},
   "outputs": [
    {
     "data": {
      "text/plain": [
       "'1.3.2'"
      ]
     },
     "execution_count": 3,
     "metadata": {},
     "output_type": "execute_result"
    }
   ],
   "source": [
    "import sklearn\n",
    "sklearn.__version__"
   ]
  },
  {
   "cell_type": "code",
   "execution_count": 4,
   "metadata": {},
   "outputs": [
    {
     "name": "stdout",
     "output_type": "stream",
     "text": [
      "Dataset    : compas (5875, 12) load from ./data/compas.csv\n",
      "Sens/Res   : sex/label\n",
      "Split      : train/test = 0.8/0.2, random_state = 42, x_with_s = True\n",
      "train      | size {0: 929, 1: 3771} | grp_pos_ratio: {0: 0.3617, 1: 0.4916}\n",
      "test       | size {0: 232, 1: 943} | grp_pos_ratio: {0: 0.3621, 1: 0.491}\n",
      "\n",
      "Dataset    : compas (5875, 12) load from ./data/compas.csv\n",
      "Sens/Res   : race/label\n",
      "Split      : train/test = 0.8/0.2, random_state = 42, x_with_s = True\n",
      "train      | size {0: 1878, 1: 2822} | grp_pos_ratio: {0: 0.3946, 1: 0.5135}\n",
      "test       | size {0: 469, 1: 706} | grp_pos_ratio: {0: 0.3945, 1: 0.5127}\n",
      "\n",
      "Dataset    : adult (45222, 99) load from ./data/adult.csv\n",
      "Sens/Res   : gender/label\n",
      "Split      : train/test = 0.8/0.2, random_state = 42, x_with_s = True\n",
      "train      | size {0: 11756, 1: 24421} | grp_pos_ratio: {0: 0.1136, 1: 0.3125}\n",
      "test       | size {0: 2939, 1: 6106} | grp_pos_ratio: {0: 0.1136, 1: 0.3125}\n",
      "\n",
      "Dataset    : adult (45222, 99) load from ./data/adult.csv\n",
      "Sens/Res   : race/label\n",
      "Split      : train/test = 0.8/0.2, random_state = 42, x_with_s = True\n",
      "train      | size {0: 5055, 1: 31122} | grp_pos_ratio: {0: 0.1585, 1: 0.2624}\n",
      "test       | size {0: 1264, 1: 7781} | grp_pos_ratio: {0: 0.1582, 1: 0.2623}\n",
      "\n",
      "Dataset    : bank (30488, 58) load from ./data/bank.csv\n",
      "Sens/Res   : age/label\n",
      "Split      : train/test = 0.8/0.2, random_state = 42, x_with_s = True\n",
      "train      | size {0: 23699, 1: 691} | grp_pos_ratio: {0: 0.1235, 1: 0.2301}\n",
      "test       | size {0: 5925, 1: 173} | grp_pos_ratio: {0: 0.1235, 1: 0.2312}\n",
      "\n",
      "Dataset    : bank (30488, 58) load from ./data/bank.csv\n",
      "Sens/Res   : marital=married/label\n",
      "Split      : train/test = 0.8/0.2, random_state = 42, x_with_s = True\n",
      "train      | size {0: 13994, 1: 10396} | grp_pos_ratio: {0: 0.1176, 1: 0.1387}\n",
      "test       | size {0: 3498, 1: 2600} | grp_pos_ratio: {0: 0.1175, 1: 0.1388}\n",
      "\n",
      "////// Dataset ZOO //////\n",
      "compas_sex: <data.FairDataset object at 0x00000153E6D0B040>\n",
      "compas_race: <data.FairDataset object at 0x00000153E6D0B130>\n",
      "adult_gender: <data.FairDataset object at 0x00000153DF980F70>\n",
      "adult_race: <data.FairDataset object at 0x00000153E6D0B160>\n",
      "bank_age: <data.FairDataset object at 0x00000153DF7F82B0>\n",
      "bank_marital=married: <data.FairDataset object at 0x00000153DF84A430>\n",
      "\n",
      "\n"
     ]
    }
   ],
   "source": [
    "\"\"\"Load Datasets\"\"\"\n",
    "\n",
    "dataset_kwargs = {\n",
    "    'y_col': 'label',\n",
    "    'train_size': 0.6,\n",
    "    'val_size': 0.2,\n",
    "    'test_size': 0.2,\n",
    "    'concat_train_val': True,\n",
    "    'normalize': True,\n",
    "    'random_state': 42,\n",
    "}\n",
    "\n",
    "all_datasets = {\n",
    "    'compas': ['sex', 'race'],\n",
    "    'adult': ['gender', 'race'],\n",
    "    'bank': ['age', 'marital=married'],\n",
    "    # 'lsa_unfair_gender_race': ['gender', 'race'],\n",
    "}\n",
    "\n",
    "\"\"\"\n",
    "Create a dictionary of datasets: dataset_zoo\n",
    "key: dataset name\n",
    "value: FairDataset object\n",
    "\"\"\"\n",
    "dataset_zoo = {}\n",
    "for dataname, s_attrs in all_datasets.items():\n",
    "    for s_attr in s_attrs:\n",
    "        dataset = FairDataset(\n",
    "            dataname=dataname,\n",
    "            csv_path=f'./data/{dataname}.csv',\n",
    "            s_col=s_attr,\n",
    "            **dataset_kwargs\n",
    "        )\n",
    "        dataset_zoo[dataset.fullname] = dataset\n",
    "\n",
    "        # dataset.describe()\n",
    "        dataset.brief()\n",
    "\n",
    "# Print the information of the datasets and models\n",
    "print(\n",
    "    f\"////// Dataset ZOO //////\\n\"\n",
    "    f\"{dict_info(dataset_zoo)}\\n\"\n",
    ")\n",
    "\n",
    "dataset_zoo_subset = {\n",
    "    'compas_sex': dataset_zoo['compas_sex'],\n",
    "    'compas_race': dataset_zoo['compas_race'],\n",
    "}"
   ]
  },
  {
   "cell_type": "code",
   "execution_count": 5,
   "metadata": {},
   "outputs": [
    {
     "name": "stdout",
     "output_type": "stream",
     "text": [
      "Initializing Benchmarker with:\n",
      "Random seed: 42\n",
      "Base models: ['LR']\n",
      "Techniques:  ['Reweight', 'ReductionDP', 'ReductionEO', 'ThresDP', 'ThresEO', 'AdaFair']\n",
      "Datasets:    ['compas_sex', 'compas_race']\n",
      "# models:    7\n",
      "# datasets:  2\n",
      "\n",
      "Running All models ...\n",
      "========== Start Running on Dataset: compas_sex ==========\n"
     ]
    },
    {
     "name": "stderr",
     "output_type": "stream",
     "text": [
      "Data: compas_sex | Model: Dummy          : 100%|██████████| 5/5 [00:00<00:00,  8.94it/s, ACC 0.497±0.021 | BACC 0.495±0.022 | DP 0.010±0.006 | EO 0.044±0.043 | SI 0.000±0.000 | AdvG {0: 4, 1: 1}]\n",
      "Data: compas_sex | Model: LR             : 100%|██████████| 5/5 [00:00<00:00,  8.74it/s, ACC 0.696±0.006 | BACC 0.690±0.006 | DP 0.336±0.016 | EO 0.382±0.039 | SI 0.210±0.013 | AdvG {1: 5}]\n",
      "Data: compas_sex | Model: LR_Reweight    : 100%|██████████| 5/5 [00:01<00:00,  2.71it/s, ACC 0.689±0.009 | BACC 0.677±0.009 | DP 0.275±0.022 | EO 0.343±0.055 | SI 0.166±0.010 | AdvG {1: 5}]\n",
      "Data: compas_sex | Model: LR_ReductionDP : 100%|██████████| 5/5 [00:01<00:00,  4.09it/s, ACC 0.689±0.010 | BACC 0.686±0.010 | DP 0.105±0.041 | EO 0.086±0.043 | SI 0.000±0.000 | AdvG {1: 5}]\n",
      "Data: compas_sex | Model: LR_ReductionEO : 100%|██████████| 5/5 [00:01<00:00,  3.91it/s, ACC 0.687±0.009 | BACC 0.682±0.009 | DP 0.128±0.028 | EO 0.109±0.033 | SI 0.000±0.000 | AdvG {1: 5}]\n",
      "Data: compas_sex | Model: LR_ThresDP     : 100%|██████████| 5/5 [00:00<00:00,  5.50it/s, ACC 0.670±0.008 | BACC 0.668±0.008 | DP 0.031±0.010 | EO 0.146±0.051 | SI 0.192±0.011 | AdvG {0: 3, 1: 2}]\n",
      "Data: compas_sex | Model: LR_ThresEO     : 100%|██████████| 5/5 [00:00<00:00,  5.70it/s, ACC 0.620±0.010 | BACC 0.603±0.010 | DP 0.032±0.026 | EO 0.064±0.039 | SI 0.116±0.010 | AdvG {1: 3, 0: 2}]\n",
      "Data: compas_sex | Model: LR_AdaFair     : 100%|██████████| 5/5 [00:00<00:00,  7.09it/s, ACC 0.595±0.036 | BACC 0.581±0.047 | DP 0.194±0.124 | EO 0.256±0.161 | SI 0.144±0.119 | AdvG {1.0: 4}]\n"
     ]
    },
    {
     "name": "stdout",
     "output_type": "stream",
     "text": [
      "========== Run Time on Dataset compas_sex: 0m8s ==========\n",
      "Results on Data: compas_sex\n",
      "Model: Dummy          | ACC 0.497±0.021            | BACC 0.495±0.022            | DP 0.010±0.006            | EO 0.044±0.043            | SI 0.000±0.000           \n",
      "Model: LR             | ACC 0.696±0.006            | BACC 0.690±0.006            | DP 0.336±0.016            | EO 0.382±0.039            | SI 0.210±0.013           \n",
      "Model: LR_Reweight    | ACC 0.689±0.009 (-3.59%)   | BACC 0.677±0.009 (-6.74%)   | DP 0.275±0.022 (-18.18%)  | EO 0.343±0.055 (-10.36%)  | SI 0.166±0.010 (-20.75%)  | FURG 11.26    | FUTR 3.18    \n",
      "Model: LR_ReductionDP | ACC 0.689±0.010 (-3.42%)   | BACC 0.686±0.010 (-2.08%)   | DP 0.105±0.041 (-68.82%)  | EO 0.086±0.043 (-77.60%)  | SI 0.000±0.000 (-100.00%) | FURG 79.39    | FUTR 29.87   \n",
      "Model: LR_ReductionEO | ACC 0.687±0.009 (-4.36%)   | BACC 0.682±0.009 (-3.93%)   | DP 0.128±0.028 (-61.80%)  | EO 0.109±0.033 (-71.38%)  | SI 0.000±0.000 (-100.00%) | FURG 73.58    | FUTR 18.74   \n",
      "Model: LR_ThresDP     | ACC 0.670±0.008 (-13.16%)  | BACC 0.668±0.008 (-11.10%)  | DP 0.031±0.010 (-90.64%)  | EO 0.146±0.051 (-61.92%)  | SI 0.192±0.011 (-8.51%)   | FURG 41.56    | FUTR 4.43    \n",
      "Model: LR_ThresEO     | ACC 0.620±0.010 (-37.95%)  | BACC 0.603±0.010 (-44.81%)  | DP 0.032±0.026 (-90.42%)  | EO 0.064±0.039 (-83.37%)  | SI 0.116±0.010 (-44.65%)  | FURG 31.43    | FUTR 1.76    \n",
      "Model: LR_AdaFair     | ACC 0.595±0.036 (-50.51%)  | BACC 0.581±0.047 (-55.87%)  | DP 0.194±0.124 (-42.20%)  | EO 0.256±0.161 (-32.92%)  | SI 0.144±0.119 (-31.60%)  | FURG -17.62   | FUTR 0.67    \n",
      "========== Start Running on Dataset: compas_race ==========\n"
     ]
    },
    {
     "name": "stderr",
     "output_type": "stream",
     "text": [
      "Data: compas_race | Model: Dummy          : 100%|██████████| 5/5 [00:00<00:00,  9.62it/s, ACC 0.491±0.015 | BACC 0.489±0.016 | DP 0.014±0.012 | EO 0.035±0.023 | SI 0.000±0.000 | AdvG {1: 3, 0: 2}]\n",
      "Data: compas_race | Model: LR             : 100%|██████████| 5/5 [00:00<00:00,  8.94it/s, ACC 0.685±0.011 | BACC 0.680±0.011 | DP 0.310±0.028 | EO 0.337±0.036 | SI 0.058±0.013 | AdvG {1: 5}]\n",
      "Data: compas_race | Model: LR_Reweight    : 100%|██████████| 5/5 [00:01<00:00,  2.76it/s, ACC 0.677±0.012 | BACC 0.667±0.012 | DP 0.275±0.028 | EO 0.319±0.040 | SI 0.070±0.008 | AdvG {1: 5}]\n",
      "Data: compas_race | Model: LR_ReductionDP : 100%|██████████| 5/5 [00:01<00:00,  4.12it/s, ACC 0.643±0.035 | BACC 0.630±0.036 | DP 0.126±0.052 | EO 0.168±0.049 | SI 0.000±0.000 | AdvG {1: 5}]\n",
      "Data: compas_race | Model: LR_ReductionEO : 100%|██████████| 5/5 [00:01<00:00,  3.94it/s, ACC 0.652±0.039 | BACC 0.642±0.039 | DP 0.132±0.063 | EO 0.158±0.073 | SI 0.000±0.000 | AdvG {1: 5}]\n",
      "Data: compas_race | Model: LR_ThresDP     : 100%|██████████| 5/5 [00:00<00:00,  5.61it/s, ACC 0.643±0.010 | BACC 0.645±0.009 | DP 0.035±0.018 | EO 0.132±0.032 | SI 0.053±0.012 | AdvG {1: 4, 0: 1}]\n",
      "Data: compas_race | Model: LR_ThresEO     :  60%|██████    | 3/5 [00:00<00:00,  5.63it/s]"
     ]
    }
   ],
   "source": [
    "from trainer import Benchmarker\n",
    "from baselines import ReweightClassifier, ReductionClassifier\n",
    "\n",
    "ensemble_kwargs = {\n",
    "    'n_estimators': 5,\n",
    "    'random_state': 42,\n",
    "}\n",
    "single_ensemble_kwargs = {\n",
    "    'n_estimators': 1,\n",
    "    'random_state': 42,\n",
    "}\n",
    "\n",
    "base_models = {\n",
    "    'LR': LogisticRegression(),\n",
    "    # 'KN': KNeighborsClassifier(),\n",
    "    # 'DT': DecisionTreeClassifier(max_depth=None),\n",
    "    # 'MLP': MLPClassifier(hidden_layer_sizes=(8), max_iter=50),\n",
    "    # 'ADA': AdaBoostClassifier(estimator=DecisionTreeClassifier(max_depth=None), n_estimators=5),\n",
    "    # 'BAG': BaggingClassifier(estimator=DecisionTreeClassifier(max_depth=None), n_estimators=5),\n",
    "}\n",
    "\n",
    "baselines = {\n",
    "    # 'AdaBoost': (AdaBoostClassifier, {**ensemble_kwargs}),\n",
    "    # 'Bagging': (BaggingClassifier, {**ensemble_kwargs}),\n",
    "    # 'RUSBoost': (RUSBoostClassifier, {**ensemble_kwargs}),\n",
    "    # 'UnderBag': (UnderBaggingClassifier, {**ensemble_kwargs}),\n",
    "    # 'SMBoost': (SMOTEBoostClassifier, {**ensemble_kwargs}),\n",
    "    # 'SMBag': (SMOTEBaggingClassifier, {**ensemble_kwargs}),\n",
    "    'Reweight': (ReweightClassifier, {}),\n",
    "    'ReductionDP': (ReductionClassifier, {'constraints': 'DemographicParity'}),\n",
    "    'ReductionEO': (ReductionClassifier, {'constraints': 'EqualizedOdds'}),\n",
    "    'ThresDP': (ThresholdOptimizer, {'constraints': 'demographic_parity'}),\n",
    "    'ThresEO': (ThresholdOptimizer, {'constraints': 'equalized_odds'}),\n",
    "    'AdaFair': (AdaFairClassifier, {'saIndex': 0, 'saValue': 0, 'CSB': 'CSB2', **ensemble_kwargs}),\n",
    "}\n",
    "\n",
    "benchmark = Benchmarker(\n",
    "    base_models=base_models,\n",
    "    baselines=baselines,\n",
    "    datasets=dataset_zoo_subset,\n",
    "    random_state=42,\n",
    "    dummy_strategy='stratified',\n",
    ")\n",
    "benchmark.run(n_runs=5, group_by='dataset', exception='ignore')"
   ]
  }
 ],
 "metadata": {
  "kernelspec": {
   "display_name": "base",
   "language": "python",
   "name": "python3"
  },
  "language_info": {
   "codemirror_mode": {
    "name": "ipython",
    "version": 3
   },
   "file_extension": ".py",
   "mimetype": "text/x-python",
   "name": "python",
   "nbconvert_exporter": "python",
   "pygments_lexer": "ipython3",
   "version": "3.9.18"
  }
 },
 "nbformat": 4,
 "nbformat_minor": 2
}
