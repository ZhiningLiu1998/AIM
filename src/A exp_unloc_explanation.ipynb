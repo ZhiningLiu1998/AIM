{
 "cells": [
  {
   "cell_type": "code",
   "execution_count": 46,
   "metadata": {},
   "outputs": [
    {
     "name": "stderr",
     "output_type": "stream",
     "text": [
      "WARNING:root:No module named 'tensorflow': AdversarialDebiasing will be unavailable. To install, run:\n",
      "pip install 'aif360[AdversarialDebiasing]'\n",
      "WARNING:root:No module named 'rpy2': FairAdapt will be unavailable. To install, run:\n",
      "pip install 'aif360[FairAdapt]'\n"
     ]
    },
    {
     "name": "stdout",
     "output_type": "stream",
     "text": [
      "Now using GPU #0:\n",
      "Tesla V100-SXM2-32GB\n"
     ]
    }
   ],
   "source": [
    "import sklearn\n",
    "# import shap\n",
    "\n",
    "import numpy as np\n",
    "import pandas as pd\n",
    "import seaborn as sns\n",
    "import matplotlib.pyplot as plt\n",
    "\n",
    "import warnings\n",
    "warnings.filterwarnings('ignore')\n",
    "\n",
    "# Import base classifiers\n",
    "from sklearn.dummy import DummyClassifier\n",
    "from sklearn.linear_model import LogisticRegression\n",
    "from sklearn.neighbors import KNeighborsClassifier\n",
    "from sklearn.svm import SVC, LinearSVC\n",
    "from sklearn.tree import DecisionTreeClassifier\n",
    "from sklearn.naive_bayes import GaussianNB, BernoulliNB, MultinomialNB\n",
    "from sklearn.neural_network import MLPClassifier\n",
    "from sklearn.gaussian_process import GaussianProcessClassifier\n",
    "from sklearn.ensemble import AdaBoostClassifier, BaggingClassifier\n",
    "from baselines import AdaFairClassifier\n",
    "from imbens.ensemble import SMOTEBoostClassifier, SMOTEBaggingClassifier, RUSBoostClassifier, UnderBaggingClassifier, SelfPacedEnsembleClassifier\n",
    "from fairlearn.postprocessing import ThresholdOptimizer\n",
    "from fairens import FairAugEnsemble, FairEnsemble\n",
    "\n",
    "# Set GPU for matrix computations\n",
    "import torch\n",
    "device = 'cuda' if torch.cuda.is_available() else 'cpu'\n",
    "if device == 'cuda':\n",
    "    torch.cuda.set_device(0)\n",
    "    device_id = torch.cuda.current_device()\n",
    "    print (f\"Now using GPU #{device_id}:\\n{torch.cuda.get_device_name(device_id)}\")\n",
    "\n",
    "# Import utilities\n",
    "from data import FairDataset    # This is a custom class that we will use to load the datasets\n",
    "from eval import evaluate_multi_split, verbose_print\n",
    "from trainer import Trainer\n",
    "from utils import seed_generator, dict_info, describe_data"
   ]
  },
  {
   "cell_type": "markdown",
   "metadata": {},
   "source": [
    "# Load dataset\n"
   ]
  },
  {
   "cell_type": "code",
   "execution_count": 2,
   "metadata": {},
   "outputs": [
    {
     "name": "stdout",
     "output_type": "stream",
     "text": [
      "Dataset    : adult (45222, 99) load from ./data/adult.csv\n",
      "Sens/Res   : gender/label\n",
      "Split      : train/test = 0.8/0.2, random_state = 42, x_with_s = True\n",
      "train data [#samples 36177 #features 98]:\n",
      "+-----+-------+-------+------------+\n",
      "|     |   y=0 |   y=1 |   pos_rate |\n",
      "+=====+=======+=======+============+\n",
      "| s=0 | 10421 |  1335 |     0.1136 |\n",
      "+-----+-------+-------+------------+\n",
      "| s=1 | 16790 |  7631 |     0.3125 |\n",
      "+-----+-------+-------+------------+\n",
      "test data [#samples 9045 #features 98]:\n",
      "+-----+-------+-------+------------+\n",
      "|     |   y=0 |   y=1 |   pos_rate |\n",
      "+=====+=======+=======+============+\n",
      "| s=0 |  2605 |   334 |     0.1136 |\n",
      "+-----+-------+-------+------------+\n",
      "| s=1 |  4198 |  1908 |     0.3125 |\n",
      "+-----+-------+-------+------------+\n",
      "\n"
     ]
    }
   ],
   "source": [
    "SEED = 42\n",
    "n_splits = 5\n",
    "i_split = 0\n",
    "\n",
    "dataset_kwargs = {\n",
    "    'y_col': 'label',\n",
    "    'train_size': 0.6,\n",
    "    'val_size': 0.2,\n",
    "    'test_size': 0.2,\n",
    "    'concat_train_val': True,\n",
    "    'normalize': True,\n",
    "    'random_state': 42,\n",
    "}\n",
    "\n",
    "dataname = 'adult'\n",
    "s_attr = 'gender'\n",
    "# dataname = 'compas'\n",
    "# s_attr = 'sex'\n",
    "data = FairDataset(\n",
    "    dataname=dataname,\n",
    "    csv_path=f'./data/{dataname}.csv',\n",
    "    s_col=s_attr,\n",
    "    x_with_s=True,\n",
    "    **dataset_kwargs\n",
    ")\n",
    "\n",
    "data.describe()\n",
    "\n",
    "(\n",
    "    (X_train, y_train, s_train),\n",
    "    (X_val, y_val, s_val),\n",
    "    (X_test, y_test, s_test),\n",
    "    (idx_train, idx_val, idx_test)\n",
    ") = data.get_subgroup_split(i_split=i_split, random_state=SEED, n_splits=n_splits)\n",
    "\n",
    "classes = np.unique(y_train)\n",
    "n_feat = X_train.shape[1]\n",
    "n_class = len(classes)"
   ]
  },
  {
   "cell_type": "code",
   "execution_count": 3,
   "metadata": {},
   "outputs": [
    {
     "name": "stdout",
     "output_type": "stream",
     "text": [
      "data_split_info: adult_gender_split[1of5]_seed[42]\n",
      "////// Feature Numbers //////\n",
      "Total:        97 \n",
      "Continuous:   5  \t e.g., ['capital-gain', 'age', 'education-num', 'capital-loss', 'hours-per-week'] \n",
      "Categorical:  1  \t e.g., ['race'] \n",
      "One-hot:      91 \t e.g., ['workclass=Federal-gov', 'workclass=Local-gov', 'workclass=Private', 'workclass=Self-emp-inc', 'workclass=Self-emp-not-inc']\n",
      "Raw one-hot:  6  \t e.g., ['education', 'marital-status', 'occupation', 'native-country', 'relationship']\n",
      "Raw total:    12 \n",
      "////// Comparable Analyzer //////\n",
      "Data shape: (27133, 12)\n",
      "[5] Continuous features: ['capital-gain', 'age', 'education-num', 'capital-loss', 'hours-per-week']\n",
      "[7] Categorical features: ['race', 'education', 'marital-status', 'occupation', 'native-country', 'relationship', 'workclass']\n",
      "\n",
      "Matrix loaded from data_cache/proximity/adult_gender_split[1of5]_seed[42]_TC=0.1_TD=2_RP=0.1_norm=sym_matrix.h5\n"
     ]
    }
   ],
   "source": [
    "from utils_unloc import DataProcessor\n",
    "\n",
    "data_split_info = f\"{data.fullname}_split[{i_split+1}of{n_splits}]_seed[{SEED}]\"\n",
    "print(f\"data_split_info: {data_split_info}\")\n",
    "\n",
    "s_prv, s_prt = 1, 0\n",
    "\n",
    "msk_prv, msk_prt = s_train == s_prv, s_train == s_prt\n",
    "n_prv, n_prt = msk_prv.sum(), msk_prt.sum()\n",
    "idx_prv, idx_prt = np.where(msk_prv)[0], np.where(msk_prt)[0]\n",
    "\n",
    "X_prv, y_prv = X_train[idx_prv], y_train[idx_prv]\n",
    "X_prt, y_prt = X_train[idx_prt], y_train[idx_prt]\n",
    "\n",
    "\n",
    "dp = DataProcessor()\n",
    "\n",
    "df_train = pd.DataFrame(X_train, columns=data.feature_names)\n",
    "df_train = df_train.drop(data.s_col, axis=1)\n",
    "idx_feats, num_feats, name_feats = dp.parse_feature_types(df_train, verbose=True)\n",
    "df_train_encoded, feats_con, feats_cat = dp.get_reverse_onehot_dataframe(df_train,  name_feats)\n",
    "df_train_encoded\n",
    "\n",
    "\n",
    "from utils_unloc import ComparableSampleAnalyzer\n",
    "\n",
    "prox_kwargs = {\n",
    "    't_con': 0.1, 't_cat': 2, 'restart_prob': 0.1, 'mat_norm': 'sym', \n",
    "    'relax': True, 'max_relax': 3, 'relax_factor': 0.1, \n",
    "    'include_self': False\n",
    "}\n",
    "\n",
    "csa = ComparableSampleAnalyzer(\n",
    "    df_train_encoded, feats_con, feats_cat, \n",
    "    save_path='data_cache', data_setting=data_split_info, \n",
    "    compress=False, verbose=True\n",
    ")\n",
    "P = csa.get_proximity(**prox_kwargs)"
   ]
  },
  {
   "cell_type": "code",
   "execution_count": 4,
   "metadata": {},
   "outputs": [
    {
     "name": "stdout",
     "output_type": "stream",
     "text": [
      "Loaded score from adult_gender_split[1of5]_seed[42]_{'t_con': 0.1, 't_cat': 2, 'restart_prob': 0.1, 'mat_norm': 'sym', 'relax': True, 'max_relax': 3, 'relax_factor': 0.1, 'include_self': False}_score.csv\n"
     ]
    },
    {
     "data": {
      "text/html": [
       "<div>\n",
       "<style scoped>\n",
       "    .dataframe tbody tr th:only-of-type {\n",
       "        vertical-align: middle;\n",
       "    }\n",
       "\n",
       "    .dataframe tbody tr th {\n",
       "        vertical-align: top;\n",
       "    }\n",
       "\n",
       "    .dataframe thead th {\n",
       "        text-align: right;\n",
       "    }\n",
       "</style>\n",
       "<table border=\"1\" class=\"dataframe\">\n",
       "  <thead>\n",
       "    <tr style=\"text-align: right;\">\n",
       "      <th></th>\n",
       "      <th>conf</th>\n",
       "      <th>unf</th>\n",
       "      <th>unf_contr</th>\n",
       "    </tr>\n",
       "  </thead>\n",
       "  <tbody>\n",
       "    <tr>\n",
       "      <th>0</th>\n",
       "      <td>0.939018</td>\n",
       "      <td>0.002154</td>\n",
       "      <td>0.027044</td>\n",
       "    </tr>\n",
       "    <tr>\n",
       "      <th>1</th>\n",
       "      <td>0.493721</td>\n",
       "      <td>0.304229</td>\n",
       "      <td>0.142366</td>\n",
       "    </tr>\n",
       "    <tr>\n",
       "      <th>2</th>\n",
       "      <td>0.451387</td>\n",
       "      <td>0.881193</td>\n",
       "      <td>0.043696</td>\n",
       "    </tr>\n",
       "    <tr>\n",
       "      <th>3</th>\n",
       "      <td>0.842168</td>\n",
       "      <td>0.044978</td>\n",
       "      <td>0.067009</td>\n",
       "    </tr>\n",
       "    <tr>\n",
       "      <th>4</th>\n",
       "      <td>0.948066</td>\n",
       "      <td>0.000001</td>\n",
       "      <td>0.000064</td>\n",
       "    </tr>\n",
       "    <tr>\n",
       "      <th>...</th>\n",
       "      <td>...</td>\n",
       "      <td>...</td>\n",
       "      <td>...</td>\n",
       "    </tr>\n",
       "    <tr>\n",
       "      <th>27128</th>\n",
       "      <td>0.987164</td>\n",
       "      <td>0.005077</td>\n",
       "      <td>0.271993</td>\n",
       "    </tr>\n",
       "    <tr>\n",
       "      <th>27129</th>\n",
       "      <td>0.991309</td>\n",
       "      <td>0.000237</td>\n",
       "      <td>0.004012</td>\n",
       "    </tr>\n",
       "    <tr>\n",
       "      <th>27130</th>\n",
       "      <td>0.980403</td>\n",
       "      <td>0.014899</td>\n",
       "      <td>0.075762</td>\n",
       "    </tr>\n",
       "    <tr>\n",
       "      <th>27131</th>\n",
       "      <td>0.897880</td>\n",
       "      <td>0.013478</td>\n",
       "      <td>0.730388</td>\n",
       "    </tr>\n",
       "    <tr>\n",
       "      <th>27132</th>\n",
       "      <td>0.646862</td>\n",
       "      <td>0.006311</td>\n",
       "      <td>0.081728</td>\n",
       "    </tr>\n",
       "  </tbody>\n",
       "</table>\n",
       "<p>27133 rows × 3 columns</p>\n",
       "</div>"
      ],
      "text/plain": [
       "           conf       unf  unf_contr\n",
       "0      0.939018  0.002154   0.027044\n",
       "1      0.493721  0.304229   0.142366\n",
       "2      0.451387  0.881193   0.043696\n",
       "3      0.842168  0.044978   0.067009\n",
       "4      0.948066  0.000001   0.000064\n",
       "...         ...       ...        ...\n",
       "27128  0.987164  0.005077   0.271993\n",
       "27129  0.991309  0.000237   0.004012\n",
       "27130  0.980403  0.014899   0.075762\n",
       "27131  0.897880  0.013478   0.730388\n",
       "27132  0.646862  0.006311   0.081728\n",
       "\n",
       "[27133 rows x 3 columns]"
      ]
     },
     "execution_count": 4,
     "metadata": {},
     "output_type": "execute_result"
    }
   ],
   "source": [
    "from utils_unloc import DataProcessor, UnfairnessAttributer, ComparableSampleAnalyzer\n",
    "from utils import generate_random_seeds\n",
    "\n",
    "class UnLoc():\n",
    "    \n",
    "    def __init__(self) -> None:\n",
    "        pass\n",
    "\n",
    "    def _save_df(self, df, name, path='./data_cache/score'):\n",
    "        df.to_csv(f\"{path}/{name}.csv\", index=False)\n",
    "\n",
    "    def _load_df(self, name, path='./data_cache/score'):\n",
    "        return pd.read_csv(f\"{path}/{name}.csv\")\n",
    "\n",
    "    def compute_df_encoded(self, X, features, s_col):\n",
    "        dp = DataProcessor()\n",
    "        df_train_withs = pd.DataFrame(X, columns=features)\n",
    "        idx_feats, num_feats, name_feats = dp.parse_feature_types(df_train_withs, verbose=False)\n",
    "        df_train_withs_nooh, feats_con, feats_cat = dp.get_reverse_onehot_dataframe(df_train_withs, name_feats, encode=False)\n",
    "        self.df_train_withs = df_train_withs\n",
    "        self.df_train_withs_nooh = df_train_withs_nooh\n",
    "        self.name_feats_withs = name_feats\n",
    "        \n",
    "        # we dont use sensitive attribute for computing comparable samples\n",
    "        df_train = pd.DataFrame(X, columns=features).drop(s_col, axis=1)\n",
    "        idx_feats, num_feats, name_feats = dp.parse_feature_types(df_train, verbose=False)\n",
    "        df_train_encoded, feats_con, feats_cat = dp.get_reverse_onehot_dataframe(df_train, name_feats)\n",
    "\n",
    "        self.df_train = df_train\n",
    "        self.df_train_encoded = df_train_encoded\n",
    "        self.feats_con = feats_con\n",
    "        self.feats_cat = feats_cat\n",
    "        self.name_feats = name_feats\n",
    "        \n",
    "    def fit_transform(self, X, y, s, data_split_info, features, s_col, prox_kwargs, s_prv=1, s_prt=0):\n",
    "        # guarantee X's 1st column is sensitive attribute\n",
    "        assert (X[:, 0] == s).all()\n",
    "        \n",
    "        file_name = f\"{data_split_info}_{str(prox_kwargs)}_score\"\n",
    "        \n",
    "        self.compute_df_encoded(X, features, s_col)\n",
    "\n",
    "        try:\n",
    "            df_score = self._load_df(file_name)\n",
    "            print(f\"Loaded score from {file_name}.csv\")\n",
    "            return df_score\n",
    "        except:\n",
    "            pass\n",
    "\n",
    "        P = self.get_proximity(X, y, s, data_split_info, features, s_col, prox_kwargs, s_prv=s_prv, s_prt=s_prt)\n",
    "\n",
    "        # compute confidence score\n",
    "        attributer = UnfairnessAttributer(P)\n",
    "        df_score = attributer.compute_confidence(X, y, s, s_prv=s_prv, s_prt=s_prt)\n",
    "\n",
    "        # save df_score\n",
    "        self._save_df(df_score, file_name)\n",
    "        print(f\"Saved score to {file_name}.csv\")\n",
    "\n",
    "        return df_score\n",
    "\n",
    "    def get_proximity(self, X, y, s, data_split_info, features, s_col, prox_kwargs, s_prv=1, s_prt=0):\n",
    "        \n",
    "        df_train_encoded, feats_con, feats_cat = self.df_train_encoded, self.feats_con, self.feats_cat\n",
    "        \n",
    "        csa = ComparableSampleAnalyzer(\n",
    "            df_train_encoded, feats_con, feats_cat, \n",
    "            save_path='data_cache', data_setting=data_split_info, \n",
    "            compress=False, verbose=True\n",
    "        )\n",
    "        P = csa.get_proximity(**prox_kwargs)\n",
    "        return P\n",
    "    \n",
    "\n",
    "    def fair_aug(\n",
    "        self, aug_ratio, X_train, y_train, s_train, P, \n",
    "        s_prv=1, s_prt=0, filter=None, weights=None, dummy=False, random_seed=None, verbose=False\n",
    "    ):\n",
    "        if aug_ratio == 0:\n",
    "            return X_train, y_train, s_train, 0\n",
    "        \n",
    "        if filter is not None:\n",
    "            if filter == 'prt-pos':\n",
    "                mask_seeds = (y_train == 1) & (s_train == s_prt)\n",
    "            elif filter == 'pos':\n",
    "                mask_seeds = (y_train == 1)\n",
    "            else:\n",
    "                raise NotImplementedError\n",
    "        else: mask_seeds = np.ones(len(y_train), dtype=bool)\n",
    "        \n",
    "        if weights is None or dummy:\n",
    "            weights = np.ones(len(y_train), dtype=float)\n",
    "        else:\n",
    "            assert weights.shape == y_train.shape\n",
    "\n",
    "        seed_weights = weights[mask_seeds]\n",
    "        seed_weights /= seed_weights.sum()\n",
    "        \n",
    "        # compute n aug\n",
    "        n_aug = int(aug_ratio * len(seed_weights))\n",
    "        \n",
    "        # sample seeds\n",
    "        idx_seeds = np.where(mask_seeds)[0]\n",
    "        np.random.seed(random_seed)\n",
    "        idx_aug_seeds = np.random.choice(\n",
    "            idx_seeds, n_aug, p=seed_weights, replace=True\n",
    "        )\n",
    "\n",
    "        random_seeds = generate_random_seeds(n_aug, random_seed)\n",
    "\n",
    "        X_new, y_new, s_new = [], [], []\n",
    "\n",
    "        for i, idx_seed in enumerate(idx_aug_seeds):\n",
    "            rand_seed = random_seeds[i]\n",
    "            idx_mixup = get_mixup_idx(\n",
    "                idx_seed, P, y_train, s_train,\n",
    "                group_constraint='same', label_constraint='diff', \n",
    "                top_n=10, random_seed=rand_seed\n",
    "            )\n",
    "            _, x_new_input = mixup_instance(\n",
    "                idx_seed, idx_mixup, \n",
    "                self.df_train_withs_nooh, \n",
    "                self.df_train_withs, \n",
    "                self.name_feats_withs, \n",
    "                seed=rand_seed\n",
    "            )\n",
    "            X_new.append(x_new_input)\n",
    "            y_new.append(y_train[idx_seed])\n",
    "            s_new.append(s_train[idx_seed])\n",
    "        \n",
    "        X_edited = np.concatenate([X_train, np.array(X_new)], axis=0)\n",
    "        y_edited = np.concatenate([y_train, np.array(y_new)], axis=0)\n",
    "        s_edited = np.concatenate([s_train, np.array(s_new)], axis=0)\n",
    "        \n",
    "        if verbose:\n",
    "            print(\n",
    "                f\"{len(y_edited) - len(y_train)} samples added from the dataset.\\n\"\n",
    "                f\"Dataset shape: {X_train.shape} -> {X_edited.shape}\\n\"\n",
    "                f\"S distribution {np.unique(s_train, return_counts=True)} -> {np.unique(s_edited, return_counts=True)}\\n\"\n",
    "                f\"Y distribution {np.unique(y_train, return_counts=True)} -> {np.unique(y_edited, return_counts=True)}\"\n",
    "            )\n",
    "\n",
    "        return X_edited, y_edited, s_edited, n_aug\n",
    "        \n",
    "\n",
    "    def fair_removal(\n",
    "        self, X_train, y_train, s_train, weights, edit_ratio, how='removal',\n",
    "        s_prv=1, s_prt=0, filter=None, verbose=False, dummy=False, random_state=42,\n",
    "    ):\n",
    "        # Sort indices by descending weights\n",
    "        sorted_indices = np.argsort(weights)[::-1]\n",
    "\n",
    "        if filter is not None:\n",
    "            if filter == 'prt-neg':\n",
    "                filter_idx = (y_train[sorted_indices] == 0) & (s_train[sorted_indices] == s_prt)\n",
    "            elif filter == 'prv-pos':\n",
    "                filter_idx = (y_train[sorted_indices] == 1) & (s_train[sorted_indices] == s_prv)\n",
    "            elif filter == 'prt-neg-prv-pos':\n",
    "                filter_idx = ((y_train[sorted_indices] == 0) & (s_train[sorted_indices] == s_prt)) | ((y_train[sorted_indices] == 1) & (s_train[sorted_indices] == s_prv))\n",
    "            elif filter == 'prv':\n",
    "                filter_idx = (s_train[sorted_indices] == s_prv)\n",
    "            elif filter == 'prt':\n",
    "                filter_idx = (s_train[sorted_indices] == s_prt)\n",
    "            elif filter == 'neg':\n",
    "                filter_idx = (y_train[sorted_indices] == 0)\n",
    "            elif filter == 'pos':\n",
    "                filter_idx = (y_train[sorted_indices] == 1)\n",
    "            else:\n",
    "                raise NotImplementedError\n",
    "\n",
    "            sorted_indices = sorted_indices[filter_idx]\n",
    "        \n",
    "        n_edit = int(edit_ratio * len(sorted_indices))\n",
    "        # select the removal indices\n",
    "        edit_indices = sorted_indices[:n_edit]\n",
    "\n",
    "        if dummy:\n",
    "            # set seed\n",
    "            np.random.seed(random_state)\n",
    "            edit_indices = np.random.choice(sorted_indices, n_edit, replace=False)\n",
    "        else:\n",
    "            edit_indices = sorted_indices[:n_edit]\n",
    "        \n",
    "        # Create edit mask\n",
    "        if how == 'removal':\n",
    "            keep_mask = np.ones(len(X_train), dtype=bool)\n",
    "            keep_mask[edit_indices] = False\n",
    "            # Apply undersampled mask\n",
    "            X_edited = X_train[keep_mask]\n",
    "            y_edited = y_train[keep_mask]\n",
    "            s_edited = s_train[keep_mask]\n",
    "        elif how == 'relabel':\n",
    "            relabel_mask = np.zeros(len(X_train), dtype=bool)\n",
    "            relabel_mask[edit_indices] = True\n",
    "            y_edited = y_train.copy()\n",
    "            y_edited[relabel_mask] = 1 - y_edited[relabel_mask]\n",
    "            X_edited = X_train\n",
    "            s_edited = s_train\n",
    "        else: raise NotImplementedError\n",
    "        \n",
    "        if verbose:\n",
    "            print(\n",
    "                f\"{len(y_train) - len(y_edited)} samples removed from the dataset.\\n\"\n",
    "                f\"Dataset shape: {X_train.shape} -> {X_edited.shape}\\n\"\n",
    "                f\"S distribution {np.unique(s_train, return_counts=True)} -> {np.unique(s_edited, return_counts=True)}\\n\"\n",
    "                f\"Y distribution {np.unique(y_train, return_counts=True)} -> {np.unique(y_edited, return_counts=True)}\"\n",
    "            )\n",
    "        return X_edited, y_edited, s_edited, n_edit\n",
    "\n",
    "# prox_kwargs = {\n",
    "#     't_con': 0.1, 't_cat': 1, 'restart_prob': 0.1, 'mat_norm': 'sym', \n",
    "#     'relax': True, 'max_relax': 3, 'relax_factor': 0.1, \n",
    "#     'include_self': False\n",
    "# }\n",
    "\n",
    "AIM = UnLoc()\n",
    "df_score = AIM.fit_transform(X_train, y_train, s_train, data_split_info, data.feature_names, data.s_col, prox_kwargs)\n",
    "df_score"
   ]
  },
  {
   "cell_type": "code",
   "execution_count": 5,
   "metadata": {},
   "outputs": [
    {
     "data": {
      "text/plain": [
       "array([0.57381396, 0.85816126, 2.26349872])"
      ]
     },
     "execution_count": 5,
     "metadata": {},
     "output_type": "execute_result"
    }
   ],
   "source": [
    "df_score.values[378]"
   ]
  },
  {
   "cell_type": "code",
   "execution_count": 6,
   "metadata": {},
   "outputs": [
    {
     "name": "stdout",
     "output_type": "stream",
     "text": [
      "Threshold for continuous features:  0.1\n",
      "Threshold for categorical features: 1\n",
      "Diff matrices loaded from data_cache/diff/adult_gender_split[1of5]_seed[42]_diff_matrices.h5\n",
      "Time for computing continuous condition matrix: 1.02s\n",
      "Time for computing categorical condition matrix: 1.05s\n",
      "Linking isolated nodes (2148) ... Done! 0 remains.\n"
     ]
    }
   ],
   "source": [
    "C = csa.get_comparable_matrix(t_con=0.1, t_cat=1)"
   ]
  },
  {
   "cell_type": "code",
   "execution_count": 7,
   "metadata": {},
   "outputs": [
    {
     "data": {
      "text/plain": [
       "array([0.00215414, 0.30422896, 0.88119338, ..., 0.01489934, 0.01347767,\n",
       "       0.00631102])"
      ]
     },
     "execution_count": 7,
     "metadata": {},
     "output_type": "execute_result"
    }
   ],
   "source": [
    "unf_score, conf_score = df_score['unf'].values, df_score['conf'].values\n",
    "unf_score"
   ]
  },
  {
   "cell_type": "code",
   "execution_count": 8,
   "metadata": {},
   "outputs": [
    {
     "ename": "KeyboardInterrupt",
     "evalue": "",
     "output_type": "error",
     "traceback": [
      "\u001b[0;31m---------------------------------------------------------------------------\u001b[0m",
      "\u001b[0;31mKeyboardInterrupt\u001b[0m                         Traceback (most recent call last)",
      "Input \u001b[0;32mIn [8]\u001b[0m, in \u001b[0;36m<cell line: 1>\u001b[0;34m()\u001b[0m\n\u001b[0;32m----> 1\u001b[0m P_cumsum \u001b[38;5;241m=\u001b[39m np\u001b[38;5;241m.\u001b[39mcumsum(np\u001b[38;5;241m.\u001b[39msort(P \u001b[38;5;241m/\u001b[39m \u001b[43mP\u001b[49m\u001b[38;5;241;43m.\u001b[39;49m\u001b[43msum\u001b[49m\u001b[43m(\u001b[49m\u001b[43maxis\u001b[49m\u001b[38;5;241;43m=\u001b[39;49m\u001b[38;5;241;43m1\u001b[39;49m\u001b[43m,\u001b[49m\u001b[43m \u001b[49m\u001b[43mkeepdims\u001b[49m\u001b[38;5;241;43m=\u001b[39;49m\u001b[38;5;28;43;01mTrue\u001b[39;49;00m\u001b[43m)\u001b[49m, axis\u001b[38;5;241m=\u001b[39m\u001b[38;5;241m1\u001b[39m)[:, ::\u001b[38;5;241m-\u001b[39m\u001b[38;5;241m1\u001b[39m], axis\u001b[38;5;241m=\u001b[39m\u001b[38;5;241m1\u001b[39m)\n\u001b[1;32m      2\u001b[0m P_cumsum\n",
      "File \u001b[0;32m~/anaconda3/lib/python3.9/site-packages/numpy/core/_methods.py:48\u001b[0m, in \u001b[0;36m_sum\u001b[0;34m(a, axis, dtype, out, keepdims, initial, where)\u001b[0m\n\u001b[1;32m     46\u001b[0m \u001b[38;5;28;01mdef\u001b[39;00m \u001b[38;5;21m_sum\u001b[39m(a, axis\u001b[38;5;241m=\u001b[39m\u001b[38;5;28;01mNone\u001b[39;00m, dtype\u001b[38;5;241m=\u001b[39m\u001b[38;5;28;01mNone\u001b[39;00m, out\u001b[38;5;241m=\u001b[39m\u001b[38;5;28;01mNone\u001b[39;00m, keepdims\u001b[38;5;241m=\u001b[39m\u001b[38;5;28;01mFalse\u001b[39;00m,\n\u001b[1;32m     47\u001b[0m          initial\u001b[38;5;241m=\u001b[39m_NoValue, where\u001b[38;5;241m=\u001b[39m\u001b[38;5;28;01mTrue\u001b[39;00m):\n\u001b[0;32m---> 48\u001b[0m     \u001b[38;5;28;01mreturn\u001b[39;00m \u001b[43mumr_sum\u001b[49m\u001b[43m(\u001b[49m\u001b[43ma\u001b[49m\u001b[43m,\u001b[49m\u001b[43m \u001b[49m\u001b[43maxis\u001b[49m\u001b[43m,\u001b[49m\u001b[43m \u001b[49m\u001b[43mdtype\u001b[49m\u001b[43m,\u001b[49m\u001b[43m \u001b[49m\u001b[43mout\u001b[49m\u001b[43m,\u001b[49m\u001b[43m \u001b[49m\u001b[43mkeepdims\u001b[49m\u001b[43m,\u001b[49m\u001b[43m \u001b[49m\u001b[43minitial\u001b[49m\u001b[43m,\u001b[49m\u001b[43m \u001b[49m\u001b[43mwhere\u001b[49m\u001b[43m)\u001b[49m\n",
      "\u001b[0;31mKeyboardInterrupt\u001b[0m: "
     ]
    }
   ],
   "source": [
    "P_cumsum = np.cumsum(np.sort(P / P.sum(axis=1, keepdims=True), axis=1)[:, ::-1], axis=1)\n",
    "P_cumsum"
   ]
  },
  {
   "cell_type": "code",
   "execution_count": null,
   "metadata": {},
   "outputs": [],
   "source": [
    "G = csa.get_gower_matrix()\n",
    "PG = 1 / G\n",
    "# PG = 1 - G\n",
    "np.fill_diagonal(PG, 0)\n",
    "PG = pd.DataFrame(PG).fillna(0).values\n",
    "PG\n",
    "\n",
    "ua = UnfairnessAttributer(PG)\n",
    "df_score_gower = ua.compute_confidence(X_train, y_train, s_train, visualize=False)"
   ]
  },
  {
   "cell_type": "code",
   "execution_count": null,
   "metadata": {},
   "outputs": [],
   "source": [
    "msk_prt_neg = (y_train == 0) & (s_train == s_prt)\n",
    "msk_have_comparable = C.sum(axis=1) >= 3\n",
    "msk_dense_explanable = P_cumsum[:, 5] > 0.9\n",
    "msk_fairness = unf_score > 0.8\n",
    "msk_target = msk_prt_neg & msk_dense_explanable & msk_fairness & msk_have_comparable\n",
    "\n",
    "print (f\"Number of target samples: {msk_target.sum()}\")\n",
    "\n",
    "idx_target = np.where(msk_target)[0]\n",
    "\n",
    "i = idx_target[0]\n",
    "print(i, unf_score[i])\n",
    "\n",
    "def get_support_raw_features(df_raw, P, C, G, df_score, y, s, i, k=10, grp_cst='na', label_cst='na'):\n",
    "    sim_idx = np.argsort(P[i])[::-1]\n",
    "\n",
    "    if grp_cst == 'same':\n",
    "        sim_idx = sim_idx[s[sim_idx] == s[i]]\n",
    "    elif grp_cst == 'diff':\n",
    "        sim_idx = sim_idx[s[sim_idx] != s[i]]\n",
    "    elif grp_cst != 'na':\n",
    "        raise NotImplementedError\n",
    "    \n",
    "    if label_cst == 'same':\n",
    "        sim_idx = sim_idx[y[sim_idx] == y[i]]\n",
    "    elif label_cst == 'diff':\n",
    "        sim_idx = sim_idx[y[sim_idx] != y[i]]\n",
    "    elif label_cst != 'na':\n",
    "        raise NotImplementedError\n",
    "    # remove i in sim_idx\n",
    "    sim_idx = sim_idx[sim_idx != i][:k]\n",
    "\n",
    "    # all_sim_score = P[i] / P[i].sum()\n",
    "    # sim_score = np.concatenate([['self'], all_sim_score[sim_idx]])\n",
    "    sim_score = P[i][sim_idx] / P[i][sim_idx].sum()\n",
    "    sim_score = np.concatenate([['self'], sim_score])\n",
    "    sim_idx_with_i = np.concatenate([[i], sim_idx])\n",
    "    distance = G[i, sim_idx_with_i]\n",
    "    com_score = C[i, sim_idx_with_i]\n",
    "    df_sim = df_raw.iloc[sim_idx_with_i]\n",
    "    df_sim['sim_score'] = sim_score\n",
    "    df_sim['distance'] = distance\n",
    "    df_sim['comparable?'] = com_score\n",
    "    df_sim['bias'] = df_score['unf'].values[sim_idx_with_i]\n",
    "    df_sim['conf'] = df_score['conf'].values[sim_idx_with_i]\n",
    "    return df_sim\n",
    "\n",
    "# get_support_raw_features(df_train_raw, P, C, G, df_score, y_train, s_train, i, k=5, grp_cst='diff', label_cst='na')"
   ]
  },
  {
   "cell_type": "code",
   "execution_count": null,
   "metadata": {},
   "outputs": [],
   "source": [
    "# get_support_raw_features(df_train_raw, PG, C, G, df_score_gower, y_train, s_train, i, k=10, grp_cst='diff', label_cst='na')"
   ]
  },
  {
   "cell_type": "markdown",
   "metadata": {},
   "source": [
    "# create counter factual by flipping label and observe bais score delta"
   ]
  },
  {
   "cell_type": "code",
   "execution_count": null,
   "metadata": {},
   "outputs": [],
   "source": [
    "SEED = 42\n",
    "n_splits = 5\n",
    "i_split = 0\n",
    "\n",
    "dataset_kwargs = {\n",
    "    'y_col': 'label',\n",
    "    'train_size': 0.6,\n",
    "    'val_size': 0.2,\n",
    "    'test_size': 0.2,\n",
    "    'concat_train_val': True,\n",
    "    'normalize': True,\n",
    "    'random_state': 42,\n",
    "}\n",
    "\n",
    "# dataname = 'adult'\n",
    "# s_attr = 'gender'\n",
    "dataname = 'compas'\n",
    "s_attr = 'sex'\n",
    "data = FairDataset(\n",
    "    dataname=dataname,\n",
    "    csv_path=f'./data/{dataname}.csv',\n",
    "    s_col=s_attr,\n",
    "    x_with_s=True,\n",
    "    **dataset_kwargs\n",
    ")\n",
    "\n",
    "data.describe()\n",
    "\n",
    "(\n",
    "    (X_train, y_train, s_train),\n",
    "    (X_val, y_val, s_val),\n",
    "    (X_test, y_test, s_test),\n",
    "    (idx_train, idx_val, idx_test)\n",
    ") = data.get_subgroup_split(i_split=i_split, random_state=SEED, n_splits=n_splits)\n",
    "\n",
    "classes = np.unique(y_train)\n",
    "n_feat = X_train.shape[1]\n",
    "n_class = len(classes)"
   ]
  },
  {
   "cell_type": "code",
   "execution_count": null,
   "metadata": {},
   "outputs": [],
   "source": [
    "from utils_unloc import DataProcessor\n",
    "\n",
    "data_split_info = f\"{data.fullname}_split[{i_split+1}of{n_splits}]_seed[{SEED}]\"\n",
    "print(f\"data_split_info: {data_split_info}\")\n",
    "\n",
    "s_prv, s_prt = 1, 0\n",
    "\n",
    "msk_prv, msk_prt = s_train == s_prv, s_train == s_prt\n",
    "n_prv, n_prt = msk_prv.sum(), msk_prt.sum()\n",
    "idx_prv, idx_prt = np.where(msk_prv)[0], np.where(msk_prt)[0]\n",
    "\n",
    "X_prv, y_prv = X_train[idx_prv], y_train[idx_prv]\n",
    "X_prt, y_prt = X_train[idx_prt], y_train[idx_prt]\n",
    "\n",
    "\n",
    "dp = DataProcessor()\n",
    "\n",
    "df_train = pd.DataFrame(X_train, columns=data.feature_names)\n",
    "df_train = df_train.drop(data.s_col, axis=1)\n",
    "idx_feats, num_feats, name_feats = dp.parse_feature_types(df_train, verbose=True)\n",
    "df_train_encoded, feats_con, feats_cat = dp.get_reverse_onehot_dataframe(df_train,  name_feats)\n",
    "df_train_encoded\n",
    "\n",
    "\n",
    "from utils_unloc import ComparableSampleAnalyzer\n",
    "\n",
    "prox_kwargs = {\n",
    "    't_con': 0.1, 't_cat': 2, 'restart_prob': 0.1, 'mat_norm': 'sym', \n",
    "    'relax': True, 'max_relax': 3, 'relax_factor': 0.1, \n",
    "    'include_self': False\n",
    "}\n",
    "\n",
    "csa = ComparableSampleAnalyzer(\n",
    "    df_train_encoded, feats_con, feats_cat, \n",
    "    save_path='data_cache', data_setting=data_split_info, \n",
    "    compress=False, verbose=True\n",
    ")\n",
    "P_org = csa.get_proximity(**prox_kwargs)\n",
    "\n",
    "G = csa.get_gower_matrix()\n",
    "PG = 1 / G\n",
    "# PG = 1 - G\n",
    "np.fill_diagonal(PG, 0)\n",
    "P_gower = pd.DataFrame(PG).fillna(0).values\n",
    "\n",
    "P_org, P_gower"
   ]
  },
  {
   "cell_type": "code",
   "execution_count": null,
   "metadata": {},
   "outputs": [],
   "source": [
    "X, y, s = X_train, y_train, s_train\n",
    "attributer_org = UnfairnessAttributer(P_org)\n",
    "df_score = attributer_org.compute_confidence(X, y, s, s_prv=s_prv, s_prt=s_prt, visualize=True)\n",
    "\n",
    "attributer_gower = UnfairnessAttributer(P_gower)\n",
    "# df_score_gower = attributer_gower.compute_confidence(X, y, s, s_prv=s_prv, s_prt=s_prt, visualize=True)"
   ]
  },
  {
   "cell_type": "code",
   "execution_count": null,
   "metadata": {},
   "outputs": [],
   "source": [
    "threshold = 0.5\n",
    "\n",
    "fair_msk = (df_score_gower['unf'] < threshold) & (df_score['unf'] < threshold)\n",
    "fair_idx = np.where(fair_msk)[0]\n",
    "print (fair_msk.sum())\n",
    "\n",
    "disag_score = df_score['unf'].values\n",
    "\n",
    "disag_delta = (1-disag_score) - disag_score\n",
    "# sns.histplot(disag_delta[(y==0) & (s==0)], bins=50)\n",
    "sns.histplot(disag_delta[fair_msk], bins=50)\n",
    "print(f\"{disag_delta[fair_msk].mean():.4f} +/- {disag_delta[fair_msk].std():.4f}\")\n",
    "plt.show()\n",
    "\n",
    "disag_score = df_score_gower['unf'].values\n",
    "\n",
    "disag_delta = (1-disag_score) - disag_score\n",
    "# sns.histplot(disag_delta[(y==0) & (s==0)], bins=50)\n",
    "sns.histplot(disag_delta[fair_msk], bins=50)\n",
    "print(f\"{disag_delta[fair_msk].mean():.4f} +/- {disag_delta[fair_msk].std():.4f}\")\n",
    "plt.show()"
   ]
  },
  {
   "cell_type": "code",
   "execution_count": null,
   "metadata": {},
   "outputs": [],
   "source": [
    "import tqdm\n",
    "\n",
    "ds = []\n",
    "for i in tqdm.tqdm(fair_idx):\n",
    "    y_ = y.copy()\n",
    "    y_[i] = 1 - y_[i]\n",
    "    df_score_ = attributer_org.compute_confidence(X, y_, s, s_prv=s_prv, s_prt=s_prt)\n",
    "    d = df_score_['unf'][i] - df_score['unf'][i]\n",
    "    ds.append(d)\n",
    "\n",
    "sns.histplot(ds, bins=50)\n",
    "plt.show()"
   ]
  },
  {
   "cell_type": "code",
   "execution_count": null,
   "metadata": {},
   "outputs": [],
   "source": []
  },
  {
   "cell_type": "code",
   "execution_count": null,
   "metadata": {},
   "outputs": [],
   "source": []
  },
  {
   "cell_type": "code",
   "execution_count": null,
   "metadata": {},
   "outputs": [],
   "source": []
  },
  {
   "cell_type": "markdown",
   "metadata": {},
   "source": [
    "# Remove n samples and observe unfairness drop"
   ]
  },
  {
   "cell_type": "code",
   "execution_count": 13,
   "metadata": {},
   "outputs": [
    {
     "name": "stdout",
     "output_type": "stream",
     "text": [
      "Dataset    : compas (5875, 12) load from ./data/compas.csv\n",
      "Sens/Res   : sex/label\n",
      "Split      : train/test = 0.8/0.2, random_state = 42, x_with_s = True\n",
      "train      | size {0: 929, 1: 3771} | grp_pos_ratio: {0: 0.3617, 1: 0.4916}\n",
      "test       | size {0: 232, 1: 943} | grp_pos_ratio: {0: 0.3621, 1: 0.491}\n",
      "\n",
      "Dataset    : compas (5875, 12) load from ./data/compas.csv\n",
      "Sens/Res   : race/label\n",
      "Split      : train/test = 0.8/0.2, random_state = 42, x_with_s = True\n",
      "train      | size {0: 1878, 1: 2822} | grp_pos_ratio: {0: 0.3946, 1: 0.5135}\n",
      "test       | size {0: 469, 1: 706} | grp_pos_ratio: {0: 0.3945, 1: 0.5127}\n",
      "\n",
      "Dataset    : adult (45222, 99) load from ./data/adult.csv\n",
      "Sens/Res   : gender/label\n",
      "Split      : train/test = 0.8/0.2, random_state = 42, x_with_s = True\n",
      "train      | size {0: 11756, 1: 24421} | grp_pos_ratio: {0: 0.1136, 1: 0.3125}\n",
      "test       | size {0: 2939, 1: 6106} | grp_pos_ratio: {0: 0.1136, 1: 0.3125}\n",
      "\n",
      "Dataset    : adult (45222, 99) load from ./data/adult.csv\n",
      "Sens/Res   : race/label\n",
      "Split      : train/test = 0.8/0.2, random_state = 42, x_with_s = True\n",
      "train      | size {0: 5055, 1: 31122} | grp_pos_ratio: {0: 0.1585, 1: 0.2624}\n",
      "test       | size {0: 1264, 1: 7781} | grp_pos_ratio: {0: 0.1582, 1: 0.2623}\n",
      "\n",
      "Dataset    : bank (30488, 58) load from ./data/bank.csv\n",
      "Sens/Res   : age/label\n",
      "Split      : train/test = 0.8/0.2, random_state = 42, x_with_s = True\n",
      "train      | size {0: 23699, 1: 691} | grp_pos_ratio: {0: 0.1235, 1: 0.2301}\n",
      "test       | size {0: 5925, 1: 173} | grp_pos_ratio: {0: 0.1235, 1: 0.2312}\n",
      "\n",
      "Dataset    : bank (30488, 58) load from ./data/bank.csv\n",
      "Sens/Res   : marital=married/label\n",
      "Split      : train/test = 0.8/0.2, random_state = 42, x_with_s = True\n",
      "train      | size {0: 13994, 1: 10396} | grp_pos_ratio: {0: 0.1176, 1: 0.1387}\n",
      "test       | size {0: 3498, 1: 2600} | grp_pos_ratio: {0: 0.1175, 1: 0.1388}\n",
      "\n",
      "Dataset    : lsa (55448, 10) load from ./data/lsa.csv\n",
      "Sens/Res   : gender/label\n",
      "Split      : train/test = 0.8/0.2, random_state = 42, x_with_s = True\n",
      "train      | size {0: 24675, 1: 19683} | grp_pos_ratio: {0: 0.2778, 1: 0.281}\n",
      "test       | size {0: 6169, 1: 4921} | grp_pos_ratio: {0: 0.2778, 1: 0.281}\n",
      "\n",
      "Dataset    : lsa (55448, 10) load from ./data/lsa.csv\n",
      "Sens/Res   : race/label\n",
      "Split      : train/test = 0.8/0.2, random_state = 42, x_with_s = True\n",
      "train      | size {0: 11567, 1: 32791} | grp_pos_ratio: {0: 0.2308, 1: 0.2963}\n",
      "test       | size {0: 2892, 1: 8198} | grp_pos_ratio: {0: 0.231, 1: 0.2963}\n",
      "\n",
      "Dataset    : meps (15839, 126) load from ./data/meps.csv\n",
      "Sens/Res   : SEX/label\n",
      "Split      : train/test = 0.8/0.2, random_state = 42, x_with_s = True\n",
      "train      | size {0: 6067, 1: 6604} | grp_pos_ratio: {0: 0.1327, 1: 0.2078}\n",
      "test       | size {0: 1517, 1: 1651} | grp_pos_ratio: {0: 0.1325, 1: 0.2078}\n",
      "\n",
      "Dataset    : meps (15839, 126) load from ./data/meps.csv\n",
      "Sens/Res   : RACE/label\n",
      "Split      : train/test = 0.8/0.2, random_state = 42, x_with_s = True\n",
      "train      | size {0: 8144, 1: 4527} | grp_pos_ratio: {0: 0.1251, 1: 0.2558}\n",
      "test       | size {0: 2036, 1: 1132} | grp_pos_ratio: {0: 0.1252, 1: 0.2553}\n",
      "\n",
      "////// Dataset ZOO //////\n",
      "compas_sex: <data.FairDataset object at 0x7f8a9554f310>\n",
      "compas_race: <data.FairDataset object at 0x7f8a92df0820>\n",
      "adult_gender: <data.FairDataset object at 0x7f8a92df0a30>\n",
      "adult_race: <data.FairDataset object at 0x7f8a92dc1d30>\n",
      "bank_age: <data.FairDataset object at 0x7f8a92dbfe20>\n",
      "bank_marital=married: <data.FairDataset object at 0x7f8a92dbfac0>\n",
      "lsa_gender: <data.FairDataset object at 0x7f8a92dc1520>\n",
      "lsa_race: <data.FairDataset object at 0x7f8aa3d998b0>\n",
      "meps_SEX: <data.FairDataset object at 0x7f8a92dc10a0>\n",
      "meps_RACE: <data.FairDataset object at 0x7f8a92dc15b0>\n",
      "\n",
      "\n"
     ]
    }
   ],
   "source": [
    "\"\"\"Load Datasets\"\"\"\n",
    "\n",
    "dataset_kwargs = {\n",
    "    'y_col': 'label',\n",
    "    'train_size': 0.6,\n",
    "    'val_size': 0.2,\n",
    "    'test_size': 0.2,\n",
    "    'concat_train_val': True,\n",
    "    'normalize': True,\n",
    "    'random_state': 42,\n",
    "}\n",
    "\n",
    "all_datasets = {\n",
    "    # 'compas': ['sex'],\n",
    "    'compas': ['sex', 'race'],\n",
    "    'adult': ['gender', 'race'],\n",
    "    'bank': ['age', 'marital=married'],\n",
    "    'lsa': ['gender', 'race'],\n",
    "    'meps': ['SEX', 'RACE'],\n",
    "    # 'lsa_unfair_gender_race': ['gender', 'race'],\n",
    "}\n",
    "\n",
    "\"\"\"\n",
    "Create a dictionary of datasets: dataset_zoo\n",
    "key: dataset name\n",
    "value: FairDataset object\n",
    "\"\"\"\n",
    "dataset_zoo = {}\n",
    "for dataname, s_attrs in all_datasets.items():\n",
    "    for s_attr in s_attrs:\n",
    "        dataset = FairDataset(\n",
    "            dataname=dataname,\n",
    "            csv_path=f'./data/{dataname}.csv',\n",
    "            s_col=s_attr,\n",
    "            **dataset_kwargs\n",
    "        )\n",
    "        dataset_zoo[dataset.fullname] = dataset\n",
    "\n",
    "        # dataset.describe()\n",
    "        dataset.brief()\n",
    "\n",
    "# Print the information of the datasets and models\n",
    "print(\n",
    "    f\"////// Dataset ZOO //////\\n\"\n",
    "    f\"{dict_info(dataset_zoo)}\\n\"\n",
    ")\n",
    "\n",
    "# dataset_zoo_subset = {\n",
    "#     'compas_sex': dataset_zoo['compas_sex'],\n",
    "#     'compas_race': dataset_zoo['compas_race'],\n",
    "# }"
   ]
  },
  {
   "cell_type": "code",
   "execution_count": 14,
   "metadata": {},
   "outputs": [
    {
     "name": "stdout",
     "output_type": "stream",
     "text": [
      "////// Baseline Experiment //////\n",
      "Base Model Zoo:       ['LR']\n",
      "Dataset Zoo:          ['compas_sex', 'compas_race', 'adult_gender', 'adult_race', 'bank_age', 'bank_marital=married', 'lsa_gender', 'lsa_race', 'meps_SEX', 'meps_RACE']\n",
      "edit_ratio_space:     [0.   0.02 0.04 0.06 0.08 0.1  0.12 0.14 0.16 0.18 0.2  0.22 0.24 0.26\n",
      " 0.28 0.3  0.32 0.34 0.36 0.38 0.4  0.42 0.44 0.46 0.48 0.5 ]\n",
      "n_splits:             5\n",
      "n_runs:               1\n",
      "random_state:         42\n",
      "\n",
      "Data: compas_sex | Run: 0 | Base: LR\n",
      "Data: compas_sex | Run: 0 | Base: LR | split 0\n",
      "Loaded score from compas_sex_split[1of5]_seed[42]_{'t_con': 0.1, 't_cat': 2, 'restart_prob': 0.1, 'mat_norm': 'sym', 'relax': True, 'max_relax': 3, 'relax_factor': 0.1, 'include_self': False}_score.csv\n"
     ]
    },
    {
     "name": "stderr",
     "output_type": "stream",
     "text": [
      "rand_prtneg - n_edit:   0%|          | 0/26 [00:00<?, ?it/s]"
     ]
    },
    {
     "name": "stderr",
     "output_type": "stream",
     "text": [
      "rand_prtneg - n_edit: 100%|██████████| 26/26 [00:02<00:00, 10.91it/s]\n",
      "disag_prtneg - n_edit: 100%|██████████| 26/26 [00:02<00:00, 10.80it/s]\n",
      "rand - n_edit: 100%|██████████| 26/26 [00:01<00:00, 15.75it/s]\n",
      "disag - n_edit: 100%|██████████| 26/26 [00:01<00:00, 17.74it/s]\n"
     ]
    },
    {
     "name": "stdout",
     "output_type": "stream",
     "text": [
      "Data: compas_sex | Run: 0 | Base: LR | split 1\n",
      "Loaded score from compas_sex_split[2of5]_seed[42]_{'t_con': 0.1, 't_cat': 2, 'restart_prob': 0.1, 'mat_norm': 'sym', 'relax': True, 'max_relax': 3, 'relax_factor': 0.1, 'include_self': False}_score.csv\n"
     ]
    },
    {
     "name": "stderr",
     "output_type": "stream",
     "text": [
      "rand_prtneg - n_edit: 100%|██████████| 26/26 [00:02<00:00, 11.62it/s]\n",
      "disag_prtneg - n_edit: 100%|██████████| 26/26 [00:02<00:00, 11.63it/s]\n",
      "rand - n_edit: 100%|██████████| 26/26 [00:01<00:00, 17.95it/s]\n",
      "disag - n_edit: 100%|██████████| 26/26 [00:01<00:00, 16.01it/s]\n"
     ]
    },
    {
     "name": "stdout",
     "output_type": "stream",
     "text": [
      "Data: compas_sex | Run: 0 | Base: LR | split 2\n",
      "Loaded score from compas_sex_split[3of5]_seed[42]_{'t_con': 0.1, 't_cat': 2, 'restart_prob': 0.1, 'mat_norm': 'sym', 'relax': True, 'max_relax': 3, 'relax_factor': 0.1, 'include_self': False}_score.csv\n"
     ]
    },
    {
     "name": "stderr",
     "output_type": "stream",
     "text": [
      "rand_prtneg - n_edit: 100%|██████████| 26/26 [00:02<00:00, 11.84it/s]\n",
      "disag_prtneg - n_edit: 100%|██████████| 26/26 [00:02<00:00, 10.43it/s]\n",
      "rand - n_edit: 100%|██████████| 26/26 [00:01<00:00, 14.12it/s]\n",
      "disag - n_edit: 100%|██████████| 26/26 [00:01<00:00, 16.42it/s]\n"
     ]
    },
    {
     "name": "stdout",
     "output_type": "stream",
     "text": [
      "Data: compas_sex | Run: 0 | Base: LR | split 3\n",
      "Loaded score from compas_sex_split[4of5]_seed[42]_{'t_con': 0.1, 't_cat': 2, 'restart_prob': 0.1, 'mat_norm': 'sym', 'relax': True, 'max_relax': 3, 'relax_factor': 0.1, 'include_self': False}_score.csv\n"
     ]
    },
    {
     "name": "stderr",
     "output_type": "stream",
     "text": [
      "rand_prtneg - n_edit: 100%|██████████| 26/26 [00:02<00:00, 11.73it/s]\n",
      "disag_prtneg - n_edit: 100%|██████████| 26/26 [00:02<00:00, 11.65it/s]\n",
      "rand - n_edit: 100%|██████████| 26/26 [00:01<00:00, 17.20it/s]\n",
      "disag - n_edit: 100%|██████████| 26/26 [00:01<00:00, 16.78it/s]\n"
     ]
    },
    {
     "name": "stdout",
     "output_type": "stream",
     "text": [
      "Data: compas_sex | Run: 0 | Base: LR | split 4\n",
      "Loaded score from compas_sex_split[5of5]_seed[42]_{'t_con': 0.1, 't_cat': 2, 'restart_prob': 0.1, 'mat_norm': 'sym', 'relax': True, 'max_relax': 3, 'relax_factor': 0.1, 'include_self': False}_score.csv\n"
     ]
    },
    {
     "name": "stderr",
     "output_type": "stream",
     "text": [
      "rand_prtneg - n_edit: 100%|██████████| 26/26 [00:02<00:00, 12.04it/s]\n",
      "disag_prtneg - n_edit: 100%|██████████| 26/26 [00:02<00:00, 12.93it/s]\n",
      "rand - n_edit: 100%|██████████| 26/26 [00:01<00:00, 20.49it/s]\n",
      "disag - n_edit: 100%|██████████| 26/26 [00:01<00:00, 21.16it/s]\n"
     ]
    },
    {
     "name": "stdout",
     "output_type": "stream",
     "text": [
      "Data: compas_race | Run: 0 | Base: LR\n",
      "Data: compas_race | Run: 0 | Base: LR | split 0\n",
      "Loaded score from compas_race_split[1of5]_seed[42]_{'t_con': 0.1, 't_cat': 2, 'restart_prob': 0.1, 'mat_norm': 'sym', 'relax': True, 'max_relax': 3, 'relax_factor': 0.1, 'include_self': False}_score.csv\n"
     ]
    },
    {
     "name": "stderr",
     "output_type": "stream",
     "text": [
      "rand_prtneg - n_edit: 100%|██████████| 26/26 [00:01<00:00, 13.85it/s]\n",
      "disag_prtneg - n_edit: 100%|██████████| 26/26 [00:02<00:00, 12.85it/s]\n",
      "rand - n_edit: 100%|██████████| 26/26 [00:01<00:00, 18.62it/s]\n",
      "disag - n_edit: 100%|██████████| 26/26 [00:01<00:00, 20.55it/s]\n"
     ]
    },
    {
     "name": "stdout",
     "output_type": "stream",
     "text": [
      "Data: compas_race | Run: 0 | Base: LR | split 1\n",
      "Loaded score from compas_race_split[2of5]_seed[42]_{'t_con': 0.1, 't_cat': 2, 'restart_prob': 0.1, 'mat_norm': 'sym', 'relax': True, 'max_relax': 3, 'relax_factor': 0.1, 'include_self': False}_score.csv\n"
     ]
    },
    {
     "name": "stderr",
     "output_type": "stream",
     "text": [
      "rand_prtneg - n_edit: 100%|██████████| 26/26 [00:01<00:00, 16.47it/s]\n",
      "disag_prtneg - n_edit: 100%|██████████| 26/26 [00:01<00:00, 15.72it/s]\n",
      "rand - n_edit: 100%|██████████| 26/26 [00:01<00:00, 20.23it/s]\n",
      "disag - n_edit: 100%|██████████| 26/26 [00:01<00:00, 17.93it/s]\n"
     ]
    },
    {
     "name": "stdout",
     "output_type": "stream",
     "text": [
      "Data: compas_race | Run: 0 | Base: LR | split 2\n",
      "Loaded score from compas_race_split[3of5]_seed[42]_{'t_con': 0.1, 't_cat': 2, 'restart_prob': 0.1, 'mat_norm': 'sym', 'relax': True, 'max_relax': 3, 'relax_factor': 0.1, 'include_self': False}_score.csv\n"
     ]
    },
    {
     "name": "stderr",
     "output_type": "stream",
     "text": [
      "rand_prtneg - n_edit: 100%|██████████| 26/26 [00:02<00:00, 11.72it/s]\n",
      "disag_prtneg - n_edit: 100%|██████████| 26/26 [00:02<00:00, 12.16it/s]\n",
      "rand - n_edit: 100%|██████████| 26/26 [00:01<00:00, 18.89it/s]\n",
      "disag - n_edit: 100%|██████████| 26/26 [00:01<00:00, 17.21it/s]\n"
     ]
    },
    {
     "name": "stdout",
     "output_type": "stream",
     "text": [
      "Data: compas_race | Run: 0 | Base: LR | split 3\n",
      "Loaded score from compas_race_split[4of5]_seed[42]_{'t_con': 0.1, 't_cat': 2, 'restart_prob': 0.1, 'mat_norm': 'sym', 'relax': True, 'max_relax': 3, 'relax_factor': 0.1, 'include_self': False}_score.csv\n"
     ]
    },
    {
     "name": "stderr",
     "output_type": "stream",
     "text": [
      "rand_prtneg - n_edit: 100%|██████████| 26/26 [00:02<00:00, 10.81it/s]\n",
      "disag_prtneg - n_edit: 100%|██████████| 26/26 [00:02<00:00, 11.97it/s]\n",
      "rand - n_edit: 100%|██████████| 26/26 [00:01<00:00, 18.14it/s]\n",
      "disag - n_edit: 100%|██████████| 26/26 [00:01<00:00, 17.39it/s]\n"
     ]
    },
    {
     "name": "stdout",
     "output_type": "stream",
     "text": [
      "Data: compas_race | Run: 0 | Base: LR | split 4\n",
      "Loaded score from compas_race_split[5of5]_seed[42]_{'t_con': 0.1, 't_cat': 2, 'restart_prob': 0.1, 'mat_norm': 'sym', 'relax': True, 'max_relax': 3, 'relax_factor': 0.1, 'include_self': False}_score.csv\n"
     ]
    },
    {
     "name": "stderr",
     "output_type": "stream",
     "text": [
      "rand_prtneg - n_edit: 100%|██████████| 26/26 [00:02<00:00, 12.11it/s]\n",
      "disag_prtneg - n_edit: 100%|██████████| 26/26 [00:02<00:00, 11.43it/s]\n",
      "rand - n_edit: 100%|██████████| 26/26 [00:01<00:00, 17.79it/s]\n",
      "disag - n_edit: 100%|██████████| 26/26 [00:02<00:00, 11.10it/s]\n"
     ]
    },
    {
     "name": "stdout",
     "output_type": "stream",
     "text": [
      "Data: adult_gender | Run: 0 | Base: LR\n",
      "Data: adult_gender | Run: 0 | Base: LR | split 0\n",
      "Loaded score from adult_gender_split[1of5]_seed[42]_{'t_con': 0.1, 't_cat': 2, 'restart_prob': 0.1, 'mat_norm': 'sym', 'relax': True, 'max_relax': 3, 'relax_factor': 0.1, 'include_self': False}_score.csv\n"
     ]
    },
    {
     "name": "stderr",
     "output_type": "stream",
     "text": [
      "rand_prtneg - n_edit: 100%|██████████| 26/26 [00:10<00:00,  2.39it/s]\n",
      "disag_prtneg - n_edit: 100%|██████████| 26/26 [00:10<00:00,  2.39it/s]\n",
      "rand - n_edit: 100%|██████████| 26/26 [00:09<00:00,  2.77it/s]\n",
      "disag - n_edit: 100%|██████████| 26/26 [00:08<00:00,  3.11it/s]\n"
     ]
    },
    {
     "name": "stdout",
     "output_type": "stream",
     "text": [
      "Data: adult_gender | Run: 0 | Base: LR | split 1\n",
      "Loaded score from adult_gender_split[2of5]_seed[42]_{'t_con': 0.1, 't_cat': 2, 'restart_prob': 0.1, 'mat_norm': 'sym', 'relax': True, 'max_relax': 3, 'relax_factor': 0.1, 'include_self': False}_score.csv\n"
     ]
    },
    {
     "name": "stderr",
     "output_type": "stream",
     "text": [
      "rand_prtneg - n_edit: 100%|██████████| 26/26 [00:09<00:00,  2.64it/s]\n",
      "disag_prtneg - n_edit: 100%|██████████| 26/26 [00:07<00:00,  3.29it/s]\n",
      "rand - n_edit: 100%|██████████| 26/26 [00:09<00:00,  2.76it/s]\n",
      "disag - n_edit: 100%|██████████| 26/26 [00:08<00:00,  2.92it/s]\n"
     ]
    },
    {
     "name": "stdout",
     "output_type": "stream",
     "text": [
      "Data: adult_gender | Run: 0 | Base: LR | split 2\n",
      "Loaded score from adult_gender_split[3of5]_seed[42]_{'t_con': 0.1, 't_cat': 2, 'restart_prob': 0.1, 'mat_norm': 'sym', 'relax': True, 'max_relax': 3, 'relax_factor': 0.1, 'include_self': False}_score.csv\n"
     ]
    },
    {
     "name": "stderr",
     "output_type": "stream",
     "text": [
      "rand_prtneg - n_edit: 100%|██████████| 26/26 [00:10<00:00,  2.49it/s]\n",
      "disag_prtneg - n_edit: 100%|██████████| 26/26 [00:10<00:00,  2.44it/s]\n",
      "rand - n_edit: 100%|██████████| 26/26 [00:08<00:00,  2.97it/s]\n",
      "disag - n_edit: 100%|██████████| 26/26 [00:08<00:00,  2.99it/s]\n"
     ]
    },
    {
     "name": "stdout",
     "output_type": "stream",
     "text": [
      "Data: adult_gender | Run: 0 | Base: LR | split 3\n",
      "Loaded score from adult_gender_split[4of5]_seed[42]_{'t_con': 0.1, 't_cat': 2, 'restart_prob': 0.1, 'mat_norm': 'sym', 'relax': True, 'max_relax': 3, 'relax_factor': 0.1, 'include_self': False}_score.csv\n"
     ]
    },
    {
     "name": "stderr",
     "output_type": "stream",
     "text": [
      "rand_prtneg - n_edit: 100%|██████████| 26/26 [00:09<00:00,  2.74it/s]\n",
      "disag_prtneg - n_edit: 100%|██████████| 26/26 [00:09<00:00,  2.80it/s]\n",
      "rand - n_edit: 100%|██████████| 26/26 [00:08<00:00,  3.20it/s]\n",
      "disag - n_edit: 100%|██████████| 26/26 [00:09<00:00,  2.84it/s]\n"
     ]
    },
    {
     "name": "stdout",
     "output_type": "stream",
     "text": [
      "Data: adult_gender | Run: 0 | Base: LR | split 4\n",
      "Loaded score from adult_gender_split[5of5]_seed[42]_{'t_con': 0.1, 't_cat': 2, 'restart_prob': 0.1, 'mat_norm': 'sym', 'relax': True, 'max_relax': 3, 'relax_factor': 0.1, 'include_self': False}_score.csv\n"
     ]
    },
    {
     "name": "stderr",
     "output_type": "stream",
     "text": [
      "rand_prtneg - n_edit: 100%|██████████| 26/26 [00:10<00:00,  2.56it/s]\n",
      "disag_prtneg - n_edit: 100%|██████████| 26/26 [00:10<00:00,  2.47it/s]\n",
      "rand - n_edit: 100%|██████████| 26/26 [00:09<00:00,  2.72it/s]\n",
      "disag - n_edit: 100%|██████████| 26/26 [00:09<00:00,  2.77it/s]\n"
     ]
    },
    {
     "name": "stdout",
     "output_type": "stream",
     "text": [
      "Data: adult_race | Run: 0 | Base: LR\n",
      "Data: adult_race | Run: 0 | Base: LR | split 0\n",
      "Loaded score from adult_race_split[1of5]_seed[42]_{'t_con': 0.1, 't_cat': 2, 'restart_prob': 0.1, 'mat_norm': 'sym', 'relax': True, 'max_relax': 3, 'relax_factor': 0.1, 'include_self': False}_score.csv\n"
     ]
    },
    {
     "name": "stderr",
     "output_type": "stream",
     "text": [
      "rand_prtneg - n_edit: 100%|██████████| 26/26 [00:11<00:00,  2.29it/s]\n",
      "disag_prtneg - n_edit: 100%|██████████| 26/26 [00:10<00:00,  2.46it/s]\n",
      "rand - n_edit: 100%|██████████| 26/26 [00:07<00:00,  3.49it/s]\n",
      "disag - n_edit: 100%|██████████| 26/26 [00:08<00:00,  3.02it/s]\n"
     ]
    },
    {
     "name": "stdout",
     "output_type": "stream",
     "text": [
      "Data: adult_race | Run: 0 | Base: LR | split 1\n",
      "Loaded score from adult_race_split[2of5]_seed[42]_{'t_con': 0.1, 't_cat': 2, 'restart_prob': 0.1, 'mat_norm': 'sym', 'relax': True, 'max_relax': 3, 'relax_factor': 0.1, 'include_self': False}_score.csv\n"
     ]
    },
    {
     "name": "stderr",
     "output_type": "stream",
     "text": [
      "rand_prtneg - n_edit: 100%|██████████| 26/26 [00:10<00:00,  2.38it/s]\n",
      "disag_prtneg - n_edit: 100%|██████████| 26/26 [00:10<00:00,  2.47it/s]\n",
      "rand - n_edit: 100%|██████████| 26/26 [00:09<00:00,  2.81it/s]\n",
      "disag - n_edit: 100%|██████████| 26/26 [00:08<00:00,  2.96it/s]\n"
     ]
    },
    {
     "name": "stdout",
     "output_type": "stream",
     "text": [
      "Data: adult_race | Run: 0 | Base: LR | split 2\n",
      "Loaded score from adult_race_split[3of5]_seed[42]_{'t_con': 0.1, 't_cat': 2, 'restart_prob': 0.1, 'mat_norm': 'sym', 'relax': True, 'max_relax': 3, 'relax_factor': 0.1, 'include_self': False}_score.csv\n"
     ]
    },
    {
     "name": "stderr",
     "output_type": "stream",
     "text": [
      "rand_prtneg - n_edit: 100%|██████████| 26/26 [00:10<00:00,  2.45it/s]\n",
      "disag_prtneg - n_edit: 100%|██████████| 26/26 [00:10<00:00,  2.53it/s]\n",
      "rand - n_edit: 100%|██████████| 26/26 [00:09<00:00,  2.79it/s]\n",
      "disag - n_edit: 100%|██████████| 26/26 [00:08<00:00,  2.96it/s]\n"
     ]
    },
    {
     "name": "stdout",
     "output_type": "stream",
     "text": [
      "Data: adult_race | Run: 0 | Base: LR | split 3\n",
      "Loaded score from adult_race_split[4of5]_seed[42]_{'t_con': 0.1, 't_cat': 2, 'restart_prob': 0.1, 'mat_norm': 'sym', 'relax': True, 'max_relax': 3, 'relax_factor': 0.1, 'include_self': False}_score.csv\n"
     ]
    },
    {
     "name": "stderr",
     "output_type": "stream",
     "text": [
      "rand_prtneg - n_edit: 100%|██████████| 26/26 [00:09<00:00,  2.84it/s]\n",
      "disag_prtneg - n_edit: 100%|██████████| 26/26 [00:07<00:00,  3.38it/s]\n",
      "rand - n_edit: 100%|██████████| 26/26 [00:07<00:00,  3.38it/s]\n",
      "disag - n_edit: 100%|██████████| 26/26 [00:07<00:00,  3.46it/s]\n"
     ]
    },
    {
     "name": "stdout",
     "output_type": "stream",
     "text": [
      "Data: adult_race | Run: 0 | Base: LR | split 4\n",
      "Loaded score from adult_race_split[5of5]_seed[42]_{'t_con': 0.1, 't_cat': 2, 'restart_prob': 0.1, 'mat_norm': 'sym', 'relax': True, 'max_relax': 3, 'relax_factor': 0.1, 'include_self': False}_score.csv\n"
     ]
    },
    {
     "name": "stderr",
     "output_type": "stream",
     "text": [
      "rand_prtneg - n_edit: 100%|██████████| 26/26 [00:10<00:00,  2.46it/s]\n",
      "disag_prtneg - n_edit: 100%|██████████| 26/26 [00:10<00:00,  2.45it/s]\n",
      "rand - n_edit: 100%|██████████| 26/26 [00:09<00:00,  2.72it/s]\n",
      "disag - n_edit: 100%|██████████| 26/26 [00:08<00:00,  2.99it/s]\n"
     ]
    },
    {
     "name": "stdout",
     "output_type": "stream",
     "text": [
      "Data: bank_age | Run: 0 | Base: LR\n",
      "Data: bank_age | Run: 0 | Base: LR | split 0\n",
      "Loaded score from bank_age_split[1of5]_seed[42]_{'t_con': 0.1, 't_cat': 2, 'restart_prob': 0.1, 'mat_norm': 'sym', 'relax': True, 'max_relax': 3, 'relax_factor': 0.1, 'include_self': False}_score.csv\n"
     ]
    },
    {
     "name": "stderr",
     "output_type": "stream",
     "text": [
      "rand_prtneg - n_edit: 100%|██████████| 26/26 [00:06<00:00,  3.95it/s]\n",
      "disag_prtneg - n_edit: 100%|██████████| 26/26 [00:06<00:00,  4.26it/s]\n",
      "rand - n_edit: 100%|██████████| 26/26 [00:04<00:00,  5.53it/s]\n",
      "disag - n_edit: 100%|██████████| 26/26 [00:06<00:00,  4.16it/s]\n"
     ]
    },
    {
     "name": "stdout",
     "output_type": "stream",
     "text": [
      "Data: bank_age | Run: 0 | Base: LR | split 1\n",
      "Loaded score from bank_age_split[2of5]_seed[42]_{'t_con': 0.1, 't_cat': 2, 'restart_prob': 0.1, 'mat_norm': 'sym', 'relax': True, 'max_relax': 3, 'relax_factor': 0.1, 'include_self': False}_score.csv\n"
     ]
    },
    {
     "name": "stderr",
     "output_type": "stream",
     "text": [
      "rand_prtneg - n_edit: 100%|██████████| 26/26 [00:06<00:00,  4.15it/s]\n",
      "disag_prtneg - n_edit: 100%|██████████| 26/26 [00:06<00:00,  3.98it/s]\n",
      "rand - n_edit: 100%|██████████| 26/26 [00:06<00:00,  4.12it/s]\n",
      "disag - n_edit: 100%|██████████| 26/26 [00:06<00:00,  4.05it/s]\n"
     ]
    },
    {
     "name": "stdout",
     "output_type": "stream",
     "text": [
      "Data: bank_age | Run: 0 | Base: LR | split 2\n",
      "Loaded score from bank_age_split[3of5]_seed[42]_{'t_con': 0.1, 't_cat': 2, 'restart_prob': 0.1, 'mat_norm': 'sym', 'relax': True, 'max_relax': 3, 'relax_factor': 0.1, 'include_self': False}_score.csv\n"
     ]
    },
    {
     "name": "stderr",
     "output_type": "stream",
     "text": [
      "rand_prtneg - n_edit: 100%|██████████| 26/26 [00:06<00:00,  3.84it/s]\n",
      "disag_prtneg - n_edit: 100%|██████████| 26/26 [00:06<00:00,  3.99it/s]\n",
      "rand - n_edit: 100%|██████████| 26/26 [00:06<00:00,  3.92it/s]\n",
      "disag - n_edit: 100%|██████████| 26/26 [00:07<00:00,  3.59it/s]\n"
     ]
    },
    {
     "name": "stdout",
     "output_type": "stream",
     "text": [
      "Data: bank_age | Run: 0 | Base: LR | split 3\n",
      "Loaded score from bank_age_split[4of5]_seed[42]_{'t_con': 0.1, 't_cat': 2, 'restart_prob': 0.1, 'mat_norm': 'sym', 'relax': True, 'max_relax': 3, 'relax_factor': 0.1, 'include_self': False}_score.csv\n"
     ]
    },
    {
     "name": "stderr",
     "output_type": "stream",
     "text": [
      "rand_prtneg - n_edit: 100%|██████████| 26/26 [00:06<00:00,  3.96it/s]\n",
      "disag_prtneg - n_edit: 100%|██████████| 26/26 [00:06<00:00,  4.08it/s]\n",
      "rand - n_edit: 100%|██████████| 26/26 [00:05<00:00,  4.40it/s]\n",
      "disag - n_edit: 100%|██████████| 26/26 [00:05<00:00,  4.57it/s]\n"
     ]
    },
    {
     "name": "stdout",
     "output_type": "stream",
     "text": [
      "Data: bank_age | Run: 0 | Base: LR | split 4\n",
      "Loaded score from bank_age_split[5of5]_seed[42]_{'t_con': 0.1, 't_cat': 2, 'restart_prob': 0.1, 'mat_norm': 'sym', 'relax': True, 'max_relax': 3, 'relax_factor': 0.1, 'include_self': False}_score.csv\n"
     ]
    },
    {
     "name": "stderr",
     "output_type": "stream",
     "text": [
      "rand_prtneg - n_edit: 100%|██████████| 26/26 [00:05<00:00,  4.61it/s]\n",
      "disag_prtneg - n_edit: 100%|██████████| 26/26 [00:05<00:00,  4.60it/s]\n",
      "rand - n_edit: 100%|██████████| 26/26 [00:06<00:00,  4.09it/s]\n",
      "disag - n_edit: 100%|██████████| 26/26 [00:06<00:00,  4.11it/s]\n"
     ]
    },
    {
     "name": "stdout",
     "output_type": "stream",
     "text": [
      "Data: bank_marital=married | Run: 0 | Base: LR\n",
      "Data: bank_marital=married | Run: 0 | Base: LR | split 0\n",
      "Loaded score from bank_marital=married_split[1of5]_seed[42]_{'t_con': 0.1, 't_cat': 2, 'restart_prob': 0.1, 'mat_norm': 'sym', 'relax': True, 'max_relax': 3, 'relax_factor': 0.1, 'include_self': False}_score.csv\n"
     ]
    },
    {
     "name": "stderr",
     "output_type": "stream",
     "text": [
      "rand_prtneg - n_edit: 100%|██████████| 26/26 [00:07<00:00,  3.58it/s]\n",
      "disag_prtneg - n_edit: 100%|██████████| 26/26 [00:07<00:00,  3.69it/s]\n",
      "rand - n_edit: 100%|██████████| 26/26 [00:06<00:00,  3.96it/s]\n",
      "disag - n_edit: 100%|██████████| 26/26 [00:06<00:00,  4.11it/s]\n"
     ]
    },
    {
     "name": "stdout",
     "output_type": "stream",
     "text": [
      "Data: bank_marital=married | Run: 0 | Base: LR | split 1\n",
      "Loaded score from bank_marital=married_split[2of5]_seed[42]_{'t_con': 0.1, 't_cat': 2, 'restart_prob': 0.1, 'mat_norm': 'sym', 'relax': True, 'max_relax': 3, 'relax_factor': 0.1, 'include_self': False}_score.csv\n"
     ]
    },
    {
     "name": "stderr",
     "output_type": "stream",
     "text": [
      "rand_prtneg - n_edit: 100%|██████████| 26/26 [00:06<00:00,  3.80it/s]\n",
      "disag_prtneg - n_edit: 100%|██████████| 26/26 [00:06<00:00,  3.86it/s]\n",
      "rand - n_edit: 100%|██████████| 26/26 [00:06<00:00,  4.12it/s]\n",
      "disag - n_edit: 100%|██████████| 26/26 [00:04<00:00,  5.39it/s]\n"
     ]
    },
    {
     "name": "stdout",
     "output_type": "stream",
     "text": [
      "Data: bank_marital=married | Run: 0 | Base: LR | split 2\n",
      "Loaded score from bank_marital=married_split[3of5]_seed[42]_{'t_con': 0.1, 't_cat': 2, 'restart_prob': 0.1, 'mat_norm': 'sym', 'relax': True, 'max_relax': 3, 'relax_factor': 0.1, 'include_self': False}_score.csv\n"
     ]
    },
    {
     "name": "stderr",
     "output_type": "stream",
     "text": [
      "rand_prtneg - n_edit: 100%|██████████| 26/26 [00:05<00:00,  4.71it/s]\n",
      "disag_prtneg - n_edit: 100%|██████████| 26/26 [00:05<00:00,  4.79it/s]\n",
      "rand - n_edit: 100%|██████████| 26/26 [00:05<00:00,  4.63it/s]\n",
      "disag - n_edit: 100%|██████████| 26/26 [00:05<00:00,  4.37it/s]\n"
     ]
    },
    {
     "name": "stdout",
     "output_type": "stream",
     "text": [
      "Data: bank_marital=married | Run: 0 | Base: LR | split 3\n",
      "Loaded score from bank_marital=married_split[4of5]_seed[42]_{'t_con': 0.1, 't_cat': 2, 'restart_prob': 0.1, 'mat_norm': 'sym', 'relax': True, 'max_relax': 3, 'relax_factor': 0.1, 'include_self': False}_score.csv\n"
     ]
    },
    {
     "name": "stderr",
     "output_type": "stream",
     "text": [
      "rand_prtneg - n_edit: 100%|██████████| 26/26 [00:06<00:00,  4.09it/s]\n",
      "disag_prtneg - n_edit: 100%|██████████| 26/26 [00:07<00:00,  3.68it/s]\n",
      "rand - n_edit: 100%|██████████| 26/26 [00:06<00:00,  3.93it/s]\n",
      "disag - n_edit: 100%|██████████| 26/26 [00:06<00:00,  4.22it/s]\n"
     ]
    },
    {
     "name": "stdout",
     "output_type": "stream",
     "text": [
      "Data: bank_marital=married | Run: 0 | Base: LR | split 4\n",
      "Loaded score from bank_marital=married_split[5of5]_seed[42]_{'t_con': 0.1, 't_cat': 2, 'restart_prob': 0.1, 'mat_norm': 'sym', 'relax': True, 'max_relax': 3, 'relax_factor': 0.1, 'include_self': False}_score.csv\n"
     ]
    },
    {
     "name": "stderr",
     "output_type": "stream",
     "text": [
      "rand_prtneg - n_edit: 100%|██████████| 26/26 [00:07<00:00,  3.53it/s]\n",
      "disag_prtneg - n_edit: 100%|██████████| 26/26 [00:07<00:00,  3.65it/s]\n",
      "rand - n_edit: 100%|██████████| 26/26 [00:05<00:00,  4.51it/s]\n",
      "disag - n_edit: 100%|██████████| 26/26 [00:05<00:00,  4.70it/s]\n"
     ]
    },
    {
     "name": "stdout",
     "output_type": "stream",
     "text": [
      "Data: lsa_gender | Run: 0 | Base: LR\n",
      "Data: lsa_gender | Run: 0 | Base: LR | split 0\n",
      "Loaded score from lsa_gender_split[1of5]_seed[42]_{'t_con': 0.1, 't_cat': 2, 'restart_prob': 0.1, 'mat_norm': 'sym', 'relax': True, 'max_relax': 3, 'relax_factor': 0.1, 'include_self': False}_score.csv\n"
     ]
    },
    {
     "name": "stderr",
     "output_type": "stream",
     "text": [
      "rand_prtneg - n_edit: 100%|██████████| 26/26 [00:07<00:00,  3.54it/s]\n",
      "disag_prtneg - n_edit: 100%|██████████| 26/26 [00:07<00:00,  3.59it/s]\n",
      "rand - n_edit: 100%|██████████| 26/26 [00:06<00:00,  3.78it/s]\n",
      "disag - n_edit: 100%|██████████| 26/26 [00:06<00:00,  3.76it/s]\n"
     ]
    },
    {
     "name": "stdout",
     "output_type": "stream",
     "text": [
      "Data: lsa_gender | Run: 0 | Base: LR | split 1\n",
      "Loaded score from lsa_gender_split[2of5]_seed[42]_{'t_con': 0.1, 't_cat': 2, 'restart_prob': 0.1, 'mat_norm': 'sym', 'relax': True, 'max_relax': 3, 'relax_factor': 0.1, 'include_self': False}_score.csv\n"
     ]
    },
    {
     "name": "stderr",
     "output_type": "stream",
     "text": [
      "rand_prtneg - n_edit: 100%|██████████| 26/26 [00:07<00:00,  3.59it/s]\n",
      "disag_prtneg - n_edit: 100%|██████████| 26/26 [00:07<00:00,  3.52it/s]\n",
      "rand - n_edit: 100%|██████████| 26/26 [00:07<00:00,  3.56it/s]\n",
      "disag - n_edit: 100%|██████████| 26/26 [00:06<00:00,  3.75it/s]\n"
     ]
    },
    {
     "name": "stdout",
     "output_type": "stream",
     "text": [
      "Data: lsa_gender | Run: 0 | Base: LR | split 2\n",
      "Loaded score from lsa_gender_split[3of5]_seed[42]_{'t_con': 0.1, 't_cat': 2, 'restart_prob': 0.1, 'mat_norm': 'sym', 'relax': True, 'max_relax': 3, 'relax_factor': 0.1, 'include_self': False}_score.csv\n"
     ]
    },
    {
     "name": "stderr",
     "output_type": "stream",
     "text": [
      "rand_prtneg - n_edit: 100%|██████████| 26/26 [00:07<00:00,  3.43it/s]\n",
      "disag_prtneg - n_edit: 100%|██████████| 26/26 [00:07<00:00,  3.42it/s]\n",
      "rand - n_edit: 100%|██████████| 26/26 [00:07<00:00,  3.66it/s]\n",
      "disag - n_edit: 100%|██████████| 26/26 [00:06<00:00,  3.78it/s]\n"
     ]
    },
    {
     "name": "stdout",
     "output_type": "stream",
     "text": [
      "Data: lsa_gender | Run: 0 | Base: LR | split 3\n",
      "Loaded score from lsa_gender_split[4of5]_seed[42]_{'t_con': 0.1, 't_cat': 2, 'restart_prob': 0.1, 'mat_norm': 'sym', 'relax': True, 'max_relax': 3, 'relax_factor': 0.1, 'include_self': False}_score.csv\n"
     ]
    },
    {
     "name": "stderr",
     "output_type": "stream",
     "text": [
      "rand_prtneg - n_edit: 100%|██████████| 26/26 [00:06<00:00,  4.18it/s]\n",
      "disag_prtneg - n_edit: 100%|██████████| 26/26 [00:05<00:00,  4.56it/s]\n",
      "rand - n_edit: 100%|██████████| 26/26 [00:04<00:00,  5.55it/s]\n",
      "disag - n_edit: 100%|██████████| 26/26 [00:06<00:00,  4.10it/s]\n"
     ]
    },
    {
     "name": "stdout",
     "output_type": "stream",
     "text": [
      "Data: lsa_gender | Run: 0 | Base: LR | split 4\n",
      "Loaded score from lsa_gender_split[5of5]_seed[42]_{'t_con': 0.1, 't_cat': 2, 'restart_prob': 0.1, 'mat_norm': 'sym', 'relax': True, 'max_relax': 3, 'relax_factor': 0.1, 'include_self': False}_score.csv\n"
     ]
    },
    {
     "name": "stderr",
     "output_type": "stream",
     "text": [
      "rand_prtneg - n_edit: 100%|██████████| 26/26 [00:07<00:00,  3.54it/s]\n",
      "disag_prtneg - n_edit: 100%|██████████| 26/26 [00:07<00:00,  3.41it/s]\n",
      "rand - n_edit: 100%|██████████| 26/26 [00:07<00:00,  3.59it/s]\n",
      "disag - n_edit: 100%|██████████| 26/26 [00:05<00:00,  4.35it/s]\n"
     ]
    },
    {
     "name": "stdout",
     "output_type": "stream",
     "text": [
      "Data: lsa_race | Run: 0 | Base: LR\n",
      "Data: lsa_race | Run: 0 | Base: LR | split 0\n",
      "Loaded score from lsa_race_split[1of5]_seed[42]_{'t_con': 0.1, 't_cat': 2, 'restart_prob': 0.1, 'mat_norm': 'sym', 'relax': True, 'max_relax': 3, 'relax_factor': 0.1, 'include_self': False}_score.csv\n"
     ]
    },
    {
     "name": "stderr",
     "output_type": "stream",
     "text": [
      "rand_prtneg - n_edit: 100%|██████████| 26/26 [00:07<00:00,  3.42it/s]\n",
      "disag_prtneg - n_edit: 100%|██████████| 26/26 [00:07<00:00,  3.38it/s]\n",
      "rand - n_edit: 100%|██████████| 26/26 [00:06<00:00,  3.75it/s]\n",
      "disag - n_edit: 100%|██████████| 26/26 [00:07<00:00,  3.63it/s]\n"
     ]
    },
    {
     "name": "stdout",
     "output_type": "stream",
     "text": [
      "Data: lsa_race | Run: 0 | Base: LR | split 1\n",
      "Loaded score from lsa_race_split[2of5]_seed[42]_{'t_con': 0.1, 't_cat': 2, 'restart_prob': 0.1, 'mat_norm': 'sym', 'relax': True, 'max_relax': 3, 'relax_factor': 0.1, 'include_self': False}_score.csv\n"
     ]
    },
    {
     "name": "stderr",
     "output_type": "stream",
     "text": [
      "rand_prtneg - n_edit: 100%|██████████| 26/26 [00:07<00:00,  3.68it/s]\n",
      "disag_prtneg - n_edit: 100%|██████████| 26/26 [00:06<00:00,  3.92it/s]\n",
      "rand - n_edit: 100%|██████████| 26/26 [00:06<00:00,  3.96it/s]\n",
      "disag - n_edit: 100%|██████████| 26/26 [00:07<00:00,  3.56it/s]\n"
     ]
    },
    {
     "name": "stdout",
     "output_type": "stream",
     "text": [
      "Data: lsa_race | Run: 0 | Base: LR | split 2\n",
      "Loaded score from lsa_race_split[3of5]_seed[42]_{'t_con': 0.1, 't_cat': 2, 'restart_prob': 0.1, 'mat_norm': 'sym', 'relax': True, 'max_relax': 3, 'relax_factor': 0.1, 'include_self': False}_score.csv\n"
     ]
    },
    {
     "name": "stderr",
     "output_type": "stream",
     "text": [
      "rand_prtneg - n_edit: 100%|██████████| 26/26 [00:06<00:00,  3.79it/s]\n",
      "disag_prtneg - n_edit: 100%|██████████| 26/26 [00:05<00:00,  4.74it/s]\n",
      "rand - n_edit: 100%|██████████| 26/26 [00:07<00:00,  3.64it/s]\n",
      "disag - n_edit: 100%|██████████| 26/26 [00:07<00:00,  3.51it/s]\n"
     ]
    },
    {
     "name": "stdout",
     "output_type": "stream",
     "text": [
      "Data: lsa_race | Run: 0 | Base: LR | split 3\n",
      "Loaded score from lsa_race_split[4of5]_seed[42]_{'t_con': 0.1, 't_cat': 2, 'restart_prob': 0.1, 'mat_norm': 'sym', 'relax': True, 'max_relax': 3, 'relax_factor': 0.1, 'include_self': False}_score.csv\n"
     ]
    },
    {
     "name": "stderr",
     "output_type": "stream",
     "text": [
      "rand_prtneg - n_edit: 100%|██████████| 26/26 [00:07<00:00,  3.53it/s]\n",
      "disag_prtneg - n_edit: 100%|██████████| 26/26 [00:07<00:00,  3.25it/s]\n",
      "rand - n_edit: 100%|██████████| 26/26 [00:06<00:00,  3.92it/s]\n",
      "disag - n_edit: 100%|██████████| 26/26 [00:05<00:00,  4.56it/s]\n"
     ]
    },
    {
     "name": "stdout",
     "output_type": "stream",
     "text": [
      "Data: lsa_race | Run: 0 | Base: LR | split 4\n",
      "Loaded score from lsa_race_split[5of5]_seed[42]_{'t_con': 0.1, 't_cat': 2, 'restart_prob': 0.1, 'mat_norm': 'sym', 'relax': True, 'max_relax': 3, 'relax_factor': 0.1, 'include_self': False}_score.csv\n"
     ]
    },
    {
     "name": "stderr",
     "output_type": "stream",
     "text": [
      "rand_prtneg - n_edit: 100%|██████████| 26/26 [00:07<00:00,  3.64it/s]\n",
      "disag_prtneg - n_edit: 100%|██████████| 26/26 [00:05<00:00,  4.51it/s]\n",
      "rand - n_edit: 100%|██████████| 26/26 [00:06<00:00,  3.96it/s]\n",
      "disag - n_edit: 100%|██████████| 26/26 [00:07<00:00,  3.66it/s]\n"
     ]
    },
    {
     "name": "stdout",
     "output_type": "stream",
     "text": [
      "Data: meps_SEX | Run: 0 | Base: LR\n",
      "Data: meps_SEX | Run: 0 | Base: LR | split 0\n",
      "Loaded score from meps_SEX_split[1of5]_seed[42]_{'t_con': 0.1, 't_cat': 2, 'restart_prob': 0.1, 'mat_norm': 'sym', 'relax': True, 'max_relax': 3, 'relax_factor': 0.1, 'include_self': False}_score.csv\n"
     ]
    },
    {
     "name": "stderr",
     "output_type": "stream",
     "text": [
      "rand_prtneg - n_edit: 100%|██████████| 26/26 [00:04<00:00,  5.41it/s]\n",
      "disag_prtneg - n_edit: 100%|██████████| 26/26 [00:03<00:00,  7.31it/s]\n",
      "rand - n_edit: 100%|██████████| 26/26 [00:04<00:00,  6.21it/s]\n",
      "disag - n_edit: 100%|██████████| 26/26 [00:04<00:00,  5.66it/s]\n"
     ]
    },
    {
     "name": "stdout",
     "output_type": "stream",
     "text": [
      "Data: meps_SEX | Run: 0 | Base: LR | split 1\n",
      "Loaded score from meps_SEX_split[2of5]_seed[42]_{'t_con': 0.1, 't_cat': 2, 'restart_prob': 0.1, 'mat_norm': 'sym', 'relax': True, 'max_relax': 3, 'relax_factor': 0.1, 'include_self': False}_score.csv\n"
     ]
    },
    {
     "name": "stderr",
     "output_type": "stream",
     "text": [
      "rand_prtneg - n_edit: 100%|██████████| 26/26 [00:04<00:00,  5.24it/s]\n",
      "disag_prtneg - n_edit: 100%|██████████| 26/26 [00:04<00:00,  5.40it/s]\n",
      "rand - n_edit: 100%|██████████| 26/26 [00:04<00:00,  5.63it/s]\n",
      "disag - n_edit: 100%|██████████| 26/26 [00:04<00:00,  5.61it/s]\n"
     ]
    },
    {
     "name": "stdout",
     "output_type": "stream",
     "text": [
      "Data: meps_SEX | Run: 0 | Base: LR | split 2\n",
      "Loaded score from meps_SEX_split[3of5]_seed[42]_{'t_con': 0.1, 't_cat': 2, 'restart_prob': 0.1, 'mat_norm': 'sym', 'relax': True, 'max_relax': 3, 'relax_factor': 0.1, 'include_self': False}_score.csv\n"
     ]
    },
    {
     "name": "stderr",
     "output_type": "stream",
     "text": [
      "rand_prtneg - n_edit: 100%|██████████| 26/26 [00:04<00:00,  5.48it/s]\n",
      "disag_prtneg - n_edit: 100%|██████████| 26/26 [00:05<00:00,  4.48it/s]\n",
      "rand - n_edit: 100%|██████████| 26/26 [00:04<00:00,  5.32it/s]\n",
      "disag - n_edit: 100%|██████████| 26/26 [00:05<00:00,  5.03it/s]\n"
     ]
    },
    {
     "name": "stdout",
     "output_type": "stream",
     "text": [
      "Data: meps_SEX | Run: 0 | Base: LR | split 3\n",
      "Loaded score from meps_SEX_split[4of5]_seed[42]_{'t_con': 0.1, 't_cat': 2, 'restart_prob': 0.1, 'mat_norm': 'sym', 'relax': True, 'max_relax': 3, 'relax_factor': 0.1, 'include_self': False}_score.csv\n"
     ]
    },
    {
     "name": "stderr",
     "output_type": "stream",
     "text": [
      "rand_prtneg - n_edit: 100%|██████████| 26/26 [00:04<00:00,  5.56it/s]\n",
      "disag_prtneg - n_edit: 100%|██████████| 26/26 [00:03<00:00,  8.32it/s]\n",
      "rand - n_edit: 100%|██████████| 26/26 [00:02<00:00,  9.19it/s]\n",
      "disag - n_edit: 100%|██████████| 26/26 [00:03<00:00,  8.51it/s]\n"
     ]
    },
    {
     "name": "stdout",
     "output_type": "stream",
     "text": [
      "Data: meps_SEX | Run: 0 | Base: LR | split 4\n",
      "Loaded score from meps_SEX_split[5of5]_seed[42]_{'t_con': 0.1, 't_cat': 2, 'restart_prob': 0.1, 'mat_norm': 'sym', 'relax': True, 'max_relax': 3, 'relax_factor': 0.1, 'include_self': False}_score.csv\n"
     ]
    },
    {
     "name": "stderr",
     "output_type": "stream",
     "text": [
      "rand_prtneg - n_edit: 100%|██████████| 26/26 [00:03<00:00,  7.55it/s]\n",
      "disag_prtneg - n_edit: 100%|██████████| 26/26 [00:04<00:00,  6.22it/s]\n",
      "rand - n_edit: 100%|██████████| 26/26 [00:03<00:00,  6.75it/s]\n",
      "disag - n_edit: 100%|██████████| 26/26 [00:04<00:00,  6.14it/s]\n"
     ]
    },
    {
     "name": "stdout",
     "output_type": "stream",
     "text": [
      "Data: meps_RACE | Run: 0 | Base: LR\n",
      "Data: meps_RACE | Run: 0 | Base: LR | split 0\n",
      "Loaded score from meps_RACE_split[1of5]_seed[42]_{'t_con': 0.1, 't_cat': 2, 'restart_prob': 0.1, 'mat_norm': 'sym', 'relax': True, 'max_relax': 3, 'relax_factor': 0.1, 'include_self': False}_score.csv\n"
     ]
    },
    {
     "name": "stderr",
     "output_type": "stream",
     "text": [
      "rand_prtneg - n_edit: 100%|██████████| 26/26 [00:04<00:00,  5.35it/s]\n",
      "disag_prtneg - n_edit: 100%|██████████| 26/26 [00:04<00:00,  5.44it/s]\n",
      "rand - n_edit: 100%|██████████| 26/26 [00:04<00:00,  6.11it/s]\n",
      "disag - n_edit: 100%|██████████| 26/26 [00:04<00:00,  6.10it/s]\n"
     ]
    },
    {
     "name": "stdout",
     "output_type": "stream",
     "text": [
      "Data: meps_RACE | Run: 0 | Base: LR | split 1\n",
      "Loaded score from meps_RACE_split[2of5]_seed[42]_{'t_con': 0.1, 't_cat': 2, 'restart_prob': 0.1, 'mat_norm': 'sym', 'relax': True, 'max_relax': 3, 'relax_factor': 0.1, 'include_self': False}_score.csv\n"
     ]
    },
    {
     "name": "stderr",
     "output_type": "stream",
     "text": [
      "rand_prtneg - n_edit: 100%|██████████| 26/26 [00:05<00:00,  5.17it/s]\n",
      "disag_prtneg - n_edit: 100%|██████████| 26/26 [00:04<00:00,  5.22it/s]\n",
      "rand - n_edit: 100%|██████████| 26/26 [00:04<00:00,  5.86it/s]\n",
      "disag - n_edit: 100%|██████████| 26/26 [00:04<00:00,  6.11it/s]\n"
     ]
    },
    {
     "name": "stdout",
     "output_type": "stream",
     "text": [
      "Data: meps_RACE | Run: 0 | Base: LR | split 2\n",
      "Loaded score from meps_RACE_split[3of5]_seed[42]_{'t_con': 0.1, 't_cat': 2, 'restart_prob': 0.1, 'mat_norm': 'sym', 'relax': True, 'max_relax': 3, 'relax_factor': 0.1, 'include_self': False}_score.csv\n"
     ]
    },
    {
     "name": "stderr",
     "output_type": "stream",
     "text": [
      "rand_prtneg - n_edit: 100%|██████████| 26/26 [00:04<00:00,  5.71it/s]\n",
      "disag_prtneg - n_edit: 100%|██████████| 26/26 [00:04<00:00,  5.68it/s]\n",
      "rand - n_edit: 100%|██████████| 26/26 [00:03<00:00,  6.67it/s]\n",
      "disag - n_edit: 100%|██████████| 26/26 [00:02<00:00,  9.08it/s]\n"
     ]
    },
    {
     "name": "stdout",
     "output_type": "stream",
     "text": [
      "Data: meps_RACE | Run: 0 | Base: LR | split 3\n",
      "Loaded score from meps_RACE_split[4of5]_seed[42]_{'t_con': 0.1, 't_cat': 2, 'restart_prob': 0.1, 'mat_norm': 'sym', 'relax': True, 'max_relax': 3, 'relax_factor': 0.1, 'include_self': False}_score.csv\n"
     ]
    },
    {
     "name": "stderr",
     "output_type": "stream",
     "text": [
      "rand_prtneg - n_edit: 100%|██████████| 26/26 [00:03<00:00,  8.13it/s]\n",
      "disag_prtneg - n_edit: 100%|██████████| 26/26 [00:02<00:00,  9.16it/s]\n",
      "rand - n_edit: 100%|██████████| 26/26 [00:02<00:00,  9.44it/s]\n",
      "disag - n_edit: 100%|██████████| 26/26 [00:03<00:00,  7.35it/s]\n"
     ]
    },
    {
     "name": "stdout",
     "output_type": "stream",
     "text": [
      "Data: meps_RACE | Run: 0 | Base: LR | split 4\n",
      "Loaded score from meps_RACE_split[5of5]_seed[42]_{'t_con': 0.1, 't_cat': 2, 'restart_prob': 0.1, 'mat_norm': 'sym', 'relax': True, 'max_relax': 3, 'relax_factor': 0.1, 'include_self': False}_score.csv\n"
     ]
    },
    {
     "name": "stderr",
     "output_type": "stream",
     "text": [
      "rand_prtneg - n_edit: 100%|██████████| 26/26 [00:04<00:00,  5.85it/s]\n",
      "disag_prtneg - n_edit: 100%|██████████| 26/26 [00:04<00:00,  5.79it/s]\n",
      "rand - n_edit: 100%|██████████| 26/26 [00:04<00:00,  6.13it/s]\n",
      "disag - n_edit: 100%|██████████| 26/26 [00:03<00:00,  6.94it/s]\n"
     ]
    },
    {
     "data": {
      "text/html": [
       "<div>\n",
       "<style scoped>\n",
       "    .dataframe tbody tr th:only-of-type {\n",
       "        vertical-align: middle;\n",
       "    }\n",
       "\n",
       "    .dataframe tbody tr th {\n",
       "        vertical-align: top;\n",
       "    }\n",
       "\n",
       "    .dataframe thead th {\n",
       "        text-align: right;\n",
       "    }\n",
       "</style>\n",
       "<table border=\"1\" class=\"dataframe\">\n",
       "  <thead>\n",
       "    <tr style=\"text-align: right;\">\n",
       "      <th></th>\n",
       "      <th>acc</th>\n",
       "      <th>bacc</th>\n",
       "      <th>ap</th>\n",
       "      <th>roc</th>\n",
       "      <th>f1</th>\n",
       "      <th>dp</th>\n",
       "      <th>eo</th>\n",
       "      <th>ge</th>\n",
       "      <th>si</th>\n",
       "      <th>acc_grp</th>\n",
       "      <th>...</th>\n",
       "      <th>g_adv</th>\n",
       "      <th>acc_cls</th>\n",
       "      <th>how</th>\n",
       "      <th>setting</th>\n",
       "      <th>n_edit</th>\n",
       "      <th>edit_ratio</th>\n",
       "      <th>dataset</th>\n",
       "      <th>base_model</th>\n",
       "      <th>i_run</th>\n",
       "      <th>i_split</th>\n",
       "    </tr>\n",
       "  </thead>\n",
       "  <tbody>\n",
       "    <tr>\n",
       "      <th>0</th>\n",
       "      <td>0.694468</td>\n",
       "      <td>0.690494</td>\n",
       "      <td>0.606229</td>\n",
       "      <td>0.690494</td>\n",
       "      <td>0.691027</td>\n",
       "      <td>0.361539</td>\n",
       "      <td>0.436371</td>\n",
       "      <td>0.164382</td>\n",
       "      <td>0.214468</td>\n",
       "      <td>{0: 0.69, 1: 0.696}</td>\n",
       "      <td>...</td>\n",
       "      <td>1</td>\n",
       "      <td>{0: 0.75, 1: 0.631}</td>\n",
       "      <td>removal</td>\n",
       "      <td>rand_prtneg</td>\n",
       "      <td>0</td>\n",
       "      <td>0.00</td>\n",
       "      <td>compas_sex</td>\n",
       "      <td>LR</td>\n",
       "      <td>0</td>\n",
       "      <td>0</td>\n",
       "    </tr>\n",
       "    <tr>\n",
       "      <th>1</th>\n",
       "      <td>0.693617</td>\n",
       "      <td>0.689697</td>\n",
       "      <td>0.605367</td>\n",
       "      <td>0.689697</td>\n",
       "      <td>0.690222</td>\n",
       "      <td>0.357228</td>\n",
       "      <td>0.436371</td>\n",
       "      <td>0.164586</td>\n",
       "      <td>0.211915</td>\n",
       "      <td>{0: 0.685, 1: 0.696}</td>\n",
       "      <td>...</td>\n",
       "      <td>1</td>\n",
       "      <td>{0: 0.748, 1: 0.631}</td>\n",
       "      <td>removal</td>\n",
       "      <td>rand_prtneg</td>\n",
       "      <td>8</td>\n",
       "      <td>0.02</td>\n",
       "      <td>compas_sex</td>\n",
       "      <td>LR</td>\n",
       "      <td>0</td>\n",
       "      <td>0</td>\n",
       "    </tr>\n",
       "    <tr>\n",
       "      <th>2</th>\n",
       "      <td>0.692766</td>\n",
       "      <td>0.688899</td>\n",
       "      <td>0.604509</td>\n",
       "      <td>0.688899</td>\n",
       "      <td>0.689418</td>\n",
       "      <td>0.352918</td>\n",
       "      <td>0.436371</td>\n",
       "      <td>0.164788</td>\n",
       "      <td>0.207660</td>\n",
       "      <td>{0: 0.681, 1: 0.696}</td>\n",
       "      <td>...</td>\n",
       "      <td>1</td>\n",
       "      <td>{0: 0.746, 1: 0.631}</td>\n",
       "      <td>removal</td>\n",
       "      <td>rand_prtneg</td>\n",
       "      <td>17</td>\n",
       "      <td>0.04</td>\n",
       "      <td>compas_sex</td>\n",
       "      <td>LR</td>\n",
       "      <td>0</td>\n",
       "      <td>0</td>\n",
       "    </tr>\n",
       "    <tr>\n",
       "      <th>3</th>\n",
       "      <td>0.693617</td>\n",
       "      <td>0.690042</td>\n",
       "      <td>0.605175</td>\n",
       "      <td>0.690042</td>\n",
       "      <td>0.690549</td>\n",
       "      <td>0.331366</td>\n",
       "      <td>0.400657</td>\n",
       "      <td>0.163044</td>\n",
       "      <td>0.198298</td>\n",
       "      <td>{0: 0.685, 1: 0.696}</td>\n",
       "      <td>...</td>\n",
       "      <td>1</td>\n",
       "      <td>{0: 0.743, 1: 0.637}</td>\n",
       "      <td>removal</td>\n",
       "      <td>rand_prtneg</td>\n",
       "      <td>26</td>\n",
       "      <td>0.06</td>\n",
       "      <td>compas_sex</td>\n",
       "      <td>LR</td>\n",
       "      <td>0</td>\n",
       "      <td>0</td>\n",
       "    </tr>\n",
       "    <tr>\n",
       "      <th>4</th>\n",
       "      <td>0.691064</td>\n",
       "      <td>0.687649</td>\n",
       "      <td>0.602626</td>\n",
       "      <td>0.687649</td>\n",
       "      <td>0.688128</td>\n",
       "      <td>0.318435</td>\n",
       "      <td>0.400657</td>\n",
       "      <td>0.163627</td>\n",
       "      <td>0.188085</td>\n",
       "      <td>{0: 0.672, 1: 0.696}</td>\n",
       "      <td>...</td>\n",
       "      <td>1</td>\n",
       "      <td>{0: 0.738, 1: 0.637}</td>\n",
       "      <td>removal</td>\n",
       "      <td>rand_prtneg</td>\n",
       "      <td>35</td>\n",
       "      <td>0.08</td>\n",
       "      <td>compas_sex</td>\n",
       "      <td>LR</td>\n",
       "      <td>0</td>\n",
       "      <td>0</td>\n",
       "    </tr>\n",
       "    <tr>\n",
       "      <th>...</th>\n",
       "      <td>...</td>\n",
       "      <td>...</td>\n",
       "      <td>...</td>\n",
       "      <td>...</td>\n",
       "      <td>...</td>\n",
       "      <td>...</td>\n",
       "      <td>...</td>\n",
       "      <td>...</td>\n",
       "      <td>...</td>\n",
       "      <td>...</td>\n",
       "      <td>...</td>\n",
       "      <td>...</td>\n",
       "      <td>...</td>\n",
       "      <td>...</td>\n",
       "      <td>...</td>\n",
       "      <td>...</td>\n",
       "      <td>...</td>\n",
       "      <td>...</td>\n",
       "      <td>...</td>\n",
       "      <td>...</td>\n",
       "      <td>...</td>\n",
       "    </tr>\n",
       "    <tr>\n",
       "      <th>5195</th>\n",
       "      <td>0.858857</td>\n",
       "      <td>0.642437</td>\n",
       "      <td>0.335903</td>\n",
       "      <td>0.642437</td>\n",
       "      <td>0.675718</td>\n",
       "      <td>0.067202</td>\n",
       "      <td>0.085225</td>\n",
       "      <td>0.080619</td>\n",
       "      <td>0.001895</td>\n",
       "      <td>{0: 0.889, 1: 0.805}</td>\n",
       "      <td>...</td>\n",
       "      <td>1</td>\n",
       "      <td>{0: 0.972, 1: 0.313}</td>\n",
       "      <td>removal</td>\n",
       "      <td>disag</td>\n",
       "      <td>3991</td>\n",
       "      <td>0.42</td>\n",
       "      <td>meps_RACE</td>\n",
       "      <td>LR</td>\n",
       "      <td>0</td>\n",
       "      <td>4</td>\n",
       "    </tr>\n",
       "    <tr>\n",
       "      <th>5196</th>\n",
       "      <td>0.858225</td>\n",
       "      <td>0.640596</td>\n",
       "      <td>0.333193</td>\n",
       "      <td>0.640596</td>\n",
       "      <td>0.673555</td>\n",
       "      <td>0.068185</td>\n",
       "      <td>0.085701</td>\n",
       "      <td>0.081044</td>\n",
       "      <td>0.004105</td>\n",
       "      <td>{0: 0.889, 1: 0.803}</td>\n",
       "      <td>...</td>\n",
       "      <td>1</td>\n",
       "      <td>{0: 0.972, 1: 0.309}</td>\n",
       "      <td>removal</td>\n",
       "      <td>disag</td>\n",
       "      <td>4181</td>\n",
       "      <td>0.44</td>\n",
       "      <td>meps_RACE</td>\n",
       "      <td>LR</td>\n",
       "      <td>0</td>\n",
       "      <td>4</td>\n",
       "    </tr>\n",
       "    <tr>\n",
       "      <th>5197</th>\n",
       "      <td>0.857910</td>\n",
       "      <td>0.640405</td>\n",
       "      <td>0.332309</td>\n",
       "      <td>0.640405</td>\n",
       "      <td>0.673185</td>\n",
       "      <td>0.069069</td>\n",
       "      <td>0.085701</td>\n",
       "      <td>0.081217</td>\n",
       "      <td>0.004105</td>\n",
       "      <td>{0: 0.889, 1: 0.802}</td>\n",
       "      <td>...</td>\n",
       "      <td>1</td>\n",
       "      <td>{0: 0.971, 1: 0.309}</td>\n",
       "      <td>removal</td>\n",
       "      <td>disag</td>\n",
       "      <td>4371</td>\n",
       "      <td>0.46</td>\n",
       "      <td>meps_RACE</td>\n",
       "      <td>LR</td>\n",
       "      <td>0</td>\n",
       "      <td>4</td>\n",
       "    </tr>\n",
       "    <tr>\n",
       "      <th>5198</th>\n",
       "      <td>0.858541</td>\n",
       "      <td>0.641516</td>\n",
       "      <td>0.334548</td>\n",
       "      <td>0.641516</td>\n",
       "      <td>0.674638</td>\n",
       "      <td>0.067694</td>\n",
       "      <td>0.081764</td>\n",
       "      <td>0.080831</td>\n",
       "      <td>0.003473</td>\n",
       "      <td>{0: 0.889, 1: 0.803}</td>\n",
       "      <td>...</td>\n",
       "      <td>1</td>\n",
       "      <td>{0: 0.972, 1: 0.311}</td>\n",
       "      <td>removal</td>\n",
       "      <td>disag</td>\n",
       "      <td>4561</td>\n",
       "      <td>0.48</td>\n",
       "      <td>meps_RACE</td>\n",
       "      <td>LR</td>\n",
       "      <td>0</td>\n",
       "      <td>4</td>\n",
       "    </tr>\n",
       "    <tr>\n",
       "      <th>5199</th>\n",
       "      <td>0.858857</td>\n",
       "      <td>0.642437</td>\n",
       "      <td>0.335903</td>\n",
       "      <td>0.642437</td>\n",
       "      <td>0.675718</td>\n",
       "      <td>0.068578</td>\n",
       "      <td>0.085225</td>\n",
       "      <td>0.080619</td>\n",
       "      <td>0.003789</td>\n",
       "      <td>{0: 0.889, 1: 0.804}</td>\n",
       "      <td>...</td>\n",
       "      <td>1</td>\n",
       "      <td>{0: 0.972, 1: 0.313}</td>\n",
       "      <td>removal</td>\n",
       "      <td>disag</td>\n",
       "      <td>4752</td>\n",
       "      <td>0.50</td>\n",
       "      <td>meps_RACE</td>\n",
       "      <td>LR</td>\n",
       "      <td>0</td>\n",
       "      <td>4</td>\n",
       "    </tr>\n",
       "  </tbody>\n",
       "</table>\n",
       "<p>5200 rows × 21 columns</p>\n",
       "</div>"
      ],
      "text/plain": [
       "           acc      bacc        ap       roc        f1        dp        eo  \\\n",
       "0     0.694468  0.690494  0.606229  0.690494  0.691027  0.361539  0.436371   \n",
       "1     0.693617  0.689697  0.605367  0.689697  0.690222  0.357228  0.436371   \n",
       "2     0.692766  0.688899  0.604509  0.688899  0.689418  0.352918  0.436371   \n",
       "3     0.693617  0.690042  0.605175  0.690042  0.690549  0.331366  0.400657   \n",
       "4     0.691064  0.687649  0.602626  0.687649  0.688128  0.318435  0.400657   \n",
       "...        ...       ...       ...       ...       ...       ...       ...   \n",
       "5195  0.858857  0.642437  0.335903  0.642437  0.675718  0.067202  0.085225   \n",
       "5196  0.858225  0.640596  0.333193  0.640596  0.673555  0.068185  0.085701   \n",
       "5197  0.857910  0.640405  0.332309  0.640405  0.673185  0.069069  0.085701   \n",
       "5198  0.858541  0.641516  0.334548  0.641516  0.674638  0.067694  0.081764   \n",
       "5199  0.858857  0.642437  0.335903  0.642437  0.675718  0.068578  0.085225   \n",
       "\n",
       "            ge        si               acc_grp  ... g_adv  \\\n",
       "0     0.164382  0.214468   {0: 0.69, 1: 0.696}  ...     1   \n",
       "1     0.164586  0.211915  {0: 0.685, 1: 0.696}  ...     1   \n",
       "2     0.164788  0.207660  {0: 0.681, 1: 0.696}  ...     1   \n",
       "3     0.163044  0.198298  {0: 0.685, 1: 0.696}  ...     1   \n",
       "4     0.163627  0.188085  {0: 0.672, 1: 0.696}  ...     1   \n",
       "...        ...       ...                   ...  ...   ...   \n",
       "5195  0.080619  0.001895  {0: 0.889, 1: 0.805}  ...     1   \n",
       "5196  0.081044  0.004105  {0: 0.889, 1: 0.803}  ...     1   \n",
       "5197  0.081217  0.004105  {0: 0.889, 1: 0.802}  ...     1   \n",
       "5198  0.080831  0.003473  {0: 0.889, 1: 0.803}  ...     1   \n",
       "5199  0.080619  0.003789  {0: 0.889, 1: 0.804}  ...     1   \n",
       "\n",
       "                   acc_cls      how      setting n_edit  edit_ratio  \\\n",
       "0      {0: 0.75, 1: 0.631}  removal  rand_prtneg      0        0.00   \n",
       "1     {0: 0.748, 1: 0.631}  removal  rand_prtneg      8        0.02   \n",
       "2     {0: 0.746, 1: 0.631}  removal  rand_prtneg     17        0.04   \n",
       "3     {0: 0.743, 1: 0.637}  removal  rand_prtneg     26        0.06   \n",
       "4     {0: 0.738, 1: 0.637}  removal  rand_prtneg     35        0.08   \n",
       "...                    ...      ...          ...    ...         ...   \n",
       "5195  {0: 0.972, 1: 0.313}  removal        disag   3991        0.42   \n",
       "5196  {0: 0.972, 1: 0.309}  removal        disag   4181        0.44   \n",
       "5197  {0: 0.971, 1: 0.309}  removal        disag   4371        0.46   \n",
       "5198  {0: 0.972, 1: 0.311}  removal        disag   4561        0.48   \n",
       "5199  {0: 0.972, 1: 0.313}  removal        disag   4752        0.50   \n",
       "\n",
       "         dataset base_model i_run  i_split  \n",
       "0     compas_sex         LR     0        0  \n",
       "1     compas_sex         LR     0        0  \n",
       "2     compas_sex         LR     0        0  \n",
       "3     compas_sex         LR     0        0  \n",
       "4     compas_sex         LR     0        0  \n",
       "...          ...        ...   ...      ...  \n",
       "5195   meps_RACE         LR     0        4  \n",
       "5196   meps_RACE         LR     0        4  \n",
       "5197   meps_RACE         LR     0        4  \n",
       "5198   meps_RACE         LR     0        4  \n",
       "5199   meps_RACE         LR     0        4  \n",
       "\n",
       "[5200 rows x 21 columns]"
      ]
     },
     "execution_count": 14,
     "metadata": {},
     "output_type": "execute_result"
    }
   ],
   "source": [
    "import tqdm\n",
    "from sklearn.base import clone\n",
    "from eval import evaluate\n",
    "\n",
    "def run_unloc_remove_relabel_exp(\n",
    "        unloc, dataset_zoo, base_model_zoo, edit_ratio_space, setting_space, prox_kwargs, how,\n",
    "        n_splits=5, n_runs=1, random_state=42, verbose=False\n",
    "):\n",
    "    print(\n",
    "        f\"////// Baseline Experiment //////\\n\"\n",
    "        f\"Base Model Zoo:       {list(base_model_zoo.keys())}\\n\"\n",
    "        f\"Dataset Zoo:          {list(dataset_zoo.keys())}\\n\"\n",
    "        f\"edit_ratio_space:     {edit_ratio_space}\\n\"\n",
    "        # f\"setting_space:        {setting_space}\\n\"\n",
    "        f\"n_splits:             {n_splits}\\n\"\n",
    "        f\"n_runs:               {n_runs}\\n\"\n",
    "        f\"random_state:         {random_state}\\n\"\n",
    "    )\n",
    "    \n",
    "    all_res = []\n",
    "\n",
    "    for data_name, data in dataset_zoo.items():\n",
    "\n",
    "        for base_model_name, base_model in base_model_zoo.items():\n",
    "\n",
    "            for i_run in range(n_runs):\n",
    "\n",
    "                print (f\"Data: {data_name} | Run: {i_run} | Base: {base_model_name}\")\n",
    "                rand_seed = random_state + i_run\n",
    "\n",
    "                base_model = base_model.set_params(random_state=rand_seed)\n",
    "                \n",
    "                for i_split in range(n_splits):\n",
    "                    \n",
    "                    print (f\"Data: {data_name} | Run: {i_run} | Base: {base_model_name} | split {i_split}\")\n",
    "                    \n",
    "                    # get the i-th split of a n-fold cross validation\n",
    "                    (\n",
    "                        (X_train, y_train, s_train),\n",
    "                        (X_val, y_val, s_val),\n",
    "                        (X_test, y_test, s_test),\n",
    "                        (idx_train, idx_val, idx_test)\n",
    "                    ) = data.get_subgroup_split(\n",
    "                        i_split=i_split, \n",
    "                        random_state=rand_seed,\n",
    "                        n_splits=n_splits\n",
    "                    )\n",
    "                    \n",
    "                    data_split_info = f\"{data.fullname}_split[{i_split+1}of{n_splits}]_seed[{rand_seed}]\"\n",
    "                    AIM = UnLoc()\n",
    "                    df_score = AIM.fit_transform(\n",
    "                        X_train, y_train, s_train, data_split_info, \n",
    "                        features=data.feature_names, \n",
    "                        s_col=data.s_col,\n",
    "                        prox_kwargs=prox_kwargs,\n",
    "                    )\n",
    "\n",
    "                    for setting_name, setting_kwargs in setting_space.items():\n",
    "                            \n",
    "                        weights = df_score[setting_kwargs['weights']]\n",
    "                        dummy = setting_kwargs['dummy']\n",
    "                        f = setting_kwargs['filter']\n",
    "\n",
    "                        for edit_ratio in tqdm.tqdm(edit_ratio_space, disable=verbose, desc=f\"{setting_name} - n_edit\"):\n",
    "\n",
    "                            X_edited, y_edited, s_edited, n_edit = AIM.fair_removal(\n",
    "                                X_train, y_train, s_train,\n",
    "                                how=how,\n",
    "                                edit_ratio=edit_ratio,\n",
    "                                weights=weights,\n",
    "                                dummy=dummy,\n",
    "                                filter=f, \n",
    "                                verbose=False\n",
    "                            )\n",
    "                            \n",
    "                            clf = clone(base_model)\n",
    "                            clf.set_params(random_state=rand_seed)\n",
    "                            clf.fit(X_edited, y_edited)\n",
    "                            \n",
    "                            res = evaluate(clf, X_test, y_test, s_test)\n",
    "                            \n",
    "                            all_res.append({\n",
    "                                **res,\n",
    "                                'how': how,\n",
    "                                'setting': setting_name,\n",
    "                                'n_edit': n_edit,\n",
    "                                'edit_ratio': edit_ratio,\n",
    "                                'dataset': data_name,\n",
    "                                'base_model': base_model_name,\n",
    "                                'i_run': i_run,\n",
    "                                'i_split': i_split,\n",
    "                            })\n",
    "                            if verbose:\n",
    "                                res_vis = res.copy()\n",
    "                                for k, v in res_vis.items():\n",
    "                                    if isinstance(v, float):\n",
    "                                        res_vis[k] = np.round(v*100, 2)\n",
    "                                print (f\"split: {i_split} | n_edit {n_edit} | {res_vis}\")\n",
    "        \n",
    "    df_res = pd.DataFrame(all_res)\n",
    "    \n",
    "    return df_res        \n",
    "\n",
    "\n",
    "base_model_zoo = {\n",
    "    'LR': LogisticRegression(),\n",
    "    # 'KN': KNeighborsClassifier(n_neighbors=5),\n",
    "    # 'DT': DecisionTreeClassifier(max_depth=10),\n",
    "    # 'MLP': MLPClassifier(hidden_layer_sizes=(8), max_iter=50),\n",
    "    # 'ADA': AdaBoostClassifier(estimator=DecisionTreeClassifier(max_depth=None), n_estimators=5),\n",
    "    # 'BAG': BaggingClassifier(estimator=DecisionTreeClassifier(max_depth=None), n_estimators=5),\n",
    "}\n",
    "# n_space = np.linspace(0, 5000, 21).astype(int)\n",
    "edit_ratio_space = np.linspace(0, 0.5, 26)\n",
    "setting_space = setting_space = {\n",
    "    'rand_prtneg': {'dummy': True, 'filter': 'prt-neg', 'weights': 'unf'},\n",
    "    'disag_prtneg': {'dummy': False, 'filter': 'prt-neg', 'weights': 'unf'},\n",
    "    # 'disag_contr_prtneg': {'dummy': False, 'filter': 'prt-neg', 'weights': 'unf_contr'},\n",
    "    'rand': {'dummy': True, 'filter': None, 'weights': 'unf'},\n",
    "    'disag': {'dummy': False, 'filter': None, 'weights': 'unf'},\n",
    "}\n",
    "prox_kwargs = {\n",
    "    't_con': 0.1, 't_cat': 2, 'restart_prob': 0.1, 'mat_norm': 'sym', \n",
    "    'relax': True, 'max_relax': 3, 'relax_factor': 0.1, \n",
    "    'include_self': False\n",
    "}\n",
    "n_splits = 5\n",
    "n_runs = 1\n",
    "random_state = 42\n",
    "verbose = False\n",
    "how = 'removal'\n",
    "\n",
    "unloc = UnLoc()\n",
    "\n",
    "df_res = run_unloc_remove_relabel_exp(\n",
    "    unloc, dataset_zoo, base_model_zoo, edit_ratio_space, setting_space, \n",
    "    prox_kwargs=prox_kwargs, how=how, \n",
    "    n_splits=n_splits, n_runs=n_runs, random_state=random_state, verbose=verbose\n",
    ")\n",
    "df_res"
   ]
  },
  {
   "cell_type": "code",
   "execution_count": null,
   "metadata": {},
   "outputs": [],
   "source": [
    "# df_res.to_csv(f\"./res_cache/explanation_removal.csv\", index=False)"
   ]
  },
  {
   "cell_type": "code",
   "execution_count": 82,
   "metadata": {},
   "outputs": [],
   "source": [
    "import os\n",
    "import pandas as pd\n",
    "import numpy as np\n",
    "import matplotlib.pyplot as plt\n",
    "import seaborn as sns\n",
    "import warnings\n",
    "warnings.filterwarnings('ignore')\n",
    "\n",
    "df_res = pd.read_csv(f\"./res_cache/explanation_removal.csv\")"
   ]
  },
  {
   "cell_type": "code",
   "execution_count": 230,
   "metadata": {},
   "outputs": [
    {
     "data": {
      "image/png": "[encoded data removed]",
      "text/plain": [
       "<Figure size 432x288 with 4 Axes>"
      ]
     },
     "metadata": {
      "needs_background": "light"
     },
     "output_type": "display_data"
    }
   ],
   "source": [
    "datasets_plot = [\n",
    "    'compas_sex', \n",
    "    # 'compas_race', \n",
    "    # 'adult_gender', \n",
    "    # 'adult_race', \n",
    "    # 'bank_age', \n",
    "    # 'bank_marital=married', \n",
    "    # 'lsa_gender', \n",
    "    # 'lsa_race',\n",
    "    # 'meps_SEX',\n",
    "    # 'meps_RACE',\n",
    "]\n",
    "setting_plot = [\n",
    "    # 'rand_prtneg',\n",
    "    'disag_prtneg',\n",
    "    'rand',\n",
    "    # 'disag',\n",
    "]\n",
    "\n",
    "# only keep dataset within the datasets_plot\n",
    "df_res_plot = df_res[df_res['dataset'].isin(datasets_plot)]\n",
    "df_res_plot = df_res_plot[df_res_plot['setting'].isin(setting_plot)]\n",
    "df_res_plot['pc'] = 1 - df_res_plot['si']\n",
    "\n",
    "fig, ((ax1, ax2), (ax3, ax4)) = plt.subplots(2, 2, figsize=(6, 4))\n",
    "\n",
    "ax = sns.lineplot(\n",
    "    data=df_res_plot, \n",
    "    x='edit_ratio', y='dp', hue='setting', style='setting', \n",
    "    markers=True, ax=ax1, lw=2,\n",
    ")\n",
    "ax.legend().set_visible(False)\n",
    "# set the x-axis as percent\n",
    "xlim = 0.31\n",
    "xticks = np.arange(0, xlim, 0.1)\n",
    "xlabels = ['{:,.0%}'.format(x) for x in xticks]\n",
    "ax.set_xticks(xticks)\n",
    "ax.set_xticklabels(xlabels)\n",
    "ax.grid(ls='--')\n",
    "ax.set(\n",
    "    xlabel='Sample Removed (%)',\n",
    "    # ylabel='Demographic Parity',\n",
    "    ylabel=r'Demographic Parity $\\mathbf{(DP)}$',\n",
    "    xlim=(0, xlim),\n",
    ")\n",
    "\n",
    "ax = sns.lineplot(\n",
    "    data=df_res_plot, \n",
    "    x='edit_ratio', y='eo', hue='setting', style='setting', \n",
    "    markers=True, ax=ax2, lw=2, legend=False\n",
    ")\n",
    "# set the x-axis as percent\n",
    "xlim = 0.31\n",
    "xticks = np.arange(0, xlim, 0.1)\n",
    "xlabels = ['{:,.0%}'.format(x) for x in xticks]\n",
    "ax.set_xticks(xticks)\n",
    "ax.set_xticklabels(xlabels)\n",
    "ax.grid(ls='--')\n",
    "ax.set(\n",
    "    xlabel='Sample Removed (%)',\n",
    "    # ylabel='Equalized Odds',\n",
    "    ylabel=r'Equalized Odds $\\mathbf{(EO)}$',\n",
    "    xlim=(0, xlim),\n",
    ")\n",
    "\n",
    "ax = sns.lineplot(\n",
    "    data=df_res_plot, \n",
    "    x='edit_ratio', y='si', hue='setting', style='setting', \n",
    "    markers=True, ax=ax3, lw=2, \n",
    "    legend=False\n",
    ")\n",
    "# set x-axis as percent\n",
    "xlim = 0.21\n",
    "xticks = np.arange(0, xlim, 0.05)\n",
    "xlabels = ['{:,.0%}'.format(x) for x in xticks]\n",
    "ax.set_xticks(xticks)\n",
    "ax.set_xticklabels(xlabels)\n",
    "ax.grid(ls='--')\n",
    "ax.set(\n",
    "    xlabel='Sample Removed (%)',\n",
    "    # ylabel='Predictive Inconsistency',\n",
    "    ylabel=r'Pred. Inconsistency $\\mathbf{(PI)}$',\n",
    "    xlim=(0, xlim),\n",
    ")\n",
    "\n",
    "ax = sns.lineplot(\n",
    "    data=df_res_plot, \n",
    "    x='edit_ratio', y='ge', hue='setting', style='setting', \n",
    "    markers=True, ax=ax4, lw=2, \n",
    "    legend=False\n",
    ")\n",
    "# set x-axis as percent\n",
    "xlim = 0.51\n",
    "xticks = np.arange(0, xlim, 0.1)\n",
    "xlabels = ['{:,.0%}'.format(x) for x in xticks]\n",
    "ax.set_xticks(xticks)\n",
    "ax.set_xticklabels(xlabels)\n",
    "ax.grid(ls='--')\n",
    "ax.set(\n",
    "    xlabel='Sample Removed (%)',\n",
    "    # ylabel='Generalized Entropy',\n",
    "    ylabel=r'Generalized Entropy $\\mathbf{(GE)}$',\n",
    "    xlim=(0, xlim),\n",
    ")\n",
    "\n",
    "# Get the legend handles\n",
    "handles, labels = ax1.get_legend_handles_labels()\n",
    "# Change the legend labels to \"A\" and \"B\"\n",
    "new_labels = ['AIM High-bias Removal', 'Random Removal']\n",
    "legend = fig.legend(\n",
    "    handles, new_labels, \n",
    "    # title='Method',\n",
    "    loc='upper center', bbox_to_anchor=(0.5, 1.08), \n",
    "    fancybox=True, shadow=True, ncol=10\n",
    ")\n",
    "\n",
    "plt.tight_layout()\n",
    "plt.savefig(f'./figs/att_removal.png', bbox_inches='tight', pad_inches=.02, dpi=300)\n",
    "plt.show()"
   ]
  },
  {
   "cell_type": "code",
   "execution_count": 100,
   "metadata": {},
   "outputs": [
    {
     "data": {
      "image/png": "[encoded data removed]",
      "text/plain": [
       "<Figure size 504x129.6 with 4 Axes>"
      ]
     },
     "metadata": {
      "needs_background": "light"
     },
     "output_type": "display_data"
    }
   ],
   "source": [
    "datasets_plot = [\n",
    "    'compas_sex', \n",
    "    # 'compas_race', \n",
    "    # 'adult_gender', \n",
    "    # 'adult_race', \n",
    "    # 'bank_age', \n",
    "    # 'bank_marital=married', \n",
    "    # 'lsa_gender', \n",
    "    # 'lsa_race',\n",
    "    # 'meps_SEX',\n",
    "    # 'meps_RACE',\n",
    "]\n",
    "\n",
    "dataset_plot = 'compas_sex'\n",
    "setting_plot = [\n",
    "    # 'rand_prtneg',\n",
    "    'disag_prtneg',\n",
    "    'rand',\n",
    "    # 'disag',\n",
    "]\n",
    "\n",
    "\n",
    "prtneg_ratio = {\n",
    "    'compas_sex': 0.12595744680851065,\n",
    "}\n",
    "\n",
    "# only keep dataset within the datasets_plot\n",
    "df_res = pd.read_csv(f\"./res_cache/explanation_removal.csv\")\n",
    "df_res_plot = df_res[df_res['dataset'].isin([dataset_plot])]\n",
    "df_res_plot = df_res_plot[df_res_plot['setting'].isin(setting_plot)]\n",
    "df_res_plot['pc'] = 1 - df_res_plot['si']\n",
    "df_res_plot['edit_ratio'] = df_res_plot['edit_ratio'] * prtneg_ratio[dataset_plot]\n",
    "\n",
    "fig, axs = plt.subplots(1, 4, figsize=(7, 1.8))\n",
    "\n",
    "ax = axs[0]\n",
    "\n",
    "ax = sns.lineplot(\n",
    "    data=df_res_plot, \n",
    "    x='edit_ratio', y='dp', hue='setting', style='setting', \n",
    "    markers=True, ax=ax, lw=2,\n",
    ")\n",
    "ax.legend().set_visible(False)\n",
    "# set the x-axis as percent\n",
    "xlim = 0.31 * prtneg_ratio[dataset_plot]\n",
    "xticks = np.arange(0, xlim, 0.01)\n",
    "xlabels = ['{:,.0%}'.format(x) for x in xticks]\n",
    "ax.set_xticks(xticks)\n",
    "ax.set_xticklabels(xlabels)\n",
    "ylims = ax.get_ylim()\n",
    "yticks = np.arange(max(ylims[0], 0), ylims[1], 0.1)\n",
    "ylabels = ['{:.1f}'.format(y) for y in yticks]\n",
    "ax.set_yticks(yticks)\n",
    "ax.set_yticklabels(ylabels)\n",
    "ax.grid(ls='--')\n",
    "ax.set(\n",
    "    xlabel='Removal (%)',\n",
    "    # ylabel='Demographic Parity',\n",
    "    # ylabel='Demographic\\nParity $\\mathbf{(DP)}$',\n",
    "    # ylabel=r'Demographic Parity $\\mathbf{(DP)}$',\n",
    "    ylabel=r'$\\mathbf{DP}$',\n",
    "    # ylabel=None, title='$\\mathbf{DP}$',\n",
    "    xlim=(0, xlim),\n",
    ")\n",
    "\n",
    "ax = axs[1]\n",
    "\n",
    "ax = sns.lineplot(\n",
    "    data=df_res_plot, \n",
    "    x='edit_ratio', y='eo', hue='setting', style='setting', \n",
    "    markers=True, ax=ax, lw=2, legend=False\n",
    ")\n",
    "# set the x-axis as percent\n",
    "xlim = 0.31 * prtneg_ratio[dataset_plot]\n",
    "xticks = np.arange(0, xlim, 0.01)\n",
    "xlabels = ['{:,.0%}'.format(x) for x in xticks]\n",
    "ax.set_xticks(xticks)\n",
    "ax.set_xticklabels(xlabels)\n",
    "ax.grid(ls='--')\n",
    "ax.set(\n",
    "    xlabel='Removal (%)',\n",
    "    # ylabel='Equalized Odds',\n",
    "    # ylabel='Equalized \\nOdds $\\mathbf{(EO)}$',\n",
    "    # ylabel=r'Equalized Odds $\\mathbf{(EO)}$',\n",
    "    ylabel=r'$\\mathbf{EO}$',\n",
    "    # ylabel=None, title='$\\mathbf{EO}$',\n",
    "    xlim=(0, xlim),\n",
    ")\n",
    "\n",
    "ax = axs[2]\n",
    "\n",
    "ax = sns.lineplot(\n",
    "    data=df_res_plot, \n",
    "    x='edit_ratio', y='si', hue='setting', style='setting', \n",
    "    markers=True, ax=ax, lw=2, \n",
    "    legend=False\n",
    ")\n",
    "# set x-axis as percent\n",
    "xlim = 0.21 * prtneg_ratio[dataset_plot]\n",
    "xticks = np.arange(0, xlim, 0.01)\n",
    "xlabels = ['{:,.0%}'.format(x) for x in xticks]\n",
    "ax.set_xticks(xticks)\n",
    "ax.set_xticklabels(xlabels)\n",
    "ax.grid(ls='--')\n",
    "ax.set(\n",
    "    xlabel='Removal (%)',\n",
    "    # ylabel='Predictive Inconsistency',\n",
    "    # ylabel='Predictive\\nInconsist. $\\mathbf{(PI)}$',\n",
    "    # ylabel=r'Pred. Inconsistency $\\mathbf{(PI)}$',\n",
    "    ylabel=r'$\\mathbf{PI}$',\n",
    "    # ylabel=None, title='$\\mathbf{PI}$',\n",
    "    xlim=(0, xlim),\n",
    ")\n",
    "\n",
    "ax = axs[3]\n",
    "\n",
    "ax = sns.lineplot(\n",
    "    data=df_res_plot, \n",
    "    x='edit_ratio', y='ge', hue='setting', style='setting', \n",
    "    markers=True, ax=ax, lw=2, \n",
    "    legend=False\n",
    ")\n",
    "# set x-axis as percent\n",
    "xlim = 0.51 * prtneg_ratio[dataset_plot]\n",
    "xticks = np.arange(0, xlim, 0.02)\n",
    "xlabels = ['{:,.0%}'.format(x) for x in xticks]\n",
    "ax.set_xticks(xticks)\n",
    "ax.set_xticklabels(xlabels)\n",
    "ylims = ax.get_ylim()\n",
    "yticks = np.arange(ylims[0], ylims[1], 0.02)\n",
    "ylabels = ['{:.2f}'.format(y) for y in yticks]\n",
    "ax.set_yticks(yticks)\n",
    "ax.set_yticklabels(ylabels)\n",
    "ax.grid(ls='--')\n",
    "ax.set(\n",
    "    xlabel='Removal (%)',\n",
    "    # ylabel='Generalized\\nEntropy $\\mathbf{(GE)}$',\n",
    "    # ylabel=r'Generalized Entropy $\\mathbf{(GE)}$',\n",
    "    ylabel='$\\mathbf{GE}$',\n",
    "    # ylabel=None, title='$\\mathbf{GE}$',\n",
    "    xlim=(0, xlim),\n",
    ")\n",
    "\n",
    "# Get the legend handles\n",
    "handles, labels = axs[0].get_legend_handles_labels()\n",
    "# Change the legend labels to \"A\" and \"B\"\n",
    "new_labels = ['AIM High-bias Removal', 'Random Removal']\n",
    "legend = fig.legend(\n",
    "    handles, new_labels, \n",
    "    # title='Method',\n",
    "    loc='upper center', bbox_to_anchor=(0.5, 1.15), \n",
    "    fancybox=True, shadow=True, ncol=10\n",
    ")\n",
    "\n",
    "for ax in axs:\n",
    "    ytick_labels = ax.get_yticklabels()\n",
    "    for label in ytick_labels:\n",
    "        label.set_x(0.05)\n",
    "    xtick_labels = ax.get_xticklabels()\n",
    "    for label in xtick_labels:\n",
    "        label.set_y(0.02)\n",
    "    ax.yaxis.set_label_coords(-0.25,0.5)\n",
    "\n",
    "plt.tight_layout()\n",
    "plt.subplots_adjust(wspace=0.45, hspace=0.2)\n",
    "plt.savefig(f'./figs/att_removal.png', bbox_inches='tight', pad_inches=.02, dpi=300)\n",
    "plt.show()"
   ]
  },
  {
   "cell_type": "markdown",
   "metadata": {},
   "source": [
    "# Predict dataset unfairness level "
   ]
  },
  {
   "cell_type": "code",
   "execution_count": 74,
   "metadata": {},
   "outputs": [
    {
     "name": "stdout",
     "output_type": "stream",
     "text": [
      "Dataset    : compas (5875, 12) load from ./data/compas.csv\n",
      "Sens/Res   : sex/label\n",
      "Split      : train/test = 0.8/0.2, random_state = 42, x_with_s = True\n",
      "train      | size {0: 929, 1: 3771} | grp_pos_ratio: {0: 0.3617, 1: 0.4916}\n",
      "test       | size {0: 232, 1: 943} | grp_pos_ratio: {0: 0.3621, 1: 0.491}\n",
      "\n",
      "Dataset    : compas (5875, 12) load from ./data/compas.csv\n",
      "Sens/Res   : race/label\n",
      "Split      : train/test = 0.8/0.2, random_state = 42, x_with_s = True\n",
      "train      | size {0: 1878, 1: 2822} | grp_pos_ratio: {0: 0.3946, 1: 0.5135}\n",
      "test       | size {0: 469, 1: 706} | grp_pos_ratio: {0: 0.3945, 1: 0.5127}\n",
      "\n",
      "Dataset    : adult (45222, 99) load from ./data/adult.csv\n",
      "Sens/Res   : gender/label\n",
      "Split      : train/test = 0.8/0.2, random_state = 42, x_with_s = True\n",
      "train      | size {0: 11756, 1: 24421} | grp_pos_ratio: {0: 0.1136, 1: 0.3125}\n",
      "test       | size {0: 2939, 1: 6106} | grp_pos_ratio: {0: 0.1136, 1: 0.3125}\n",
      "\n",
      "Dataset    : adult (45222, 99) load from ./data/adult.csv\n",
      "Sens/Res   : race/label\n",
      "Split      : train/test = 0.8/0.2, random_state = 42, x_with_s = True\n",
      "train      | size {0: 5055, 1: 31122} | grp_pos_ratio: {0: 0.1585, 1: 0.2624}\n",
      "test       | size {0: 1264, 1: 7781} | grp_pos_ratio: {0: 0.1582, 1: 0.2623}\n",
      "\n",
      "Dataset    : bank (30488, 58) load from ./data/bank.csv\n",
      "Sens/Res   : age/label\n",
      "Split      : train/test = 0.8/0.2, random_state = 42, x_with_s = True\n",
      "train      | size {0: 23699, 1: 691} | grp_pos_ratio: {0: 0.1235, 1: 0.2301}\n",
      "test       | size {0: 5925, 1: 173} | grp_pos_ratio: {0: 0.1235, 1: 0.2312}\n",
      "\n",
      "Dataset    : bank (30488, 58) load from ./data/bank.csv\n",
      "Sens/Res   : marital=married/label\n",
      "Split      : train/test = 0.8/0.2, random_state = 42, x_with_s = True\n",
      "train      | size {0: 13994, 1: 10396} | grp_pos_ratio: {0: 0.1176, 1: 0.1387}\n",
      "test       | size {0: 3498, 1: 2600} | grp_pos_ratio: {0: 0.1175, 1: 0.1388}\n",
      "\n",
      "Dataset    : lsa (55448, 10) load from ./data/lsa.csv\n",
      "Sens/Res   : gender/label\n",
      "Split      : train/test = 0.8/0.2, random_state = 42, x_with_s = True\n",
      "train      | size {0: 24675, 1: 19683} | grp_pos_ratio: {0: 0.2778, 1: 0.281}\n",
      "test       | size {0: 6169, 1: 4921} | grp_pos_ratio: {0: 0.2778, 1: 0.281}\n",
      "\n",
      "Dataset    : lsa (55448, 10) load from ./data/lsa.csv\n",
      "Sens/Res   : race/label\n",
      "Split      : train/test = 0.8/0.2, random_state = 42, x_with_s = True\n",
      "train      | size {0: 11567, 1: 32791} | grp_pos_ratio: {0: 0.2308, 1: 0.2963}\n",
      "test       | size {0: 2892, 1: 8198} | grp_pos_ratio: {0: 0.231, 1: 0.2963}\n",
      "\n",
      "Dataset    : meps (15839, 126) load from ./data/meps.csv\n",
      "Sens/Res   : SEX/label\n",
      "Split      : train/test = 0.8/0.2, random_state = 42, x_with_s = True\n",
      "train      | size {0: 6067, 1: 6604} | grp_pos_ratio: {0: 0.1327, 1: 0.2078}\n",
      "test       | size {0: 1517, 1: 1651} | grp_pos_ratio: {0: 0.1325, 1: 0.2078}\n",
      "\n",
      "Dataset    : meps (15839, 126) load from ./data/meps.csv\n",
      "Sens/Res   : RACE/label\n",
      "Split      : train/test = 0.8/0.2, random_state = 42, x_with_s = True\n",
      "train      | size {0: 8144, 1: 4527} | grp_pos_ratio: {0: 0.1251, 1: 0.2558}\n",
      "test       | size {0: 2036, 1: 1132} | grp_pos_ratio: {0: 0.1252, 1: 0.2553}\n",
      "\n"
     ]
    }
   ],
   "source": [
    "from data import FairDataset\n",
    "\n",
    "\"\"\"Load Datasets\"\"\"\n",
    "\n",
    "dataset_kwargs = {\n",
    "    'y_col': 'label',\n",
    "    'train_size': 0.6,\n",
    "    'val_size': 0.2,\n",
    "    'test_size': 0.2,\n",
    "    'concat_train_val': True,\n",
    "    'normalize': True,\n",
    "    'random_state': 42,\n",
    "}\n",
    "\n",
    "all_datasets = {\n",
    "    'compas': ['sex', 'race'],\n",
    "    'adult': ['gender', 'race'],\n",
    "    'bank': ['age', 'marital=married'],\n",
    "    'lsa': ['gender', 'race'],\n",
    "    'meps': ['SEX', 'RACE'],\n",
    "    # 'compas': ['race'],\n",
    "    # 'adult': ['race'],\n",
    "    # 'bank': ['marital=married'],\n",
    "    # 'lsa': ['race'],\n",
    "    # 'meps': ['RACE'],\n",
    "}\n",
    "\n",
    "\"\"\"\n",
    "Create a dictionary of datasets: dataset_zoo\n",
    "key: dataset name\n",
    "value: FairDataset object\n",
    "\"\"\"\n",
    "dataset_zoo = {}\n",
    "for dataname, s_attrs in all_datasets.items():\n",
    "    for s_attr in s_attrs:\n",
    "        dataset = FairDataset(\n",
    "            dataname=dataname,\n",
    "            csv_path=f'./data/{dataname}.csv',\n",
    "            s_col=s_attr,\n",
    "            **dataset_kwargs\n",
    "        )\n",
    "        dataset_zoo[dataset.fullname] = dataset\n",
    "\n",
    "        # dataset.describe()\n",
    "        dataset.brief()\n",
    "\n",
    "# Print the information of the datasets and models\n",
    "# print(\n",
    "#     f\"////// Dataset ZOO //////\\n\"\n",
    "#     f\"{dict_info(dataset_zoo)}\\n\"\n",
    "# )\n",
    "\n",
    "# dataset_zoo_subset = {\n",
    "#     'compas_sex': dataset_zoo['compas_sex'],\n",
    "#     'compas_race': dataset_zoo['compas_race'],\n",
    "# }"
   ]
  },
  {
   "cell_type": "code",
   "execution_count": 76,
   "metadata": {},
   "outputs": [
    {
     "name": "stdout",
     "output_type": "stream",
     "text": [
      "////// Baseline Experiment //////\n",
      "Base Model Zoo:       ['LR']\n",
      "Dataset Zoo:          ['compas_sex', 'compas_race', 'adult_gender', 'adult_race', 'bank_age', 'bank_marital=married', 'lsa_gender', 'lsa_race', 'meps_SEX', 'meps_RACE']\n",
      "edit_ratio_space:     [0.]\n",
      "n_splits:             5\n",
      "n_runs:               1\n",
      "random_state:         42\n",
      "\n",
      "Data: compas_sex | Run: 0 | Base: LR\n",
      "Data: compas_sex | Run: 0 | Base: LR | split 0\n",
      "Loaded score from compas_sex_split[1of5]_seed[42]_{'t_con': 0.1, 't_cat': 2, 'restart_prob': 0.1, 'mat_norm': 'sym', 'relax': True, 'max_relax': 3, 'relax_factor': 0.1, 'include_self': False}_score.csv\n"
     ]
    },
    {
     "name": "stderr",
     "output_type": "stream",
     "text": [
      "rand_prtneg - n_edit:   0%|          | 0/1 [00:00<?, ?it/s]"
     ]
    },
    {
     "name": "stderr",
     "output_type": "stream",
     "text": [
      "rand_prtneg - n_edit: 100%|██████████| 1/1 [00:00<00:00, 11.93it/s]\n"
     ]
    },
    {
     "name": "stdout",
     "output_type": "stream",
     "text": [
      "Data: compas_sex | Run: 0 | Base: LR | split 1\n",
      "Loaded score from compas_sex_split[2of5]_seed[42]_{'t_con': 0.1, 't_cat': 2, 'restart_prob': 0.1, 'mat_norm': 'sym', 'relax': True, 'max_relax': 3, 'relax_factor': 0.1, 'include_self': False}_score.csv\n"
     ]
    },
    {
     "name": "stderr",
     "output_type": "stream",
     "text": [
      "rand_prtneg - n_edit: 100%|██████████| 1/1 [00:00<00:00, 12.41it/s]"
     ]
    },
    {
     "name": "stdout",
     "output_type": "stream",
     "text": [
      "Data: compas_sex | Run: 0 | Base: LR | split 2\n"
     ]
    },
    {
     "name": "stderr",
     "output_type": "stream",
     "text": [
      "\n"
     ]
    },
    {
     "name": "stdout",
     "output_type": "stream",
     "text": [
      "Loaded score from compas_sex_split[3of5]_seed[42]_{'t_con': 0.1, 't_cat': 2, 'restart_prob': 0.1, 'mat_norm': 'sym', 'relax': True, 'max_relax': 3, 'relax_factor': 0.1, 'include_self': False}_score.csv\n"
     ]
    },
    {
     "name": "stderr",
     "output_type": "stream",
     "text": [
      "rand_prtneg - n_edit: 100%|██████████| 1/1 [00:00<00:00, 12.80it/s]\n"
     ]
    },
    {
     "name": "stdout",
     "output_type": "stream",
     "text": [
      "Data: compas_sex | Run: 0 | Base: LR | split 3\n",
      "Loaded score from compas_sex_split[4of5]_seed[42]_{'t_con': 0.1, 't_cat': 2, 'restart_prob': 0.1, 'mat_norm': 'sym', 'relax': True, 'max_relax': 3, 'relax_factor': 0.1, 'include_self': False}_score.csv\n"
     ]
    },
    {
     "name": "stderr",
     "output_type": "stream",
     "text": [
      "rand_prtneg - n_edit: 100%|██████████| 1/1 [00:00<00:00, 11.32it/s]"
     ]
    },
    {
     "name": "stdout",
     "output_type": "stream",
     "text": [
      "Data: compas_sex | Run: 0 | Base: LR | split 4\n"
     ]
    },
    {
     "name": "stderr",
     "output_type": "stream",
     "text": [
      "\n"
     ]
    },
    {
     "name": "stdout",
     "output_type": "stream",
     "text": [
      "Loaded score from compas_sex_split[5of5]_seed[42]_{'t_con': 0.1, 't_cat': 2, 'restart_prob': 0.1, 'mat_norm': 'sym', 'relax': True, 'max_relax': 3, 'relax_factor': 0.1, 'include_self': False}_score.csv\n"
     ]
    },
    {
     "name": "stderr",
     "output_type": "stream",
     "text": [
      "rand_prtneg - n_edit: 100%|██████████| 1/1 [00:00<00:00, 11.87it/s]"
     ]
    },
    {
     "name": "stdout",
     "output_type": "stream",
     "text": [
      "Data: compas_race | Run: 0 | Base: LR\n",
      "Data: compas_race | Run: 0 | Base: LR | split 0\n"
     ]
    },
    {
     "name": "stderr",
     "output_type": "stream",
     "text": [
      "\n"
     ]
    },
    {
     "name": "stdout",
     "output_type": "stream",
     "text": [
      "Loaded score from compas_race_split[1of5]_seed[42]_{'t_con': 0.1, 't_cat': 2, 'restart_prob': 0.1, 'mat_norm': 'sym', 'relax': True, 'max_relax': 3, 'relax_factor': 0.1, 'include_self': False}_score.csv\n"
     ]
    },
    {
     "name": "stderr",
     "output_type": "stream",
     "text": [
      "rand_prtneg - n_edit: 100%|██████████| 1/1 [00:00<00:00, 11.41it/s]"
     ]
    },
    {
     "name": "stdout",
     "output_type": "stream",
     "text": [
      "Data: compas_race | Run: 0 | Base: LR | split 1\n"
     ]
    },
    {
     "name": "stderr",
     "output_type": "stream",
     "text": [
      "\n"
     ]
    },
    {
     "name": "stdout",
     "output_type": "stream",
     "text": [
      "Loaded score from compas_race_split[2of5]_seed[42]_{'t_con': 0.1, 't_cat': 2, 'restart_prob': 0.1, 'mat_norm': 'sym', 'relax': True, 'max_relax': 3, 'relax_factor': 0.1, 'include_self': False}_score.csv\n"
     ]
    },
    {
     "name": "stderr",
     "output_type": "stream",
     "text": [
      "rand_prtneg - n_edit: 100%|██████████| 1/1 [00:00<00:00, 10.72it/s]\n"
     ]
    },
    {
     "name": "stdout",
     "output_type": "stream",
     "text": [
      "Data: compas_race | Run: 0 | Base: LR | split 2\n",
      "Loaded score from compas_race_split[3of5]_seed[42]_{'t_con': 0.1, 't_cat': 2, 'restart_prob': 0.1, 'mat_norm': 'sym', 'relax': True, 'max_relax': 3, 'relax_factor': 0.1, 'include_self': False}_score.csv\n"
     ]
    },
    {
     "name": "stderr",
     "output_type": "stream",
     "text": [
      "rand_prtneg - n_edit: 100%|██████████| 1/1 [00:00<00:00, 12.28it/s]"
     ]
    },
    {
     "name": "stdout",
     "output_type": "stream",
     "text": [
      "Data: compas_race | Run: 0 | Base: LR | split 3\n"
     ]
    },
    {
     "name": "stderr",
     "output_type": "stream",
     "text": [
      "\n"
     ]
    },
    {
     "name": "stdout",
     "output_type": "stream",
     "text": [
      "Loaded score from compas_race_split[4of5]_seed[42]_{'t_con': 0.1, 't_cat': 2, 'restart_prob': 0.1, 'mat_norm': 'sym', 'relax': True, 'max_relax': 3, 'relax_factor': 0.1, 'include_self': False}_score.csv\n"
     ]
    },
    {
     "name": "stderr",
     "output_type": "stream",
     "text": [
      "rand_prtneg - n_edit: 100%|██████████| 1/1 [00:00<00:00, 11.12it/s]\n"
     ]
    },
    {
     "name": "stdout",
     "output_type": "stream",
     "text": [
      "Data: compas_race | Run: 0 | Base: LR | split 4\n",
      "Loaded score from compas_race_split[5of5]_seed[42]_{'t_con': 0.1, 't_cat': 2, 'restart_prob': 0.1, 'mat_norm': 'sym', 'relax': True, 'max_relax': 3, 'relax_factor': 0.1, 'include_self': False}_score.csv\n"
     ]
    },
    {
     "name": "stderr",
     "output_type": "stream",
     "text": [
      "rand_prtneg - n_edit: 100%|██████████| 1/1 [00:00<00:00, 11.00it/s]\n"
     ]
    },
    {
     "name": "stdout",
     "output_type": "stream",
     "text": [
      "Data: adult_gender | Run: 0 | Base: LR\n",
      "Data: adult_gender | Run: 0 | Base: LR | split 0\n",
      "Loaded score from adult_gender_split[1of5]_seed[42]_{'t_con': 0.1, 't_cat': 2, 'restart_prob': 0.1, 'mat_norm': 'sym', 'relax': True, 'max_relax': 3, 'relax_factor': 0.1, 'include_self': False}_score.csv\n"
     ]
    },
    {
     "name": "stderr",
     "output_type": "stream",
     "text": [
      "rand_prtneg - n_edit: 100%|██████████| 1/1 [00:00<00:00,  3.10it/s]\n"
     ]
    },
    {
     "name": "stdout",
     "output_type": "stream",
     "text": [
      "Data: adult_gender | Run: 0 | Base: LR | split 1\n",
      "Loaded score from adult_gender_split[2of5]_seed[42]_{'t_con': 0.1, 't_cat': 2, 'restart_prob': 0.1, 'mat_norm': 'sym', 'relax': True, 'max_relax': 3, 'relax_factor': 0.1, 'include_self': False}_score.csv\n"
     ]
    },
    {
     "name": "stderr",
     "output_type": "stream",
     "text": [
      "rand_prtneg - n_edit: 100%|██████████| 1/1 [00:00<00:00,  3.48it/s]\n"
     ]
    },
    {
     "name": "stdout",
     "output_type": "stream",
     "text": [
      "Data: adult_gender | Run: 0 | Base: LR | split 2\n",
      "Loaded score from adult_gender_split[3of5]_seed[42]_{'t_con': 0.1, 't_cat': 2, 'restart_prob': 0.1, 'mat_norm': 'sym', 'relax': True, 'max_relax': 3, 'relax_factor': 0.1, 'include_self': False}_score.csv\n"
     ]
    },
    {
     "name": "stderr",
     "output_type": "stream",
     "text": [
      "rand_prtneg - n_edit: 100%|██████████| 1/1 [00:00<00:00,  3.00it/s]\n"
     ]
    },
    {
     "name": "stdout",
     "output_type": "stream",
     "text": [
      "Data: adult_gender | Run: 0 | Base: LR | split 3\n",
      "Loaded score from adult_gender_split[4of5]_seed[42]_{'t_con': 0.1, 't_cat': 2, 'restart_prob': 0.1, 'mat_norm': 'sym', 'relax': True, 'max_relax': 3, 'relax_factor': 0.1, 'include_self': False}_score.csv\n"
     ]
    },
    {
     "name": "stderr",
     "output_type": "stream",
     "text": [
      "rand_prtneg - n_edit: 100%|██████████| 1/1 [00:00<00:00,  3.45it/s]\n"
     ]
    },
    {
     "name": "stdout",
     "output_type": "stream",
     "text": [
      "Data: adult_gender | Run: 0 | Base: LR | split 4\n",
      "Loaded score from adult_gender_split[5of5]_seed[42]_{'t_con': 0.1, 't_cat': 2, 'restart_prob': 0.1, 'mat_norm': 'sym', 'relax': True, 'max_relax': 3, 'relax_factor': 0.1, 'include_self': False}_score.csv\n"
     ]
    },
    {
     "name": "stderr",
     "output_type": "stream",
     "text": [
      "rand_prtneg - n_edit: 100%|██████████| 1/1 [00:00<00:00,  1.70it/s]\n"
     ]
    },
    {
     "name": "stdout",
     "output_type": "stream",
     "text": [
      "Data: adult_race | Run: 0 | Base: LR\n",
      "Data: adult_race | Run: 0 | Base: LR | split 0\n",
      "Loaded score from adult_race_split[1of5]_seed[42]_{'t_con': 0.1, 't_cat': 2, 'restart_prob': 0.1, 'mat_norm': 'sym', 'relax': True, 'max_relax': 3, 'relax_factor': 0.1, 'include_self': False}_score.csv\n"
     ]
    },
    {
     "name": "stderr",
     "output_type": "stream",
     "text": [
      "rand_prtneg - n_edit: 100%|██████████| 1/1 [00:00<00:00,  3.11it/s]\n"
     ]
    },
    {
     "name": "stdout",
     "output_type": "stream",
     "text": [
      "Data: adult_race | Run: 0 | Base: LR | split 1\n",
      "Loaded score from adult_race_split[2of5]_seed[42]_{'t_con': 0.1, 't_cat': 2, 'restart_prob': 0.1, 'mat_norm': 'sym', 'relax': True, 'max_relax': 3, 'relax_factor': 0.1, 'include_self': False}_score.csv\n"
     ]
    },
    {
     "name": "stderr",
     "output_type": "stream",
     "text": [
      "rand_prtneg - n_edit: 100%|██████████| 1/1 [00:00<00:00,  3.51it/s]\n"
     ]
    },
    {
     "name": "stdout",
     "output_type": "stream",
     "text": [
      "Data: adult_race | Run: 0 | Base: LR | split 2\n",
      "Loaded score from adult_race_split[3of5]_seed[42]_{'t_con': 0.1, 't_cat': 2, 'restart_prob': 0.1, 'mat_norm': 'sym', 'relax': True, 'max_relax': 3, 'relax_factor': 0.1, 'include_self': False}_score.csv\n"
     ]
    },
    {
     "name": "stderr",
     "output_type": "stream",
     "text": [
      "rand_prtneg - n_edit: 100%|██████████| 1/1 [00:00<00:00,  3.57it/s]\n"
     ]
    },
    {
     "name": "stdout",
     "output_type": "stream",
     "text": [
      "Data: adult_race | Run: 0 | Base: LR | split 3\n",
      "Loaded score from adult_race_split[4of5]_seed[42]_{'t_con': 0.1, 't_cat': 2, 'restart_prob': 0.1, 'mat_norm': 'sym', 'relax': True, 'max_relax': 3, 'relax_factor': 0.1, 'include_self': False}_score.csv\n"
     ]
    },
    {
     "name": "stderr",
     "output_type": "stream",
     "text": [
      "rand_prtneg - n_edit: 100%|██████████| 1/1 [00:00<00:00,  2.50it/s]\n"
     ]
    },
    {
     "name": "stdout",
     "output_type": "stream",
     "text": [
      "Data: adult_race | Run: 0 | Base: LR | split 4\n",
      "Loaded score from adult_race_split[5of5]_seed[42]_{'t_con': 0.1, 't_cat': 2, 'restart_prob': 0.1, 'mat_norm': 'sym', 'relax': True, 'max_relax': 3, 'relax_factor': 0.1, 'include_self': False}_score.csv\n"
     ]
    },
    {
     "name": "stderr",
     "output_type": "stream",
     "text": [
      "rand_prtneg - n_edit: 100%|██████████| 1/1 [00:00<00:00,  1.71it/s]\n"
     ]
    },
    {
     "name": "stdout",
     "output_type": "stream",
     "text": [
      "Data: bank_age | Run: 0 | Base: LR\n",
      "Data: bank_age | Run: 0 | Base: LR | split 0\n",
      "Loaded score from bank_age_split[1of5]_seed[42]_{'t_con': 0.1, 't_cat': 2, 'restart_prob': 0.1, 'mat_norm': 'sym', 'relax': True, 'max_relax': 3, 'relax_factor': 0.1, 'include_self': False}_score.csv\n"
     ]
    },
    {
     "name": "stderr",
     "output_type": "stream",
     "text": [
      "rand_prtneg - n_edit: 100%|██████████| 1/1 [00:00<00:00,  2.93it/s]\n"
     ]
    },
    {
     "name": "stdout",
     "output_type": "stream",
     "text": [
      "Data: bank_age | Run: 0 | Base: LR | split 1\n",
      "Loaded score from bank_age_split[2of5]_seed[42]_{'t_con': 0.1, 't_cat': 2, 'restart_prob': 0.1, 'mat_norm': 'sym', 'relax': True, 'max_relax': 3, 'relax_factor': 0.1, 'include_self': False}_score.csv\n"
     ]
    },
    {
     "name": "stderr",
     "output_type": "stream",
     "text": [
      "rand_prtneg - n_edit: 100%|██████████| 1/1 [00:00<00:00,  3.76it/s]\n"
     ]
    },
    {
     "name": "stdout",
     "output_type": "stream",
     "text": [
      "Data: bank_age | Run: 0 | Base: LR | split 2\n",
      "Loaded score from bank_age_split[3of5]_seed[42]_{'t_con': 0.1, 't_cat': 2, 'restart_prob': 0.1, 'mat_norm': 'sym', 'relax': True, 'max_relax': 3, 'relax_factor': 0.1, 'include_self': False}_score.csv\n"
     ]
    },
    {
     "name": "stderr",
     "output_type": "stream",
     "text": [
      "rand_prtneg - n_edit: 100%|██████████| 1/1 [00:00<00:00,  3.64it/s]\n"
     ]
    },
    {
     "name": "stdout",
     "output_type": "stream",
     "text": [
      "Data: bank_age | Run: 0 | Base: LR | split 3\n",
      "Loaded score from bank_age_split[4of5]_seed[42]_{'t_con': 0.1, 't_cat': 2, 'restart_prob': 0.1, 'mat_norm': 'sym', 'relax': True, 'max_relax': 3, 'relax_factor': 0.1, 'include_self': False}_score.csv\n"
     ]
    },
    {
     "name": "stderr",
     "output_type": "stream",
     "text": [
      "rand_prtneg - n_edit: 100%|██████████| 1/1 [00:00<00:00,  4.75it/s]\n"
     ]
    },
    {
     "name": "stdout",
     "output_type": "stream",
     "text": [
      "Data: bank_age | Run: 0 | Base: LR | split 4\n",
      "Loaded score from bank_age_split[5of5]_seed[42]_{'t_con': 0.1, 't_cat': 2, 'restart_prob': 0.1, 'mat_norm': 'sym', 'relax': True, 'max_relax': 3, 'relax_factor': 0.1, 'include_self': False}_score.csv\n"
     ]
    },
    {
     "name": "stderr",
     "output_type": "stream",
     "text": [
      "rand_prtneg - n_edit: 100%|██████████| 1/1 [00:00<00:00,  4.66it/s]\n"
     ]
    },
    {
     "name": "stdout",
     "output_type": "stream",
     "text": [
      "Data: bank_marital=married | Run: 0 | Base: LR\n",
      "Data: bank_marital=married | Run: 0 | Base: LR | split 0\n",
      "Loaded score from bank_marital=married_split[1of5]_seed[42]_{'t_con': 0.1, 't_cat': 2, 'restart_prob': 0.1, 'mat_norm': 'sym', 'relax': True, 'max_relax': 3, 'relax_factor': 0.1, 'include_self': False}_score.csv\n"
     ]
    },
    {
     "name": "stderr",
     "output_type": "stream",
     "text": [
      "rand_prtneg - n_edit: 100%|██████████| 1/1 [00:00<00:00,  3.26it/s]\n"
     ]
    },
    {
     "name": "stdout",
     "output_type": "stream",
     "text": [
      "Data: bank_marital=married | Run: 0 | Base: LR | split 1\n",
      "Loaded score from bank_marital=married_split[2of5]_seed[42]_{'t_con': 0.1, 't_cat': 2, 'restart_prob': 0.1, 'mat_norm': 'sym', 'relax': True, 'max_relax': 3, 'relax_factor': 0.1, 'include_self': False}_score.csv\n"
     ]
    },
    {
     "name": "stderr",
     "output_type": "stream",
     "text": [
      "rand_prtneg - n_edit: 100%|██████████| 1/1 [00:00<00:00,  3.27it/s]\n"
     ]
    },
    {
     "name": "stdout",
     "output_type": "stream",
     "text": [
      "Data: bank_marital=married | Run: 0 | Base: LR | split 2\n",
      "Loaded score from bank_marital=married_split[3of5]_seed[42]_{'t_con': 0.1, 't_cat': 2, 'restart_prob': 0.1, 'mat_norm': 'sym', 'relax': True, 'max_relax': 3, 'relax_factor': 0.1, 'include_self': False}_score.csv\n"
     ]
    },
    {
     "name": "stderr",
     "output_type": "stream",
     "text": [
      "rand_prtneg - n_edit: 100%|██████████| 1/1 [00:00<00:00,  3.24it/s]\n"
     ]
    },
    {
     "name": "stdout",
     "output_type": "stream",
     "text": [
      "Data: bank_marital=married | Run: 0 | Base: LR | split 3\n",
      "Loaded score from bank_marital=married_split[4of5]_seed[42]_{'t_con': 0.1, 't_cat': 2, 'restart_prob': 0.1, 'mat_norm': 'sym', 'relax': True, 'max_relax': 3, 'relax_factor': 0.1, 'include_self': False}_score.csv\n"
     ]
    },
    {
     "name": "stderr",
     "output_type": "stream",
     "text": [
      "rand_prtneg - n_edit: 100%|██████████| 1/1 [00:00<00:00,  3.37it/s]\n"
     ]
    },
    {
     "name": "stdout",
     "output_type": "stream",
     "text": [
      "Data: bank_marital=married | Run: 0 | Base: LR | split 4\n",
      "Loaded score from bank_marital=married_split[5of5]_seed[42]_{'t_con': 0.1, 't_cat': 2, 'restart_prob': 0.1, 'mat_norm': 'sym', 'relax': True, 'max_relax': 3, 'relax_factor': 0.1, 'include_self': False}_score.csv\n"
     ]
    },
    {
     "name": "stderr",
     "output_type": "stream",
     "text": [
      "rand_prtneg - n_edit: 100%|██████████| 1/1 [00:00<00:00,  3.42it/s]\n"
     ]
    },
    {
     "name": "stdout",
     "output_type": "stream",
     "text": [
      "Data: lsa_gender | Run: 0 | Base: LR\n",
      "Data: lsa_gender | Run: 0 | Base: LR | split 0\n",
      "Loaded score from lsa_gender_split[1of5]_seed[42]_{'t_con': 0.1, 't_cat': 2, 'restart_prob': 0.1, 'mat_norm': 'sym', 'relax': True, 'max_relax': 3, 'relax_factor': 0.1, 'include_self': False}_score.csv\n"
     ]
    },
    {
     "name": "stderr",
     "output_type": "stream",
     "text": [
      "rand_prtneg - n_edit: 100%|██████████| 1/1 [00:00<00:00,  3.18it/s]\n"
     ]
    },
    {
     "name": "stdout",
     "output_type": "stream",
     "text": [
      "Data: lsa_gender | Run: 0 | Base: LR | split 1\n",
      "Loaded score from lsa_gender_split[2of5]_seed[42]_{'t_con': 0.1, 't_cat': 2, 'restart_prob': 0.1, 'mat_norm': 'sym', 'relax': True, 'max_relax': 3, 'relax_factor': 0.1, 'include_self': False}_score.csv\n"
     ]
    },
    {
     "name": "stderr",
     "output_type": "stream",
     "text": [
      "rand_prtneg - n_edit: 100%|██████████| 1/1 [00:00<00:00,  3.45it/s]\n"
     ]
    },
    {
     "name": "stdout",
     "output_type": "stream",
     "text": [
      "Data: lsa_gender | Run: 0 | Base: LR | split 2\n",
      "Loaded score from lsa_gender_split[3of5]_seed[42]_{'t_con': 0.1, 't_cat': 2, 'restart_prob': 0.1, 'mat_norm': 'sym', 'relax': True, 'max_relax': 3, 'relax_factor': 0.1, 'include_self': False}_score.csv\n"
     ]
    },
    {
     "name": "stderr",
     "output_type": "stream",
     "text": [
      "rand_prtneg - n_edit: 100%|██████████| 1/1 [00:00<00:00,  3.39it/s]\n"
     ]
    },
    {
     "name": "stdout",
     "output_type": "stream",
     "text": [
      "Data: lsa_gender | Run: 0 | Base: LR | split 3\n",
      "Loaded score from lsa_gender_split[4of5]_seed[42]_{'t_con': 0.1, 't_cat': 2, 'restart_prob': 0.1, 'mat_norm': 'sym', 'relax': True, 'max_relax': 3, 'relax_factor': 0.1, 'include_self': False}_score.csv\n"
     ]
    },
    {
     "name": "stderr",
     "output_type": "stream",
     "text": [
      "rand_prtneg - n_edit: 100%|██████████| 1/1 [00:00<00:00,  3.30it/s]\n"
     ]
    },
    {
     "name": "stdout",
     "output_type": "stream",
     "text": [
      "Data: lsa_gender | Run: 0 | Base: LR | split 4\n",
      "Loaded score from lsa_gender_split[5of5]_seed[42]_{'t_con': 0.1, 't_cat': 2, 'restart_prob': 0.1, 'mat_norm': 'sym', 'relax': True, 'max_relax': 3, 'relax_factor': 0.1, 'include_self': False}_score.csv\n"
     ]
    },
    {
     "name": "stderr",
     "output_type": "stream",
     "text": [
      "rand_prtneg - n_edit: 100%|██████████| 1/1 [00:00<00:00,  3.46it/s]\n"
     ]
    },
    {
     "name": "stdout",
     "output_type": "stream",
     "text": [
      "Data: lsa_race | Run: 0 | Base: LR\n",
      "Data: lsa_race | Run: 0 | Base: LR | split 0\n",
      "Loaded score from lsa_race_split[1of5]_seed[42]_{'t_con': 0.1, 't_cat': 2, 'restart_prob': 0.1, 'mat_norm': 'sym', 'relax': True, 'max_relax': 3, 'relax_factor': 0.1, 'include_self': False}_score.csv\n"
     ]
    },
    {
     "name": "stderr",
     "output_type": "stream",
     "text": [
      "rand_prtneg - n_edit: 100%|██████████| 1/1 [00:00<00:00,  3.49it/s]\n"
     ]
    },
    {
     "name": "stdout",
     "output_type": "stream",
     "text": [
      "Data: lsa_race | Run: 0 | Base: LR | split 1\n",
      "Loaded score from lsa_race_split[2of5]_seed[42]_{'t_con': 0.1, 't_cat': 2, 'restart_prob': 0.1, 'mat_norm': 'sym', 'relax': True, 'max_relax': 3, 'relax_factor': 0.1, 'include_self': False}_score.csv\n"
     ]
    },
    {
     "name": "stderr",
     "output_type": "stream",
     "text": [
      "rand_prtneg - n_edit: 100%|██████████| 1/1 [00:00<00:00,  3.54it/s]\n"
     ]
    },
    {
     "name": "stdout",
     "output_type": "stream",
     "text": [
      "Data: lsa_race | Run: 0 | Base: LR | split 2\n",
      "Loaded score from lsa_race_split[3of5]_seed[42]_{'t_con': 0.1, 't_cat': 2, 'restart_prob': 0.1, 'mat_norm': 'sym', 'relax': True, 'max_relax': 3, 'relax_factor': 0.1, 'include_self': False}_score.csv\n"
     ]
    },
    {
     "name": "stderr",
     "output_type": "stream",
     "text": [
      "rand_prtneg - n_edit: 100%|██████████| 1/1 [00:00<00:00,  2.74it/s]\n"
     ]
    },
    {
     "name": "stdout",
     "output_type": "stream",
     "text": [
      "Data: lsa_race | Run: 0 | Base: LR | split 3\n",
      "Loaded score from lsa_race_split[4of5]_seed[42]_{'t_con': 0.1, 't_cat': 2, 'restart_prob': 0.1, 'mat_norm': 'sym', 'relax': True, 'max_relax': 3, 'relax_factor': 0.1, 'include_self': False}_score.csv\n"
     ]
    },
    {
     "name": "stderr",
     "output_type": "stream",
     "text": [
      "rand_prtneg - n_edit: 100%|██████████| 1/1 [00:00<00:00,  3.26it/s]\n"
     ]
    },
    {
     "name": "stdout",
     "output_type": "stream",
     "text": [
      "Data: lsa_race | Run: 0 | Base: LR | split 4\n",
      "Loaded score from lsa_race_split[5of5]_seed[42]_{'t_con': 0.1, 't_cat': 2, 'restart_prob': 0.1, 'mat_norm': 'sym', 'relax': True, 'max_relax': 3, 'relax_factor': 0.1, 'include_self': False}_score.csv\n"
     ]
    },
    {
     "name": "stderr",
     "output_type": "stream",
     "text": [
      "rand_prtneg - n_edit: 100%|██████████| 1/1 [00:00<00:00,  3.60it/s]\n"
     ]
    },
    {
     "name": "stdout",
     "output_type": "stream",
     "text": [
      "Data: meps_SEX | Run: 0 | Base: LR\n",
      "Data: meps_SEX | Run: 0 | Base: LR | split 0\n",
      "Loaded score from meps_SEX_split[1of5]_seed[42]_{'t_con': 0.1, 't_cat': 2, 'restart_prob': 0.1, 'mat_norm': 'sym', 'relax': True, 'max_relax': 3, 'relax_factor': 0.1, 'include_self': False}_score.csv\n"
     ]
    },
    {
     "name": "stderr",
     "output_type": "stream",
     "text": [
      "rand_prtneg - n_edit: 100%|██████████| 1/1 [00:00<00:00,  4.97it/s]\n"
     ]
    },
    {
     "name": "stdout",
     "output_type": "stream",
     "text": [
      "Data: meps_SEX | Run: 0 | Base: LR | split 1\n",
      "Loaded score from meps_SEX_split[2of5]_seed[42]_{'t_con': 0.1, 't_cat': 2, 'restart_prob': 0.1, 'mat_norm': 'sym', 'relax': True, 'max_relax': 3, 'relax_factor': 0.1, 'include_self': False}_score.csv\n"
     ]
    },
    {
     "name": "stderr",
     "output_type": "stream",
     "text": [
      "rand_prtneg - n_edit: 100%|██████████| 1/1 [00:00<00:00,  5.32it/s]"
     ]
    },
    {
     "name": "stdout",
     "output_type": "stream",
     "text": [
      "Data: meps_SEX | Run: 0 | Base: LR | split 2\n"
     ]
    },
    {
     "name": "stderr",
     "output_type": "stream",
     "text": [
      "\n"
     ]
    },
    {
     "name": "stdout",
     "output_type": "stream",
     "text": [
      "Loaded score from meps_SEX_split[3of5]_seed[42]_{'t_con': 0.1, 't_cat': 2, 'restart_prob': 0.1, 'mat_norm': 'sym', 'relax': True, 'max_relax': 3, 'relax_factor': 0.1, 'include_self': False}_score.csv\n"
     ]
    },
    {
     "name": "stderr",
     "output_type": "stream",
     "text": [
      "rand_prtneg - n_edit: 100%|██████████| 1/1 [00:00<00:00,  3.17it/s]\n"
     ]
    },
    {
     "name": "stdout",
     "output_type": "stream",
     "text": [
      "Data: meps_SEX | Run: 0 | Base: LR | split 3\n",
      "Loaded score from meps_SEX_split[4of5]_seed[42]_{'t_con': 0.1, 't_cat': 2, 'restart_prob': 0.1, 'mat_norm': 'sym', 'relax': True, 'max_relax': 3, 'relax_factor': 0.1, 'include_self': False}_score.csv\n"
     ]
    },
    {
     "name": "stderr",
     "output_type": "stream",
     "text": [
      "rand_prtneg - n_edit: 100%|██████████| 1/1 [00:00<00:00,  4.34it/s]\n"
     ]
    },
    {
     "name": "stdout",
     "output_type": "stream",
     "text": [
      "Data: meps_SEX | Run: 0 | Base: LR | split 4\n",
      "Loaded score from meps_SEX_split[5of5]_seed[42]_{'t_con': 0.1, 't_cat': 2, 'restart_prob': 0.1, 'mat_norm': 'sym', 'relax': True, 'max_relax': 3, 'relax_factor': 0.1, 'include_self': False}_score.csv\n"
     ]
    },
    {
     "name": "stderr",
     "output_type": "stream",
     "text": [
      "rand_prtneg - n_edit: 100%|██████████| 1/1 [00:00<00:00,  4.95it/s]\n"
     ]
    },
    {
     "name": "stdout",
     "output_type": "stream",
     "text": [
      "Data: meps_RACE | Run: 0 | Base: LR\n",
      "Data: meps_RACE | Run: 0 | Base: LR | split 0\n",
      "Loaded score from meps_RACE_split[1of5]_seed[42]_{'t_con': 0.1, 't_cat': 2, 'restart_prob': 0.1, 'mat_norm': 'sym', 'relax': True, 'max_relax': 3, 'relax_factor': 0.1, 'include_self': False}_score.csv\n"
     ]
    },
    {
     "name": "stderr",
     "output_type": "stream",
     "text": [
      "rand_prtneg - n_edit: 100%|██████████| 1/1 [00:00<00:00,  5.30it/s]"
     ]
    },
    {
     "name": "stdout",
     "output_type": "stream",
     "text": [
      "Data: meps_RACE | Run: 0 | Base: LR | split 1\n"
     ]
    },
    {
     "name": "stderr",
     "output_type": "stream",
     "text": [
      "\n"
     ]
    },
    {
     "name": "stdout",
     "output_type": "stream",
     "text": [
      "Loaded score from meps_RACE_split[2of5]_seed[42]_{'t_con': 0.1, 't_cat': 2, 'restart_prob': 0.1, 'mat_norm': 'sym', 'relax': True, 'max_relax': 3, 'relax_factor': 0.1, 'include_self': False}_score.csv\n"
     ]
    },
    {
     "name": "stderr",
     "output_type": "stream",
     "text": [
      "rand_prtneg - n_edit: 100%|██████████| 1/1 [00:00<00:00,  4.55it/s]\n"
     ]
    },
    {
     "name": "stdout",
     "output_type": "stream",
     "text": [
      "Data: meps_RACE | Run: 0 | Base: LR | split 2\n",
      "Loaded score from meps_RACE_split[3of5]_seed[42]_{'t_con': 0.1, 't_cat': 2, 'restart_prob': 0.1, 'mat_norm': 'sym', 'relax': True, 'max_relax': 3, 'relax_factor': 0.1, 'include_self': False}_score.csv\n"
     ]
    },
    {
     "name": "stderr",
     "output_type": "stream",
     "text": [
      "rand_prtneg - n_edit: 100%|██████████| 1/1 [00:00<00:00,  5.21it/s]"
     ]
    },
    {
     "name": "stdout",
     "output_type": "stream",
     "text": [
      "Data: meps_RACE | Run: 0 | Base: LR | split 3\n"
     ]
    },
    {
     "name": "stderr",
     "output_type": "stream",
     "text": [
      "\n"
     ]
    },
    {
     "name": "stdout",
     "output_type": "stream",
     "text": [
      "Loaded score from meps_RACE_split[4of5]_seed[42]_{'t_con': 0.1, 't_cat': 2, 'restart_prob': 0.1, 'mat_norm': 'sym', 'relax': True, 'max_relax': 3, 'relax_factor': 0.1, 'include_self': False}_score.csv\n"
     ]
    },
    {
     "name": "stderr",
     "output_type": "stream",
     "text": [
      "rand_prtneg - n_edit: 100%|██████████| 1/1 [00:00<00:00,  4.71it/s]\n"
     ]
    },
    {
     "name": "stdout",
     "output_type": "stream",
     "text": [
      "Data: meps_RACE | Run: 0 | Base: LR | split 4\n",
      "Loaded score from meps_RACE_split[5of5]_seed[42]_{'t_con': 0.1, 't_cat': 2, 'restart_prob': 0.1, 'mat_norm': 'sym', 'relax': True, 'max_relax': 3, 'relax_factor': 0.1, 'include_self': False}_score.csv\n"
     ]
    },
    {
     "name": "stderr",
     "output_type": "stream",
     "text": [
      "rand_prtneg - n_edit: 100%|██████████| 1/1 [00:00<00:00,  3.79it/s]\n"
     ]
    }
   ],
   "source": [
    "import tqdm\n",
    "from sklearn.base import clone\n",
    "from eval import evaluate\n",
    "\n",
    "def run_AIM_remove_relabel_exp(\n",
    "        AIM, dataset_zoo, base_model_zoo, edit_ratio_space, setting_space, prox_kwargs, how,\n",
    "        n_splits=5, n_runs=1, random_state=42, verbose=False\n",
    "):\n",
    "    print(\n",
    "        f\"////// Baseline Experiment //////\\n\"\n",
    "        f\"Base Model Zoo:       {list(base_model_zoo.keys())}\\n\"\n",
    "        f\"Dataset Zoo:          {list(dataset_zoo.keys())}\\n\"\n",
    "        f\"edit_ratio_space:     {edit_ratio_space}\\n\"\n",
    "        # f\"setting_space:        {setting_space}\\n\"\n",
    "        f\"n_splits:             {n_splits}\\n\"\n",
    "        f\"n_runs:               {n_runs}\\n\"\n",
    "        f\"random_state:         {random_state}\\n\"\n",
    "    )\n",
    "    \n",
    "    all_res = []\n",
    "\n",
    "    for data_name, data in dataset_zoo.items():\n",
    "\n",
    "        for base_model_name, base_model in base_model_zoo.items():\n",
    "\n",
    "            for i_run in range(n_runs):\n",
    "\n",
    "                print (f\"Data: {data_name} | Run: {i_run} | Base: {base_model_name}\")\n",
    "                rand_seed = random_state + i_run\n",
    "\n",
    "                base_model = base_model.set_params(random_state=rand_seed)\n",
    "                \n",
    "                for i_split in range(n_splits):\n",
    "                    \n",
    "                    print (f\"Data: {data_name} | Run: {i_run} | Base: {base_model_name} | split {i_split}\")\n",
    "                    \n",
    "                    # get the i-th split of a n-fold cross validation\n",
    "                    (\n",
    "                        (X_train, y_train, s_train),\n",
    "                        (X_val, y_val, s_val),\n",
    "                        (X_test, y_test, s_test),\n",
    "                        (idx_train, idx_val, idx_test)\n",
    "                    ) = data.get_subgroup_split(\n",
    "                        i_split=i_split, \n",
    "                        random_state=rand_seed,\n",
    "                        n_splits=n_splits\n",
    "                    )\n",
    "                    \n",
    "                    data_split_info = f\"{data.fullname}_split[{i_split+1}of{n_splits}]_seed[{rand_seed}]\"\n",
    "                    AIM = UnLoc()\n",
    "                    df_score = AIM.fit_transform(\n",
    "                        X_train, y_train, s_train, data_split_info, \n",
    "                        features=data.feature_names, \n",
    "                        s_col=data.s_col,\n",
    "                        prox_kwargs=prox_kwargs,\n",
    "                    )\n",
    "\n",
    "                    for setting_name, setting_kwargs in setting_space.items():\n",
    "                            \n",
    "                        weights = df_score[setting_kwargs['weights']]\n",
    "                        dummy = setting_kwargs['dummy']\n",
    "                        f = setting_kwargs['filter']\n",
    "\n",
    "                        for edit_ratio in tqdm.tqdm(edit_ratio_space, disable=verbose, desc=f\"{setting_name} - n_edit\"):\n",
    "\n",
    "                            X_edited, y_edited, s_edited, n_edit = AIM.fair_removal(\n",
    "                                X_train, y_train, s_train,\n",
    "                                how=how,\n",
    "                                edit_ratio=edit_ratio,\n",
    "                                weights=weights,\n",
    "                                dummy=dummy,\n",
    "                                filter=f, \n",
    "                                verbose=False\n",
    "                            )\n",
    "                            \n",
    "                            clf = clone(base_model)\n",
    "                            clf.set_params(random_state=rand_seed)\n",
    "                            clf.fit(X_edited, y_edited)\n",
    "                            \n",
    "                            res = evaluate(clf, X_test, y_test, s_test)\n",
    "                            \n",
    "                            all_res.append({\n",
    "                                **res,\n",
    "                                # 'pred_unf': df_score['unf'].values.sum(),\n",
    "                                'pred_unf': df_score['unf'].values.mean(),\n",
    "                                'pred_unf_ratio': (df_score['unf'] > 0.5).mean(),\n",
    "                                'how': how,\n",
    "                                'setting': setting_name,\n",
    "                                'n_edit': n_edit,\n",
    "                                'dataset': data_name,\n",
    "                                'base_model': base_model_name,\n",
    "                                'i_run': i_run,\n",
    "                                'i_split': i_split,\n",
    "                            })\n",
    "                            if verbose:\n",
    "                                res_vis = res.copy()\n",
    "                                for k, v in res_vis.items():\n",
    "                                    if isinstance(v, float):\n",
    "                                        res_vis[k] = np.round(v*100, 2)\n",
    "                                print (f\"split: {i_split} | n_edit {n_edit} | {res_vis}\")\n",
    "        \n",
    "    df_res = pd.DataFrame(all_res)\n",
    "    \n",
    "    return df_res        \n",
    "\n",
    "from unloc import UnLoc\n",
    "from sklearn.linear_model import LogisticRegression\n",
    "\n",
    "base_model_zoo = {\n",
    "    'LR': LogisticRegression(),\n",
    "    # 'KN': KNeighborsClassifier(n_neighbors=5),\n",
    "    # 'DT': DecisionTreeClassifier(max_depth=10),\n",
    "    # 'MLP': MLPClassifier(hidden_layer_sizes=(8), max_iter=50),\n",
    "    # 'ADA': AdaBoostClassifier(estimator=DecisionTreeClassifier(max_depth=None), n_estimators=5),\n",
    "    # 'BAG': BaggingClassifier(estimator=DecisionTreeClassifier(max_depth=None), n_estimators=5),\n",
    "}\n",
    "# n_space = np.linspace(0, 5000, 21).astype(int)\n",
    "edit_ratio_space = np.linspace(0, 0.0, 1)\n",
    "setting_space = setting_space = {\n",
    "    # 'rand_prtneg': {'dummy': True, 'filter': 'prt-neg', 'weights': 'unf'},\n",
    "    # 'disag_prtneg': {'dummy': False, 'filter': 'prt-neg', 'weights': 'unf'},\n",
    "    # 'disag_contr_prtneg': {'dummy': False, 'filter': 'prt-neg', 'weights': 'unf_contr'},\n",
    "    'rand_prtneg': {'dummy': True, 'filter': None, 'weights': 'unf'},\n",
    "    # 'disag_prtneg': {'dummy': False, 'filter': None, 'weights': 'unf'},\n",
    "}\n",
    "prox_kwargs = {\n",
    "    't_con': 0.1, 't_cat': 2, 'restart_prob': 0.1, 'mat_norm': 'sym', \n",
    "    'relax': True, 'max_relax': 3, 'relax_factor': 0.1, \n",
    "    'include_self': False\n",
    "}\n",
    "n_splits = 5\n",
    "n_runs = 1\n",
    "random_state = 42\n",
    "verbose = False\n",
    "how = 'removal'\n",
    "\n",
    "aim = UnLoc()\n",
    "\n",
    "df_res = run_AIM_remove_relabel_exp(\n",
    "    aim, dataset_zoo, base_model_zoo, edit_ratio_space, setting_space, \n",
    "    prox_kwargs=prox_kwargs, how=how, \n",
    "    n_splits=n_splits, n_runs=n_runs, random_state=random_state, verbose=verbose\n",
    ")\n",
    "df_res.to_csv(f\"./res_cache/att_dataset.csv\", index=False)\n",
    "# df_res"
   ]
  },
  {
   "cell_type": "code",
   "execution_count": 94,
   "metadata": {},
   "outputs": [
    {
     "data": {
      "image/png": "[encoded data removed]",
      "text/plain": [
       "<Figure size 504x129.6 with 4 Axes>"
      ]
     },
     "metadata": {
      "needs_background": "light"
     },
     "output_type": "display_data"
    }
   ],
   "source": [
    "# print (df_res['dataset'].unique())\n",
    "\n",
    "datasets_plot = [\n",
    "    'compas_sex', \n",
    "    'compas_race', \n",
    "    'adult_gender', \n",
    "    'adult_race', \n",
    "    # 'bank_age', \n",
    "    # 'bank_marital=married', \n",
    "    # 'lsa_gender',\n",
    "    'lsa_race',\n",
    "    'meps_SEX',\n",
    "    'meps_RACE',\n",
    "]\n",
    "\n",
    "df_res = pd.read_csv(f\"./res_cache/att_dataset.csv\")\n",
    "\n",
    "# only keep dataset within the datasets_plot\n",
    "df_res_plot = df_res[df_res['dataset'].isin(datasets_plot)]\n",
    "# df_res_plot\n",
    "\n",
    "# sns.scatterplot(data=df_res_plot, x='pred_unf', y='dp', hue='dataset', style='dataset')\n",
    "# plt.show()\n",
    "# sns.scatterplot(data=df_res_plot, x='pred_unf', y='eo', hue='dataset', style='dataset')\n",
    "# plt.show()\n",
    "# sns.scatterplot(data=df_res_plot, x='pred_unf', y='si', hue='dataset', style='dataset')\n",
    "# plt.show()\n",
    "# sns.scatterplot(data=df_res_plot, x='pred_unf', y='ge', hue='dataset', style='dataset')\n",
    "# plt.show()\n",
    "\n",
    "fig, axs = plt.subplots(1, 4, figsize=(7, 1.8))\n",
    "\n",
    "scatterplt_kwargs = {\n",
    "    's': 80, 'alpha': 0.9, 'linewidth': 0.3, 'hue': 'dataset', 'style': 'dataset',\n",
    "}\n",
    "\n",
    "ax = axs[0]\n",
    "sns.regplot(data=df_res_plot, x='pred_unf', y='dp', scatter=False, ax=ax)\n",
    "sns.scatterplot(data=df_res_plot, x='pred_unf', y='dp', ax=ax, **scatterplt_kwargs)\n",
    "ax.set(\n",
    "    xlabel='Train Avg. Bias',\n",
    "    # ylabel=r'Demographic Parity $\\mathbf{(DP)}$',\n",
    "    ylabel='Test $\\mathbf{DP}$',\n",
    ")\n",
    "ax.grid(True, linestyle='--')\n",
    "ax.legend().set_visible(False)\n",
    "\n",
    "ax = axs[1]\n",
    "sns.regplot(data=df_res_plot, x='pred_unf', y='eo', scatter=False, ax=ax)\n",
    "sns.scatterplot(data=df_res_plot, x='pred_unf', y='eo', ax=ax, **scatterplt_kwargs, legend=False)\n",
    "ax.set(\n",
    "    xlabel='Train Avg. Bias',\n",
    "    # ylabel=r'Equalized Odds $\\mathbf{(EO)}$',\n",
    "    ylabel='Test $\\mathbf{EO}$',\n",
    ")\n",
    "ax.grid(True, linestyle='--')\n",
    "\n",
    "ax = axs[2]\n",
    "sns.regplot(data=df_res_plot, x='pred_unf', y='si', scatter=False, ax=ax)\n",
    "sns.scatterplot(data=df_res_plot, x='pred_unf', y='si', ax=ax, **scatterplt_kwargs, legend=False)\n",
    "ax.set(\n",
    "    xlabel='Train Avg. Bias',\n",
    "    # ylabel=r'Pred. Inconsistency $\\mathbf{(PI)}$',\n",
    "    ylabel='Test $\\mathbf{PI}$',\n",
    ")\n",
    "ax.grid(True, linestyle='--')\n",
    "\n",
    "\n",
    "ax = axs[3]\n",
    "sns.regplot(data=df_res_plot, x='pred_unf', y='ge', scatter=False, ax=ax)\n",
    "sns.scatterplot(data=df_res_plot, x='pred_unf', y='ge', ax=ax, **scatterplt_kwargs, legend=False)\n",
    "ax.set(\n",
    "    xlabel='Train Avg. Bias',\n",
    "    # ylabel=r'Generalized Entropy $\\mathbf{(GE)}$',\n",
    "    ylabel='Test $\\mathbf{GE}$',\n",
    ")\n",
    "ax.yaxis.set_major_formatter(plt.FormatStrFormatter('%.2f'))  # Round y-tick labels to 2 decimal places\n",
    "ax.grid(True, linestyle='--')\n",
    "\n",
    "# Get the legend handles\n",
    "handles, labels = axs[0].get_legend_handles_labels()\n",
    "labels_map = {\n",
    "    'compas_sex': 'Compas (sex)',\n",
    "    'compas_race': 'Compas (race)',\n",
    "    'adult_gender': 'Adult (gender)',\n",
    "    'adult_race': 'Adult (race)',\n",
    "    'lsa_race': 'LSA (race)',\n",
    "    'meps_SEX': 'MEPS (sex)',\n",
    "    'meps_RACE': 'MEPS (race)',\n",
    "}\n",
    "labels = [labels_map[l] for l in labels]\n",
    "legend = fig.legend(\n",
    "    handles, labels,\n",
    "    ncol=4,\n",
    "    # title='Method',\n",
    "    loc='upper center', \n",
    "    bbox_to_anchor=(0.5, 1.25), \n",
    "    fancybox=True, shadow=False, \n",
    ")\n",
    "\n",
    "for ax in axs:\n",
    "    ytick_labels = ax.get_yticklabels()\n",
    "    for label in ytick_labels:\n",
    "        label.set_x(0.05)\n",
    "    xtick_labels = ax.get_xticklabels()\n",
    "    for label in xtick_labels:\n",
    "        label.set_y(0.02)\n",
    "    ax.yaxis.set_label_coords(-0.3,0.5)\n",
    "\n",
    "plt.tight_layout()\n",
    "plt.subplots_adjust(wspace=0.55, hspace=0.2)\n",
    "plt.savefig(f'./figs/att_dataset_full.png', bbox_inches='tight', pad_inches=.02, dpi=300)\n",
    "plt.show()"
   ]
  },
  {
   "cell_type": "code",
   "execution_count": 224,
   "metadata": {},
   "outputs": [
    {
     "data": {
      "image/png": "[encoded data removed]",
      "text/plain": [
       "<Figure size 252x180 with 1 Axes>"
      ]
     },
     "metadata": {
      "needs_background": "light"
     },
     "output_type": "display_data"
    }
   ],
   "source": [
    "plt.figure(figsize=(3.5, 2.5))\n",
    "\n",
    "ax = sns.regplot(data=df_res_plot, x='pred_unf', y='ge', scatter=False)\n",
    "sns.scatterplot(\n",
    "    data=df_res_plot, x='pred_unf', y='ge', hue='dataset', style='dataset', \n",
    "    s=100, \n",
    "    alpha=0.9, \n",
    "    # edgecolor='k',\n",
    "    linewidth=0.3,\n",
    "    ax=ax,\n",
    ")\n",
    "\n",
    "handles, labels = ax.get_legend_handles_labels()\n",
    "labels_map = {\n",
    "    'compas_sex': 'Compas (sex)',\n",
    "    'compas_race': 'Compas (race)',\n",
    "    'adult_gender': 'Adult (gender)',\n",
    "    'adult_race': 'Adult (race)',\n",
    "    'lsa_race': 'LSA (race)',\n",
    "    'meps_SEX': 'MEPS (sex)',\n",
    "    'meps_RACE': 'MEPS (race)',\n",
    "}\n",
    "labels = [labels_map[l] for l in labels]\n",
    "# Modify the legend to have 3 columns\n",
    "ax.legend(\n",
    "    handles, labels, \n",
    "    title='Dataset',\n",
    "    ncol=1,\n",
    "    columnspacing=0.5, labelspacing=0.5,\n",
    "    loc='center right', bbox_to_anchor=(1.7, 0.5),\n",
    "    handlelength=1.5, handletextpad=0.5,\n",
    "    fancybox=True, shadow=True\n",
    ")\n",
    "\n",
    "ax.set(\n",
    "    xlabel='Dataset Avg. Bias',\n",
    "    ylabel=r'Generalized Entropy $\\mathbf{(GE)}$',\n",
    ")\n",
    "ax.grid(True, linestyle='--')\n",
    "\n",
    "# plt.tight_layout()\n",
    "plt.savefig(f'./figs/att_dataset.png', bbox_inches='tight', pad_inches=.02, dpi=300)\n",
    "plt.show()"
   ]
  },
  {
   "cell_type": "code",
   "execution_count": 124,
   "metadata": {},
   "outputs": [
    {
     "data": {
      "image/png": "[encoded data removed]",
      "text/plain": [
       "<Figure size 432x201.6 with 3 Axes>"
      ]
     },
     "metadata": {
      "needs_background": "light"
     },
     "output_type": "display_data"
    }
   ],
   "source": [
    "fig, axs = plt.subplots(1, 3, figsize=(6, 2.8))\n",
    "\n",
    "sns.regplot(data=df_res_plot, x='pred_unf', y='dp', ax=axs[0])\n",
    "axs[0].set(\n",
    "    xlabel='Dataset Avg. Bias',\n",
    "    ylabel='Demographic Parity',\n",
    ")\n",
    "axs[0].set(\n",
    "    xlabel='Dataset Avg. Bias',\n",
    "    ylabel='Demographic Parity',\n",
    ")\n",
    "axs[0].grid(True, linestyle='--')\n",
    "\n",
    "\n",
    "sns.regplot(data=df_res_plot, x='pred_unf', y='eo', ax=axs[1])\n",
    "axs[1].set(\n",
    "    xlabel='Dataset Avg. Bias',\n",
    "    ylabel='Equalized Odds',\n",
    ")\n",
    "axs[1].grid(True, linestyle='--')\n",
    "\n",
    "sns.regplot(data=df_res_plot, x='pred_unf', y='ge', ax=axs[2])\n",
    "axs[2].set(\n",
    "    xlabel='Dataset Avg. Bias',\n",
    "    ylabel='Generalized Entropy',\n",
    ")\n",
    "axs[2].yaxis.set_major_formatter(plt.FormatStrFormatter('%.2f'))  # Round y-tick labels to 2 decimal places\n",
    "axs[2].grid(True, linestyle='--')\n",
    "\n",
    "\n",
    "plt.tight_layout()\n",
    "plt.savefig(f'./figs/AIM_unfair_pred.pdf', bbox_inches='tight', pad_inches=.02, dpi=300)\n",
    "plt.show()"
   ]
  }
 ],
 "metadata": {
  "kernelspec": {
   "display_name": "base",
   "language": "python",
   "name": "python3"
  },
  "language_info": {
   "codemirror_mode": {
    "name": "ipython",
    "version": 3
   },
   "file_extension": ".py",
   "mimetype": "text/x-python",
   "name": "python",
   "nbconvert_exporter": "python",
   "pygments_lexer": "ipython3",
   "version": "3.9.12"
  }
 },
 "nbformat": 4,
 "nbformat_minor": 2
}
